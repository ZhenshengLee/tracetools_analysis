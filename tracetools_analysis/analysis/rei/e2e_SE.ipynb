{
 "cells": [
  {
   "cell_type": "code",
   "execution_count": 1,
   "metadata": {},
   "outputs": [
    {
     "name": "stdout",
     "output_type": "stream",
     "text": [
      "['robot_state_publisher', 'lgsvl_interface_node', 'mpc_controller_node', 'filter_transform_vlp16_front', 'filter_transform_vlp16_rear', 'ndt_map_publisher_node', 'ray_ground_classifier', 'euclidean_cluster_cloud_node', 'voxel_grid_cloud_node', 'point_cloud_fusion_nodes', 'transform_listener_impl_5643c5d4b410', 'lane_planner_node', 'parking_planner_node', 'lanelet2_map_provider_node', 'p2d_ndt_localizer_node', 'lanelet2_map_visualizer_node', 'transform_listener_impl_562ede6d8e00', 'behavior_planner_node', 'object_collision_estimator_node', 'off_map_obstacles_filter_node', 'lanelet2_global_planner_node', 'transform_listener_impl_55d80f842250', 'rviz2', 'rosbridge_server_node', 'transform_listener_impl_5648ff3d7c50', 'transform_listener_impl_5648fe7fd6d0']\n"
     ]
    }
   ],
   "source": [
    "import numpy as np\n",
    "import matplotlib.pyplot as plt\n",
    "path = '/home/saitama1/AVP_e2e/ros2_model.txt'\n",
    "f = open(path)\n",
    "#print(type(f))\n",
    "f.close()\n",
    "with open(path) as f:\n",
    "    l = f.readlines()\n",
    "S = l.index('Nodes:\\n')\n",
    "E = l.index('Publishers:\\n')\n",
    "no=[]\n",
    "for i in l[S+3:E-1]:\n",
    "    no.append(i.split()[4])\n",
    "print(no)\n",
    "n= ['point_cloud_fusion_nodes', 'voxel_grid_cloud_node', 'p2d_ndt_localizer_node', 'behavior_planner_node', \n",
    "    'mpc_controller_node', 'lanelet2_global_planner_node', 'robot_state_publisher', 'parking_planner_node',\n",
    "   'ndt_map_publisher_node', 'ray_ground_classifier', 'lgsvl_interface_node',]"
   ]
  },
  {
   "cell_type": "code",
   "execution_count": 5,
   "metadata": {},
   "outputs": [
    {
     "name": "stdout",
     "output_type": "stream",
     "text": [
      "voxel_grid_cloud_node 93833699977776\n",
      "pub: ['rosout', 'parameter_events', 'lidars/points_fused_downsampled']\n",
      "sub: ['parameter_events', 'lidars/points_fused']\n",
      "93833701959280       1628738367100397181   93833699977776   93833702103392                               /lidars/points_fused    10\n",
      "\n",
      "93833702097152\n",
      "93833702097376\n",
      "607 7530.846 656.902\n"
     ]
    },
    {
     "data": {
      "image/png": "[encoded data removed]",
      "text/plain": [
       "<Figure size 432x288 with 1 Axes>"
      ]
     },
     "metadata": {
      "needs_background": "light"
     },
     "output_type": "display_data"
    }
   ],
   "source": [
    "#voxel_grid_cloud_node:cb duration\n",
    "path = '/home/saitama1/AVP_e2e/ros2_model.txt'\n",
    "f = open(path)\n",
    "#print(type(f))\n",
    "f.close()\n",
    "\n",
    "#node handle\n",
    "with open(path) as f:\n",
    "        l = f.readlines()\n",
    "S1 = l.index('Contexts:\\n')\n",
    "E1 = l.index('Publishers:\\n')\n",
    "node = [line for line in l[S1:E1] if n[1] in line]\n",
    "nodename= node[0].split()[4]\n",
    "#print(nodename)\n",
    "nodeh= node[0].split(' ')[0]\n",
    "print(n[1],nodeh)\n",
    "\n",
    "#pub topic\n",
    "S2 = l.index('Publishers:\\n')\n",
    "E2 = l.index('Subscriptions:\\n')\n",
    "pubt = [line for line in l[S2:E2] if nodeh in line]\n",
    "#print(pubt)\n",
    "ptopic=[]\n",
    "for i in pubt:\n",
    "    ptopic.append(i.split(' /')[1].split()[0])\n",
    "print('pub:',ptopic)\n",
    "# print('\\n')\n",
    "\n",
    "#sub topic\n",
    "S3 = l.index('Subscriptions:\\n')\n",
    "E3 = l.index('Subscription objects:\\n')\n",
    "subt = [line for line in l[S3:E3] if nodeh in line]\n",
    "#print(subt)\n",
    "stopic=[]\n",
    "for i in subt:\n",
    "    stopic.append(i.split(' /')[1].split()[0])\n",
    "print('sub:',stopic)\n",
    "\n",
    "#stopic -> callback handle\n",
    "#stopic -> subscription_handle\n",
    "subscription_handle= subt[1].split()[0]\n",
    "print(subt[1])\n",
    "\n",
    "#subscription_handle -> reference\n",
    "S1 = l.index('Subscription objects:\\n')\n",
    "E1 = l.index('Services:\\n')   \n",
    "refer=[]\n",
    "ref = [line for line in l[S1:E1] if subscription_handle in line]\n",
    "refer.append(''.join(ref))\n",
    "reference= refer[0].split()[0]\n",
    "print(reference)\n",
    "\n",
    "#reference -> callback_object\n",
    "S2 = l.index('Callback objects:\\n')\n",
    "E2 = l.index('Callback symbols:\\n')   \n",
    "cboj=[]\n",
    "cb= [line for line in l[S2:E2] if reference in line]\n",
    "cboj.append(''.join(cb))\n",
    "callback_object=cboj[0].split()[2]\n",
    "print(callback_object)\n",
    "\n",
    "t=[]\n",
    "with open(path) as f:\n",
    "    l = f.readlines()\n",
    "S3 = l.index('Callback instances:\\n')\n",
    "E3 = l.index('Lifecycle state machines:\\n')  \n",
    "#print(S,E)\n",
    "l_XXX = [line for line in l[S3:E3] if callback_object in line]\n",
    "\n",
    "S4 = l.index('Callback symbols:\\n')\n",
    "E4 = l.index('Callback instances:\\n')  \n",
    "cb1_name = [line for line in l[S4:E4] if callback_object in line]\n",
    "cb1_name = ''.join(cb1_name)\n",
    "cb1_name = cb1_name.split()[2]+cb1_name.split()[3]\n",
    "#print(cb1_name)\n",
    "\n",
    "cb1d = []\n",
    "for i in l_XXX:\n",
    "    #print(i)\n",
    "    cb1d.append(int(i.split()[3])) \n",
    "cb1d_us = []\n",
    "for i in cb1d:\n",
    "    cb1d_us.append(i/1000)\n",
    "print(len(cb1d_us),max(cb1d_us),min(cb1d_us))\n",
    "\n",
    "fig, ax = plt.subplots(1, 1)\n",
    "ax.xaxis.set_major_formatter(plt.FuncFormatter(lambda x, loc: \"{:,}\".format(int(x))))\n",
    "plt.hist(cb1d_us, bins=100)\n",
    "plt.title(\"voxel_grid_cloud_node\", fontsize=15)\n",
    "plt.xlabel(\"Latency [us]\", fontsize=15)\n",
    "plt.ylabel(\"Sample\", fontsize=15)\n",
    "# plt.savefig(\"voxel_grid_cloud_node.pdf\")\n",
    "plt.xlim(0,300000)\n",
    "plt.savefig(\"voxel_grid_cloud_node300000.pdf\")"
   ]
  },
  {
   "cell_type": "code",
   "execution_count": 6,
   "metadata": {},
   "outputs": [
    {
     "name": "stdout",
     "output_type": "stream",
     "text": [
      "0x55575C7B41E0\n",
      "607 3779.027 113.043\n"
     ]
    },
    {
     "data": {
      "image/png": "[encoded data removed]",
      "text/plain": [
       "<Figure size 432x288 with 1 Axes>"
      ]
     },
     "metadata": {
      "needs_background": "light"
     },
     "output_type": "display_data"
    }
   ],
   "source": [
    "#calculate the voxel_grid_cloud_node com latency\n",
    "path = '/home/saitama1/AVP_e2e/rclcpp_subscribe.txt'\n",
    "f = open(path)\n",
    "#print(type(f))\n",
    "f.close()\n",
    "\n",
    "cb = str(hex(int(callback_object)))\n",
    "cb = cb.upper().replace('X', 'x')\n",
    "print(cb)\n",
    "\n",
    "com1_latency_ns = []\n",
    "with open(path) as f:\n",
    "    l = f.readlines()\n",
    "for i in l:\n",
    "    #print(i)\n",
    "    callback = i.split(\",\")[4].split(\"= \")[1]\n",
    "    #print(callback)\n",
    "    if (callback == cb):\n",
    "        source = i.split(\",\")[29].split(\" = \")[1]\n",
    "        #print(source)\n",
    "        receive = i.split(\",\")[30].split(\" = \")[1]\n",
    "        #print(receive)\n",
    "        com = int(receive) - int(source)\n",
    "        com1_latency_ns.append(com)\n",
    "\n",
    "com1_latency_us = []\n",
    "for i in com1_latency_ns:\n",
    "    com1_latency_us.append(i/1000)\n",
    "print(len(com1_latency_us),max(com1_latency_us),min(com1_latency_us))\n",
    "\n",
    "fig, ax = plt.subplots(1, 1)\n",
    "ax.xaxis.set_major_formatter(plt.FuncFormatter(lambda x, loc: \"{:,}\".format(int(x))))\n",
    "plt.hist(com1_latency_us, bins=100)\n",
    "plt.title('node communication latency', fontsize=15)\n",
    "plt.xlabel(\"Latency [us]\", fontsize=15)\n",
    "plt.ylabel(\"Sample\", fontsize=15)\n",
    "plt.savefig(\"voxel_grid_cloud_node_com.pdf\")"
   ]
  },
  {
   "cell_type": "code",
   "execution_count": 7,
   "metadata": {},
   "outputs": [
    {
     "name": "stdout",
     "output_type": "stream",
     "text": [
      "p2d_ndt_localizer_node 93878629171312\n",
      "pub: ['rosout', 'parameter_events', 'localization/ndt_pose', 'lidars/points_fused_viz', 'tf']\n",
      "sub: ['parameter_events', 'tf', 'tf_static', 'lidars/points_fused_downsampled', 'localization/ndt_map', 'localization/initialpose']\n",
      "93878631490720       1628738367235759012   93878629171312   93878631590704                   /lidars/points_fused_downsampled    10\n",
      "\n",
      "93878631492656\n",
      "93878631492880\n",
      "597 313697.255 304.184\n"
     ]
    },
    {
     "data": {
      "image/png": "[encoded data removed]",
      "text/plain": [
       "<Figure size 432x288 with 1 Axes>"
      ]
     },
     "metadata": {
      "needs_background": "light"
     },
     "output_type": "display_data"
    }
   ],
   "source": [
    "#p2d_ndt_localizer_node:cb duration\n",
    "path = '/home/saitama1/AVP_e2e/ros2_model.txt'\n",
    "f = open(path)\n",
    "#print(type(f))\n",
    "f.close()\n",
    "\n",
    "#node handle\n",
    "with open(path) as f:\n",
    "        l = f.readlines()\n",
    "S1 = l.index('Contexts:\\n')\n",
    "E1 = l.index('Publishers:\\n')\n",
    "node = [line for line in l[S1:E1] if n[2] in line]\n",
    "nodename= node[0].split()[4]\n",
    "#print(nodename)\n",
    "nodeh= node[0].split(' ')[0]\n",
    "print(n[2],nodeh)\n",
    "\n",
    "#pub topic\n",
    "S2 = l.index('Publishers:\\n')\n",
    "E2 = l.index('Subscriptions:\\n')\n",
    "pubt = [line for line in l[S2:E2] if nodeh in line]\n",
    "#print(pubt)\n",
    "ptopic=[]\n",
    "for i in pubt:\n",
    "    ptopic.append(i.split(' /')[1].split()[0])\n",
    "print('pub:',ptopic)\n",
    "# print('\\n')\n",
    "\n",
    "#sub topic\n",
    "S3 = l.index('Subscriptions:\\n')\n",
    "E3 = l.index('Subscription objects:\\n')\n",
    "subt = [line for line in l[S3:E3] if nodeh in line]\n",
    "#print(subt)\n",
    "stopic=[]\n",
    "for i in subt:\n",
    "    stopic.append(i.split(' /')[1].split()[0])\n",
    "print('sub:',stopic)\n",
    "\n",
    "#stopic -> callback handle\n",
    "#stopic -> subscription_handle\n",
    "subscription_handle= subt[3].split()[0]\n",
    "print(subt[3])\n",
    "\n",
    "#subscription_handle -> reference\n",
    "S1 = l.index('Subscription objects:\\n')\n",
    "E1 = l.index('Services:\\n')   \n",
    "refer=[]\n",
    "ref = [line for line in l[S1:E1] if subscription_handle in line]\n",
    "refer.append(''.join(ref))\n",
    "reference= refer[0].split()[0]\n",
    "print(reference)\n",
    "\n",
    "#reference -> callback_object\n",
    "S2 = l.index('Callback objects:\\n')\n",
    "E2 = l.index('Callback symbols:\\n')   \n",
    "cboj=[]\n",
    "cb= [line for line in l[S2:E2] if reference in line]\n",
    "cboj.append(''.join(cb))\n",
    "callback_object=cboj[0].split()[2]\n",
    "print(callback_object)\n",
    "\n",
    "t=[]\n",
    "with open(path) as f:\n",
    "    l = f.readlines()\n",
    "S3 = l.index('Callback instances:\\n')\n",
    "E3 = l.index('Lifecycle state machines:\\n')  \n",
    "#print(S,E)\n",
    "l_XXX = [line for line in l[S3:E3] if callback_object in line]\n",
    "\n",
    "S4 = l.index('Callback symbols:\\n')\n",
    "E4 = l.index('Callback instances:\\n')  \n",
    "cb2_name = [line for line in l[S4:E4] if callback_object in line]\n",
    "cb2_name = ''.join(cb2_name)\n",
    "#cb2_name = cb2_name.split()[2]\n",
    "#print(cb1_name)\n",
    "\n",
    "cb2d = []\n",
    "for i in l_XXX:\n",
    "    #print(i)\n",
    "    cb2d.append(int(i.split()[3])) \n",
    "cb2d_us = []\n",
    "for i in cb2d:\n",
    "    cb2d_us.append(i/1000)\n",
    "print(len(cb2d_us),max(cb2d_us),min(cb2d_us))\n",
    "\n",
    "fig, ax = plt.subplots(1, 1)\n",
    "ax.xaxis.set_major_formatter(plt.FuncFormatter(lambda x, loc: \"{:,}\".format(int(x))))\n",
    "plt.hist(cb2d_us, bins=100)\n",
    "plt.title(\"p2d_ndt_localizer_node\", fontsize=15)\n",
    "plt.xlabel(\"Latency [us]\", fontsize=15)\n",
    "plt.ylabel(\"Sample\", fontsize=15)\n",
    "# plt.xlim(0,3000)\n",
    "plt.savefig(\"p2d_ndt_localizer_node.pdf\")"
   ]
  },
  {
   "cell_type": "code",
   "execution_count": 8,
   "metadata": {},
   "outputs": [
    {
     "name": "stdout",
     "output_type": "stream",
     "text": [
      "0x5561D27B6D10\n",
      "597 4167.728 79.832\n"
     ]
    },
    {
     "data": {
      "image/png": "[encoded data removed]",
      "text/plain": [
       "<Figure size 432x288 with 1 Axes>"
      ]
     },
     "metadata": {
      "needs_background": "light"
     },
     "output_type": "display_data"
    }
   ],
   "source": [
    "#calculate the p2d_ndt_localizer_node com latency\n",
    "path = '/home/saitama1/AVP_e2e/rclcpp_subscribe.txt'\n",
    "f = open(path)\n",
    "#print(type(f))\n",
    "f.close()\n",
    "\n",
    "cb = str(hex(int(callback_object)))\n",
    "cb = cb.upper().replace('X', 'x')\n",
    "print(cb)\n",
    "\n",
    "com2_latency_ns = []\n",
    "with open(path) as f:\n",
    "    l = f.readlines()\n",
    "for i in l:\n",
    "    #print(i)\n",
    "    callback = i.split(\",\")[4].split(\"= \")[1]\n",
    "    #print(callback)\n",
    "    if (callback == cb):\n",
    "        source = i.split(\",\")[29].split(\" = \")[1]\n",
    "        #print(source)\n",
    "        receive = i.split(\",\")[30].split(\" = \")[1]\n",
    "        #print(receive)\n",
    "        com = int(receive) - int(source)\n",
    "        com2_latency_ns.append(com)\n",
    "\n",
    "com2_latency_us = []\n",
    "for i in com2_latency_ns:\n",
    "    com2_latency_us.append(i/1000)\n",
    "print(len(com2_latency_us),max(com2_latency_us),min(com2_latency_us))\n",
    "\n",
    "fig, ax = plt.subplots(1, 1)\n",
    "ax.xaxis.set_major_formatter(plt.FuncFormatter(lambda x, loc: \"{:,}\".format(int(x))))\n",
    "plt.hist(com2_latency_us, bins=100)\n",
    "plt.title('node communication latency', fontsize=15)\n",
    "plt.xlabel(\"Latency [us]\", fontsize=15)\n",
    "plt.ylabel(\"Sample\", fontsize=15)\n",
    "plt.savefig(\"p2d_ndt_localizer_node_com.pdf\")"
   ]
  },
  {
   "cell_type": "code",
   "execution_count": 11,
   "metadata": {},
   "outputs": [
    {
     "name": "stdout",
     "output_type": "stream",
     "text": [
      "behavior_planner_node 94288586914896\n",
      "pub: ['rosout', 'parameter_events', 'planning/trajectory', 'planning/debug/full_trajectory', 'planning/debug/checkpoints', 'planning/debug/current_subroute', 'vehicle/state_command']\n",
      "sub: ['parameter_events', 'tf', 'tf_static', 'planning/plan_lane_trajectory/_action/feedback', 'planning/plan_lane_trajectory/_action/status', 'planning/plan_parking_trajectory/_action/feed...', 'planning/plan_parking_trajectory/_action/status', 'vehicle/vehicle_kinematic_state', 'planning/global_path', 'vehicle/state_report']\n",
      "94288590328288       1628738368416152908   94288586914896   94288590590304                   /vehicle/vehicle_kinematic_state    10\n",
      "\n",
      "94288589798768\n",
      "94288589798992\n",
      "1645 7248.153 23.442\n"
     ]
    },
    {
     "data": {
      "image/png": "[encoded data removed]",
      "text/plain": [
       "<Figure size 432x288 with 1 Axes>"
      ]
     },
     "metadata": {
      "needs_background": "light"
     },
     "output_type": "display_data"
    }
   ],
   "source": [
    "#behavior_planner_node:cb duration\n",
    "path = '/home/saitama1/AVP_e2e/ros2_model.txt'\n",
    "f = open(path)\n",
    "#print(type(f))\n",
    "f.close()\n",
    "\n",
    "#node handle\n",
    "with open(path) as f:\n",
    "        l = f.readlines()\n",
    "S1 = l.index('Contexts:\\n')\n",
    "E1 = l.index('Publishers:\\n')\n",
    "node = [line for line in l[S1:E1] if n[3] in line]\n",
    "nodename= node[0].split()[4]\n",
    "#print(nodename)\n",
    "nodeh= node[0].split(' ')[0]\n",
    "print(n[3],nodeh)\n",
    "\n",
    "#pub topic\n",
    "S2 = l.index('Publishers:\\n')\n",
    "E2 = l.index('Subscriptions:\\n')\n",
    "pubt = [line for line in l[S2:E2] if nodeh in line]\n",
    "#print(pubt)\n",
    "ptopic=[]\n",
    "for i in pubt:\n",
    "    ptopic.append(i.split(' /')[1].split()[0])\n",
    "print('pub:',ptopic)\n",
    "# print('\\n')\n",
    "\n",
    "#sub topic\n",
    "S3 = l.index('Subscriptions:\\n')\n",
    "E3 = l.index('Subscription objects:\\n')\n",
    "subt = [line for line in l[S3:E3] if nodeh in line]\n",
    "#print(subt)\n",
    "stopic=[]\n",
    "for i in subt:\n",
    "    stopic.append(i.split(' /')[1].split()[0])\n",
    "print('sub:',stopic)\n",
    "\n",
    "#stopic -> callback handle\n",
    "#stopic -> subscription_handle\n",
    "subscription_handle= subt[7].split()[0]\n",
    "print(subt[7])\n",
    "\n",
    "#subscription_handle -> reference\n",
    "S1 = l.index('Subscription objects:\\n')\n",
    "E1 = l.index('Services:\\n')   \n",
    "refer=[]\n",
    "ref = [line for line in l[S1:E1] if subscription_handle in line]\n",
    "refer.append(''.join(ref))\n",
    "reference= refer[0].split()[0]\n",
    "print(reference)\n",
    "\n",
    "#reference -> callback_object\n",
    "S2 = l.index('Callback objects:\\n')\n",
    "E2 = l.index('Callback symbols:\\n')   \n",
    "cboj=[]\n",
    "cb= [line for line in l[S2:E2] if reference in line]\n",
    "cboj.append(''.join(cb))\n",
    "callback_object=cboj[0].split()[2]\n",
    "print(callback_object)\n",
    "\n",
    "t=[]\n",
    "with open(path) as f:\n",
    "    l = f.readlines()\n",
    "S3 = l.index('Callback instances:\\n')\n",
    "E3 = l.index('Lifecycle state machines:\\n')  \n",
    "#print(S,E)\n",
    "l_XXX = [line for line in l[S3:E3] if callback_object in line]\n",
    "\n",
    "S4 = l.index('Callback symbols:\\n')\n",
    "E4 = l.index('Callback instances:\\n')  \n",
    "cb3_name = [line for line in l[S4:E4] if callback_object in line]\n",
    "cb3_name = ''.join(cb3_name)\n",
    "cb3_name = cb3_name.split()[2]\n",
    "#print(cb1_name)\n",
    "\n",
    "cb3d = []\n",
    "for i in l_XXX:\n",
    "    #print(i)\n",
    "    cb3d.append(int(i.split()[3])) \n",
    "cb3d_us = []\n",
    "for i in cb3d:\n",
    "    cb3d_us.append(i/1000)\n",
    "print(len(cb3d_us),max(cb3d_us),min(cb3d_us))\n",
    "\n",
    "fig, ax = plt.subplots(1, 1)\n",
    "ax.xaxis.set_major_formatter(plt.FuncFormatter(lambda x, loc: \"{:,}\".format(int(x))))\n",
    "plt.hist(cb3d_us, bins=100)\n",
    "plt.title(\"behavior_planner_node\", fontsize=15)\n",
    "plt.xlabel(\"Latency [us]\", fontsize=15)\n",
    "plt.ylabel(\"Sample\", fontsize=15)\n",
    "# plt.savefig(\"behavior_planner_node.pdf\")\n",
    "plt.xlim(0,300000)\n",
    "plt.savefig(\"behavior_planner_node300000.pdf\")"
   ]
  },
  {
   "cell_type": "code",
   "execution_count": 12,
   "metadata": {},
   "outputs": [
    {
     "name": "stdout",
     "output_type": "stream",
     "text": [
      "0x55C145E6BE50\n",
      "1645 5812.104 56.842\n"
     ]
    },
    {
     "data": {
      "image/png": "[encoded data removed]",
      "text/plain": [
       "<Figure size 432x288 with 1 Axes>"
      ]
     },
     "metadata": {
      "needs_background": "light"
     },
     "output_type": "display_data"
    }
   ],
   "source": [
    "#calculate the behavior_planner_node com latency\n",
    "path = '/home/saitama1/AVP_e2e/rclcpp_subscribe.txt'\n",
    "f = open(path)\n",
    "#print(type(f))\n",
    "f.close()\n",
    "\n",
    "cb = str(hex(int(callback_object)))\n",
    "cb = cb.upper().replace('X', 'x')\n",
    "print(cb)\n",
    "\n",
    "com3_latency_ns = []\n",
    "with open(path) as f:\n",
    "    l = f.readlines()\n",
    "for i in l:\n",
    "    #print(i)\n",
    "    callback = i.split(\",\")[4].split(\"= \")[1]\n",
    "    #print(callback)\n",
    "    if (callback == cb):\n",
    "        source = i.split(\",\")[29].split(\" = \")[1]\n",
    "        #print(source)\n",
    "        receive = i.split(\",\")[30].split(\" = \")[1]\n",
    "        #print(receive)\n",
    "        com = int(receive) - int(source)\n",
    "        com3_latency_ns.append(com)\n",
    "\n",
    "com3_latency_us = []\n",
    "for i in com3_latency_ns:\n",
    "    com3_latency_us.append(i/1000)\n",
    "print(len(com3_latency_us),max(com3_latency_us),min(com3_latency_us))\n",
    "\n",
    "fig, ax = plt.subplots(1, 1)\n",
    "ax.xaxis.set_major_formatter(plt.FuncFormatter(lambda x, loc: \"{:,}\".format(int(x))))\n",
    "plt.hist(com3_latency_us, bins=100)\n",
    "plt.title('node communication latency', fontsize=15)\n",
    "plt.xlabel(\"Latency [us]\", fontsize=15)\n",
    "plt.ylabel(\"Sample\", fontsize=15)\n",
    "plt.savefig(\"behavior_planner_node_com.pdf\")"
   ]
  },
  {
   "cell_type": "code",
   "execution_count": 14,
   "metadata": {},
   "outputs": [
    {
     "name": "stdout",
     "output_type": "stream",
     "text": [
      "mpc_controller_node 94321481881600\n",
      "pub: ['rosout', 'parameter_events', 'vehicle/vehicle_command', 'control/control_diagnostic', 'control/mpc_debug_computed_trajectory']\n",
      "sub: ['parameter_events', 'vehicle/vehicle_kinematic_state', 'planning/trajectory', 'tf', 'tf_static']\n",
      "94321483756112       1628738366959626711   94321481881600   94321483946368                   /vehicle/vehicle_kinematic_state    10\n",
      "\n",
      "94321483844480\n",
      "94321483844704\n",
      "1634 10409.241 8.896 2350.405401468788\n"
     ]
    },
    {
     "data": {
      "image/png": "[encoded data removed]",
      "text/plain": [
       "<Figure size 432x288 with 1 Axes>"
      ]
     },
     "metadata": {
      "needs_background": "light"
     },
     "output_type": "display_data"
    }
   ],
   "source": [
    "#mpc_controller_node:cb duration\n",
    "path = '/home/saitama1/AVP_e2e/ros2_model.txt'\n",
    "f = open(path)\n",
    "#print(type(f))\n",
    "f.close()\n",
    "\n",
    "#node handle\n",
    "with open(path) as f:\n",
    "        l = f.readlines()\n",
    "S1 = l.index('Contexts:\\n')\n",
    "E1 = l.index('Publishers:\\n')\n",
    "node = [line for line in l[S1:E1] if n[4] in line]\n",
    "nodename= node[0].split()[4]\n",
    "#print(nodename)\n",
    "nodeh= node[0].split(' ')[0]\n",
    "print(n[4],nodeh)\n",
    "\n",
    "#pub topic\n",
    "S2 = l.index('Publishers:\\n')\n",
    "E2 = l.index('Subscriptions:\\n')\n",
    "pubt = [line for line in l[S2:E2] if nodeh in line]\n",
    "#print(pubt)\n",
    "ptopic=[]\n",
    "for i in pubt:\n",
    "    ptopic.append(i.split(' /')[1].split()[0])\n",
    "print('pub:',ptopic)\n",
    "# print('\\n')\n",
    "\n",
    "#sub topic\n",
    "S3 = l.index('Subscriptions:\\n')\n",
    "E3 = l.index('Subscription objects:\\n')\n",
    "subt = [line for line in l[S3:E3] if nodeh in line]\n",
    "#print(subt)\n",
    "stopic=[]\n",
    "for i in subt:\n",
    "    stopic.append(i.split(' /')[1].split()[0])\n",
    "print('sub:',stopic)\n",
    "\n",
    "#stopic -> callback handle\n",
    "#stopic -> subscription_handle\n",
    "subscription_handle= subt[1].split()[0]\n",
    "print(subt[1])\n",
    "\n",
    "#subscription_handle -> reference\n",
    "S1 = l.index('Subscription objects:\\n')\n",
    "E1 = l.index('Services:\\n')   \n",
    "refer=[]\n",
    "ref = [line for line in l[S1:E1] if subscription_handle in line]\n",
    "refer.append(''.join(ref))\n",
    "reference= refer[0].split()[0]\n",
    "print(reference)\n",
    "\n",
    "#reference -> callback_object\n",
    "S2 = l.index('Callback objects:\\n')\n",
    "E2 = l.index('Callback symbols:\\n')   \n",
    "cboj=[]\n",
    "cb= [line for line in l[S2:E2] if reference in line]\n",
    "cboj.append(''.join(cb))\n",
    "callback_object=cboj[0].split()[2]\n",
    "print(callback_object)\n",
    "\n",
    "t=[]\n",
    "with open(path) as f:\n",
    "    l = f.readlines()\n",
    "S3 = l.index('Callback instances:\\n')\n",
    "E3 = l.index('Lifecycle state machines:\\n')  \n",
    "#print(S,E)\n",
    "l_XXX = [line for line in l[S3:E3] if callback_object in line]\n",
    "\n",
    "cb4d = []\n",
    "for i in l_XXX:\n",
    "    #print(i)\n",
    "    cb4d.append(int(i.split()[3])) \n",
    "cb4d_us = []\n",
    "for i in cb4d:\n",
    "    cb4d_us.append(i/1000)\n",
    "print(len(cb4d_us),max(cb4d_us),min(cb4d_us),np.average(cb4d_us))\n",
    "\n",
    "fig, ax = plt.subplots(1, 1)\n",
    "ax.xaxis.set_major_formatter(plt.FuncFormatter(lambda x, loc: \"{:,}\".format(int(x))))\n",
    "plt.hist(cb4d_us, bins=100)\n",
    "plt.title(\"mpc_controller_node\", fontsize=15)\n",
    "plt.xlabel(\"Latency [us]\", fontsize=15)\n",
    "plt.ylabel(\"Sample\", fontsize=15)\n",
    "# plt.savefig(\"mpc_controller_node.pdf\")\n",
    "plt.xlim(0,300000)\n",
    "plt.savefig(\"mpc_controller_node300000.pdf\")"
   ]
  },
  {
   "cell_type": "code",
   "execution_count": 9,
   "metadata": {},
   "outputs": [
    {
     "name": "stdout",
     "output_type": "stream",
     "text": [
      "0x55C8EE8A0C60\n",
      "1634 6122.253 48.23\n"
     ]
    },
    {
     "data": {
      "image/png": "[encoded data removed]",
      "text/plain": [
       "<Figure size 432x288 with 1 Axes>"
      ]
     },
     "metadata": {
      "needs_background": "light"
     },
     "output_type": "display_data"
    }
   ],
   "source": [
    "#calculate the mpc_controller_node com latency\n",
    "path = '/home/saitama1/AVP_e2e/rclcpp_subscribe.txt'\n",
    "f = open(path)\n",
    "#print(type(f))\n",
    "f.close()\n",
    "\n",
    "cb = str(hex(int(callback_object)))\n",
    "cb = cb.upper().replace('X', 'x')\n",
    "print(cb)\n",
    "\n",
    "com4_latency_ns = []\n",
    "with open(path) as f:\n",
    "    l = f.readlines()\n",
    "for i in l:\n",
    "    #print(i)\n",
    "    callback = i.split(\",\")[4].split(\"= \")[1]\n",
    "    #print(callback)\n",
    "    if (callback == cb):\n",
    "        source = i.split(\",\")[29].split(\" = \")[1]\n",
    "        #print(source)\n",
    "        receive = i.split(\",\")[30].split(\" = \")[1]\n",
    "        #print(receive)\n",
    "        com = int(receive) - int(source)\n",
    "        com4_latency_ns.append(com)\n",
    "\n",
    "com4_latency_us = []\n",
    "for i in com4_latency_ns:\n",
    "    com4_latency_us.append(i/1000)\n",
    "print(len(com4_latency_us),max(com4_latency_us),min(com4_latency_us))\n",
    "\n",
    "fig, ax = plt.subplots(1, 1)\n",
    "ax.xaxis.set_major_formatter(plt.FuncFormatter(lambda x, loc: \"{:,}\".format(int(x))))\n",
    "plt.hist(com4_latency_us, bins=100)\n",
    "plt.title('node communication latency', fontsize=15)\n",
    "plt.xlabel(\"Latency [us]\", fontsize=15)\n",
    "plt.ylabel(\"Sample\", fontsize=15)\n",
    "plt.savefig(\"mpc_controller_node_com.pdf\")"
   ]
  },
  {
   "cell_type": "code",
   "execution_count": 10,
   "metadata": {},
   "outputs": [
    {
     "name": "stdout",
     "output_type": "stream",
     "text": [
      "lanelet2_global_planner_node 94261946858768\n",
      "pub: ['rosout', 'parameter_events', 'planning/global_path']\n",
      "sub: ['parameter_events', 'tf', 'tf_static', 'planning/goal_pose', 'vehicle/vehicle_kinematic_state']\n",
      "94261949267696       1628738367347396476   94261946858768   94261949334736                   /vehicle/vehicle_kinematic_state    10\n",
      "\n",
      "94261949343024\n",
      "94261949343248\n",
      "1622 2553.23 35.925\n"
     ]
    },
    {
     "data": {
      "image/png": "[encoded data removed]",
      "text/plain": [
       "<Figure size 432x288 with 1 Axes>"
      ]
     },
     "metadata": {
      "needs_background": "light"
     },
     "output_type": "display_data"
    }
   ],
   "source": [
    "#lanelet2_global_planner_node:cb duration\n",
    "path = '/home/saitama1/AVP_e2e/ros2_model.txt'\n",
    "f = open(path)\n",
    "#print(type(f))\n",
    "f.close()\n",
    "\n",
    "#node handle\n",
    "with open(path) as f:\n",
    "        l = f.readlines()\n",
    "S1 = l.index('Contexts:\\n')\n",
    "E1 = l.index('Publishers:\\n')\n",
    "node = [line for line in l[S1:E1] if n[5] in line]\n",
    "nodename= node[0].split()[4]\n",
    "#print(nodename)\n",
    "nodeh= node[0].split(' ')[0]\n",
    "print(n[5],nodeh)\n",
    "\n",
    "#pub topic\n",
    "S2 = l.index('Publishers:\\n')\n",
    "E2 = l.index('Subscriptions:\\n')\n",
    "pubt = [line for line in l[S2:E2] if nodeh in line]\n",
    "#print(pubt)\n",
    "ptopic=[]\n",
    "for i in pubt:\n",
    "    ptopic.append(i.split(' /')[1].split()[0])\n",
    "print('pub:',ptopic)\n",
    "# print('\\n')\n",
    "\n",
    "#sub topic\n",
    "S3 = l.index('Subscriptions:\\n')\n",
    "E3 = l.index('Subscription objects:\\n')\n",
    "subt = [line for line in l[S3:E3] if nodeh in line]\n",
    "#print(subt)\n",
    "stopic=[]\n",
    "for i in subt:\n",
    "    stopic.append(i.split(' /')[1].split()[0])\n",
    "print('sub:',stopic)\n",
    "\n",
    "#stopic -> callback handle\n",
    "#stopic -> subscription_handle\n",
    "subscription_handle= subt[4].split()[0]\n",
    "print(subt[4])\n",
    "\n",
    "#subscription_handle -> reference\n",
    "S1 = l.index('Subscription objects:\\n')\n",
    "E1 = l.index('Services:\\n')   \n",
    "refer=[]\n",
    "ref = [line for line in l[S1:E1] if subscription_handle in line]\n",
    "refer.append(''.join(ref))\n",
    "reference= refer[0].split()[0]\n",
    "print(reference)\n",
    "\n",
    "#reference -> callback_object\n",
    "S2 = l.index('Callback objects:\\n')\n",
    "E2 = l.index('Callback symbols:\\n')   \n",
    "cboj=[]\n",
    "cb= [line for line in l[S2:E2] if reference in line]\n",
    "cboj.append(''.join(cb))\n",
    "callback_object=cboj[0].split()[2]\n",
    "print(callback_object)\n",
    "\n",
    "t=[]\n",
    "with open(path) as f:\n",
    "    l = f.readlines()\n",
    "S3 = l.index('Callback instances:\\n')\n",
    "E3 = l.index('Lifecycle state machines:\\n')  \n",
    "#print(S,E)\n",
    "l_XXX = [line for line in l[S3:E3] if callback_object in line]\n",
    "\n",
    "cb5d = []\n",
    "for i in l_XXX:\n",
    "    #print(i)\n",
    "    cb5d.append(int(i.split()[3])) \n",
    "cb5d_us = []\n",
    "for i in cb5d:\n",
    "    cb5d_us.append(i/1000)\n",
    "print(len(cb5d_us),max(cb5d_us),min(cb5d_us))\n",
    "\n",
    "fig, ax = plt.subplots(1, 1)\n",
    "ax.xaxis.set_major_formatter(plt.FuncFormatter(lambda x, loc: \"{:,}\".format(int(x))))\n",
    "plt.hist(cb5d_us, bins=100)\n",
    "plt.title(\"lanelet2_global_planner_node\", fontsize=15)\n",
    "plt.xlabel(\"Latency [us]\", fontsize=15)\n",
    "plt.ylabel(\"Sample\", fontsize=15)\n",
    "# plt.xlim(0,3000)\n",
    "plt.savefig(\"lanelet2_global_planner_node.pdf\")"
   ]
  },
  {
   "cell_type": "code",
   "execution_count": 11,
   "metadata": {},
   "outputs": [
    {
     "name": "stdout",
     "output_type": "stream",
     "text": [
      "0x55BB1201A610\n",
      "1622 7401.727 55.025\n"
     ]
    },
    {
     "data": {
      "image/png": "[encoded data removed]",
      "text/plain": [
       "<Figure size 432x288 with 1 Axes>"
      ]
     },
     "metadata": {
      "needs_background": "light"
     },
     "output_type": "display_data"
    }
   ],
   "source": [
    "#calculate the lanelet2_global_planner_node com latency\n",
    "path = '/home/saitama1/AVP_e2e/rclcpp_subscribe.txt'\n",
    "f = open(path)\n",
    "#print(type(f))\n",
    "f.close()\n",
    "\n",
    "cb = str(hex(int(callback_object)))\n",
    "cb = cb.upper().replace('X', 'x')\n",
    "print(cb)\n",
    "\n",
    "com5_latency_ns = []\n",
    "with open(path) as f:\n",
    "    l = f.readlines()\n",
    "for i in l:\n",
    "    #print(i)\n",
    "    callback = i.split(\",\")[4].split(\"= \")[1]\n",
    "    #print(callback)\n",
    "    if (callback == cb):\n",
    "        source = i.split(\",\")[29].split(\" = \")[1]\n",
    "        #print(source)\n",
    "        receive = i.split(\",\")[30].split(\" = \")[1]\n",
    "        #print(receive)\n",
    "        com = int(receive) - int(source)\n",
    "        com5_latency_ns.append(com)\n",
    "\n",
    "com5_latency_us = []\n",
    "for i in com5_latency_ns:\n",
    "    com5_latency_us.append(i/1000)\n",
    "print(len(com5_latency_us),max(com5_latency_us),min(com5_latency_us))\n",
    "\n",
    "fig, ax = plt.subplots(1, 1)\n",
    "ax.xaxis.set_major_formatter(plt.FuncFormatter(lambda x, loc: \"{:,}\".format(int(x))))\n",
    "plt.hist(com5_latency_us, bins=100)\n",
    "plt.title('node communication latency', fontsize=15)\n",
    "plt.xlabel(\"Latency [us]\", fontsize=15)\n",
    "plt.ylabel(\"Sample\", fontsize=15)\n",
    "plt.savefig(\"lanelet2_global_planner_node_com.pdf\")"
   ]
  },
  {
   "cell_type": "code",
   "execution_count": 12,
   "metadata": {},
   "outputs": [
    {
     "name": "stdout",
     "output_type": "stream",
     "text": [
      "robot_state_publisher 94456674260720\n",
      "pub: ['rosout', 'parameter_events', 'tf', 'tf_static', 'robot_description']\n",
      "sub: ['parameter_events', 'joint_states']\n",
      "94456676115856       1628738366906346894   94456674260720   94456676246432                                  /parameter_events  1000\n",
      "\n",
      "94456676116432\n",
      "94456676116656\n",
      "258 125.45 2.917\n"
     ]
    },
    {
     "data": {
      "image/png": "[encoded data removed]",
      "text/plain": [
       "<Figure size 432x288 with 1 Axes>"
      ]
     },
     "metadata": {
      "needs_background": "light"
     },
     "output_type": "display_data"
    }
   ],
   "source": [
    "#robot_state_publisher:cb duration\n",
    "path = '/home/saitama1/AVP_e2e/ros2_model.txt'\n",
    "f = open(path)\n",
    "#print(type(f))\n",
    "f.close()\n",
    "\n",
    "#node handle\n",
    "with open(path) as f:\n",
    "        l = f.readlines()\n",
    "S1 = l.index('Contexts:\\n')\n",
    "E1 = l.index('Publishers:\\n')\n",
    "node = [line for line in l[S1:E1] if n[6] in line]\n",
    "nodename= node[0].split()[4]\n",
    "#print(nodename)\n",
    "nodeh= node[0].split(' ')[0]\n",
    "print(n[6],nodeh)\n",
    "\n",
    "#pub topic\n",
    "S2 = l.index('Publishers:\\n')\n",
    "E2 = l.index('Subscriptions:\\n')\n",
    "pubt = [line for line in l[S2:E2] if nodeh in line]\n",
    "#print(pubt)\n",
    "ptopic=[]\n",
    "for i in pubt:\n",
    "    ptopic.append(i.split(' /')[1].split()[0])\n",
    "print('pub:',ptopic)\n",
    "# print('\\n')\n",
    "\n",
    "#sub topic\n",
    "S3 = l.index('Subscriptions:\\n')\n",
    "E3 = l.index('Subscription objects:\\n')\n",
    "subt = [line for line in l[S3:E3] if nodeh in line]\n",
    "#print(subt)\n",
    "stopic=[]\n",
    "for i in subt:\n",
    "    stopic.append(i.split(' /')[1].split()[0])\n",
    "print('sub:',stopic)\n",
    "\n",
    "#stopic -> callback handle\n",
    "#stopic -> subscription_handle\n",
    "subscription_handle= subt[0].split()[0]\n",
    "print(subt[0])\n",
    "\n",
    "#subscription_handle -> reference\n",
    "S1 = l.index('Subscription objects:\\n')\n",
    "E1 = l.index('Services:\\n')   \n",
    "refer=[]\n",
    "ref = [line for line in l[S1:E1] if subscription_handle in line]\n",
    "refer.append(''.join(ref))\n",
    "reference= refer[0].split()[0]\n",
    "print(reference)\n",
    "\n",
    "#reference -> callback_object\n",
    "S2 = l.index('Callback objects:\\n')\n",
    "E2 = l.index('Callback symbols:\\n')   \n",
    "cboj=[]\n",
    "cb= [line for line in l[S2:E2] if reference in line]\n",
    "cboj.append(''.join(cb))\n",
    "callback_object=cboj[0].split()[2]\n",
    "print(callback_object)\n",
    "\n",
    "t=[]\n",
    "with open(path) as f:\n",
    "    l = f.readlines()\n",
    "S3 = l.index('Callback instances:\\n')\n",
    "E3 = l.index('Lifecycle state machines:\\n')  \n",
    "#print(S,E)\n",
    "l_XXX = [line for line in l[S3:E3] if callback_object in line]\n",
    "\n",
    "cb6d = []\n",
    "for i in l_XXX:\n",
    "    #print(i)\n",
    "    cb6d.append(int(i.split()[3])) \n",
    "cb6d_us = []\n",
    "for i in cb6d:\n",
    "    cb6d_us.append(i/1000)\n",
    "print(len(cb6d_us),max(cb6d_us),min(cb6d_us))\n",
    "\n",
    "fig, ax = plt.subplots(1, 1)\n",
    "ax.xaxis.set_major_formatter(plt.FuncFormatter(lambda x, loc: \"{:,}\".format(int(x))))\n",
    "plt.hist(cb6d_us, bins=100)\n",
    "plt.title(\"robot_state_publisher\", fontsize=15)\n",
    "plt.xlabel(\"Latency [us]\", fontsize=15)\n",
    "plt.ylabel(\"Sample\", fontsize=15)\n",
    "# plt.xlim(0,3000)\n",
    "plt.savefig(\"robot_state_publisher.pdf\")"
   ]
  },
  {
   "cell_type": "code",
   "execution_count": 13,
   "metadata": {},
   "outputs": [
    {
     "name": "stdout",
     "output_type": "stream",
     "text": [
      "0x55E868A068B0\n",
      "258 5327.402 24.73\n"
     ]
    },
    {
     "data": {
      "image/png": "[encoded data removed]",
      "text/plain": [
       "<Figure size 432x288 with 1 Axes>"
      ]
     },
     "metadata": {
      "needs_background": "light"
     },
     "output_type": "display_data"
    }
   ],
   "source": [
    "#calculate the robot_state_publisher com latency\n",
    "path = '/home/saitama1/AVP_e2e/rclcpp_subscribe.txt'\n",
    "f = open(path)\n",
    "#print(type(f))\n",
    "f.close()\n",
    "\n",
    "cb = str(hex(int(callback_object)))\n",
    "cb = cb.upper().replace('X', 'x')\n",
    "print(cb)\n",
    "\n",
    "com6_latency_ns = []\n",
    "with open(path) as f:\n",
    "    l = f.readlines()\n",
    "for i in l:\n",
    "    #print(i)\n",
    "    callback = i.split(\",\")[4].split(\"= \")[1]\n",
    "    #print(callback)\n",
    "    if (callback == cb):\n",
    "        source = i.split(\",\")[29].split(\" = \")[1]\n",
    "        #print(source)\n",
    "        receive = i.split(\",\")[30].split(\" = \")[1]\n",
    "        #print(receive)\n",
    "        com = int(receive) - int(source)\n",
    "        com6_latency_ns.append(com)\n",
    "\n",
    "com6_latency_us = []\n",
    "for i in com6_latency_ns:\n",
    "    com6_latency_us.append(i/1000)\n",
    "print(len(com6_latency_us),max(com6_latency_us),min(com6_latency_us))\n",
    "\n",
    "fig, ax = plt.subplots(1, 1)\n",
    "ax.xaxis.set_major_formatter(plt.FuncFormatter(lambda x, loc: \"{:,}\".format(int(x))))\n",
    "plt.hist(com6_latency_us, bins=100)\n",
    "plt.title('node communication latency', fontsize=15)\n",
    "plt.xlabel(\"Latency [us]\", fontsize=15)\n",
    "plt.ylabel(\"Sample\", fontsize=15)\n",
    "plt.savefig(\"robot_state_publisher_com.pdf\")"
   ]
  },
  {
   "cell_type": "code",
   "execution_count": 14,
   "metadata": {},
   "outputs": [
    {
     "name": "stdout",
     "output_type": "stream",
     "text": [
      "parking_planner_node 94815794435504\n",
      "pub: ['rosout', 'parameter_events', 'planning/plan_parking_trajectory/_action/feed...', 'planning/plan_parking_trajectory/_action/status', 'planning/parking_debug_obstacles', 'planning/parking_debug_trajectory', 'planning/parking_debug_start_end']\n",
      "sub: ['parameter_events']\n",
      "94815796211040       1628738367160839382   94815794435504   94815796529232                                  /parameter_events  1000\n",
      "\n",
      "94815796408000\n",
      "94815796408224\n",
      "104 124.512 2.301\n"
     ]
    },
    {
     "data": {
      "image/png": "[encoded data removed]",
      "text/plain": [
       "<Figure size 432x288 with 1 Axes>"
      ]
     },
     "metadata": {
      "needs_background": "light"
     },
     "output_type": "display_data"
    }
   ],
   "source": [
    "#parking_planner_node:cb duration\n",
    "path = '/home/saitama1/AVP_e2e/ros2_model.txt'\n",
    "f = open(path)\n",
    "#print(type(f))\n",
    "f.close()\n",
    "\n",
    "#node handle\n",
    "with open(path) as f:\n",
    "        l = f.readlines()\n",
    "S1 = l.index('Contexts:\\n')\n",
    "E1 = l.index('Publishers:\\n')\n",
    "node = [line for line in l[S1:E1] if n[7] in line]\n",
    "nodename= node[0].split()[4]\n",
    "#print(nodename)\n",
    "nodeh= node[0].split(' ')[0]\n",
    "print(n[7],nodeh)\n",
    "\n",
    "#pub topic\n",
    "S2 = l.index('Publishers:\\n')\n",
    "E2 = l.index('Subscriptions:\\n')\n",
    "pubt = [line for line in l[S2:E2] if nodeh in line]\n",
    "#print(pubt)\n",
    "ptopic=[]\n",
    "for i in pubt:\n",
    "    ptopic.append(i.split(' /')[1].split()[0])\n",
    "print('pub:',ptopic)\n",
    "# print('\\n')\n",
    "\n",
    "#sub topic\n",
    "S3 = l.index('Subscriptions:\\n')\n",
    "E3 = l.index('Subscription objects:\\n')\n",
    "subt = [line for line in l[S3:E3] if nodeh in line]\n",
    "#print(subt)\n",
    "stopic=[]\n",
    "for i in subt:\n",
    "    stopic.append(i.split(' /')[1].split()[0])\n",
    "print('sub:',stopic)\n",
    "\n",
    "#stopic -> callback handle\n",
    "#stopic -> subscription_handle\n",
    "subscription_handle= subt[0].split()[0]\n",
    "print(subt[0])\n",
    "\n",
    "#subscription_handle -> reference\n",
    "S1 = l.index('Subscription objects:\\n')\n",
    "E1 = l.index('Services:\\n')   \n",
    "refer=[]\n",
    "ref = [line for line in l[S1:E1] if subscription_handle in line]\n",
    "refer.append(''.join(ref))\n",
    "reference= refer[0].split()[0]\n",
    "print(reference)\n",
    "\n",
    "#reference -> callback_object\n",
    "S2 = l.index('Callback objects:\\n')\n",
    "E2 = l.index('Callback symbols:\\n')   \n",
    "cboj=[]\n",
    "cb= [line for line in l[S2:E2] if reference in line]\n",
    "cboj.append(''.join(cb))\n",
    "callback_object=cboj[0].split()[2]\n",
    "print(callback_object)\n",
    "\n",
    "t=[]\n",
    "with open(path) as f:\n",
    "    l = f.readlines()\n",
    "S3 = l.index('Callback instances:\\n')\n",
    "E3 = l.index('Lifecycle state machines:\\n')  \n",
    "#print(S,E)\n",
    "l_XXX = [line for line in l[S3:E3] if callback_object in line]\n",
    "\n",
    "cb7d = []\n",
    "for i in l_XXX:\n",
    "    #print(i)\n",
    "    cb7d.append(int(i.split()[3])) \n",
    "cb7d_us = []\n",
    "for i in cb7d:\n",
    "    cb7d_us.append(i/1000)\n",
    "print(len(cb7d_us),max(cb7d_us),min(cb7d_us))\n",
    "\n",
    "fig, ax = plt.subplots(1, 1)\n",
    "ax.xaxis.set_major_formatter(plt.FuncFormatter(lambda x, loc: \"{:,}\".format(int(x))))\n",
    "plt.hist(cb7d_us, bins=100)\n",
    "plt.title(\"parking_planner_node\", fontsize=15)\n",
    "plt.xlabel(\"Latency [us]\", fontsize=15)\n",
    "plt.ylabel(\"Sample\", fontsize=15)\n",
    "# plt.xlim(0,3000)\n",
    "plt.savefig(\"parking_planner_node.pdf\")"
   ]
  },
  {
   "cell_type": "code",
   "execution_count": 15,
   "metadata": {},
   "outputs": [
    {
     "name": "stdout",
     "output_type": "stream",
     "text": [
      "0x563C05DD2FA0\n",
      "104 4958.434 28.744\n"
     ]
    },
    {
     "data": {
      "image/png": "[encoded data removed]",
      "text/plain": [
       "<Figure size 432x288 with 1 Axes>"
      ]
     },
     "metadata": {
      "needs_background": "light"
     },
     "output_type": "display_data"
    }
   ],
   "source": [
    "#calculate the parking_planner_node com latency\n",
    "path = '/home/saitama1/AVP_e2e/rclcpp_subscribe.txt'\n",
    "f = open(path)\n",
    "#print(type(f))\n",
    "f.close()\n",
    "\n",
    "cb = str(hex(int(callback_object)))\n",
    "cb = cb.upper().replace('X', 'x')\n",
    "print(cb)\n",
    "\n",
    "com7_latency_ns = []\n",
    "with open(path) as f:\n",
    "    l = f.readlines()\n",
    "for i in l:\n",
    "    #print(i)\n",
    "    callback = i.split(\",\")[4].split(\"= \")[1]\n",
    "    #print(callback)\n",
    "    if (callback == cb):\n",
    "        source = i.split(\",\")[29].split(\" = \")[1]\n",
    "        #print(source)\n",
    "        receive = i.split(\",\")[30].split(\" = \")[1]\n",
    "        #print(receive)\n",
    "        com = int(receive) - int(source)\n",
    "        com7_latency_ns.append(com)\n",
    "\n",
    "com7_latency_us = []\n",
    "for i in com7_latency_ns:\n",
    "    com7_latency_us.append(i/1000)\n",
    "print(len(com7_latency_us),max(com7_latency_us),min(com7_latency_us))\n",
    "\n",
    "fig, ax = plt.subplots(1, 1)\n",
    "ax.xaxis.set_major_formatter(plt.FuncFormatter(lambda x, loc: \"{:,}\".format(int(x))))\n",
    "plt.hist(com7_latency_us, bins=100)\n",
    "plt.title('node communication latency', fontsize=15)\n",
    "plt.xlabel(\"Latency [us]\", fontsize=15)\n",
    "plt.ylabel(\"Sample\", fontsize=15)\n",
    "plt.savefig(\"parking_planner_node_com.pdf\")"
   ]
  },
  {
   "cell_type": "code",
   "execution_count": 16,
   "metadata": {},
   "outputs": [
    {
     "name": "stdout",
     "output_type": "stream",
     "text": [
      "ndt_map_publisher_node 93913719225184\n",
      "pub: ['rosout', 'parameter_events', 'localization/ndt_map', 'localization/viz_ndt_map', 'tf_static']\n",
      "sub: ['parameter_events']\n",
      "93913721003664       1628738367001587841   93913719225184   93913721269808                                  /parameter_events  1000\n",
      "\n",
      "93913721127360\n",
      "93913721127584\n",
      "167 190.307 2.821\n"
     ]
    },
    {
     "data": {
      "image/png": "[encoded data removed]",
      "text/plain": [
       "<Figure size 432x288 with 1 Axes>"
      ]
     },
     "metadata": {
      "needs_background": "light"
     },
     "output_type": "display_data"
    }
   ],
   "source": [
    "#parking_planner_node:cb duration\n",
    "path = '/home/saitama1/AVP_e2e/ros2_model.txt'\n",
    "f = open(path)\n",
    "#print(type(f))\n",
    "f.close()\n",
    "\n",
    "#node handle\n",
    "with open(path) as f:\n",
    "        l = f.readlines()\n",
    "S1 = l.index('Contexts:\\n')\n",
    "E1 = l.index('Publishers:\\n')\n",
    "node = [line for line in l[S1:E1] if n[8] in line]\n",
    "nodename= node[0].split()[4]\n",
    "#print(nodename)\n",
    "nodeh= node[0].split(' ')[0]\n",
    "print(n[8],nodeh)\n",
    "\n",
    "#pub topic\n",
    "S2 = l.index('Publishers:\\n')\n",
    "E2 = l.index('Subscriptions:\\n')\n",
    "pubt = [line for line in l[S2:E2] if nodeh in line]\n",
    "#print(pubt)\n",
    "ptopic=[]\n",
    "for i in pubt:\n",
    "    ptopic.append(i.split(' /')[1].split()[0])\n",
    "print('pub:',ptopic)\n",
    "# print('\\n')\n",
    "\n",
    "#sub topic\n",
    "S3 = l.index('Subscriptions:\\n')\n",
    "E3 = l.index('Subscription objects:\\n')\n",
    "subt = [line for line in l[S3:E3] if nodeh in line]\n",
    "#print(subt)\n",
    "stopic=[]\n",
    "for i in subt:\n",
    "    stopic.append(i.split(' /')[1].split()[0])\n",
    "print('sub:',stopic)\n",
    "\n",
    "#stopic -> callback handle\n",
    "#stopic -> subscription_handle\n",
    "subscription_handle= subt[0].split()[0]\n",
    "print(subt[0])\n",
    "\n",
    "#subscription_handle -> reference\n",
    "S1 = l.index('Subscription objects:\\n')\n",
    "E1 = l.index('Services:\\n')   \n",
    "refer=[]\n",
    "ref = [line for line in l[S1:E1] if subscription_handle in line]\n",
    "refer.append(''.join(ref))\n",
    "reference= refer[0].split()[0]\n",
    "print(reference)\n",
    "\n",
    "#reference -> callback_object\n",
    "S2 = l.index('Callback objects:\\n')\n",
    "E2 = l.index('Callback symbols:\\n')   \n",
    "cboj=[]\n",
    "cb= [line for line in l[S2:E2] if reference in line]\n",
    "cboj.append(''.join(cb))\n",
    "callback_object=cboj[0].split()[2]\n",
    "print(callback_object)\n",
    "\n",
    "t=[]\n",
    "with open(path) as f:\n",
    "    l = f.readlines()\n",
    "S3 = l.index('Callback instances:\\n')\n",
    "E3 = l.index('Lifecycle state machines:\\n')  \n",
    "#print(S,E)\n",
    "l_XXX = [line for line in l[S3:E3] if callback_object in line]\n",
    "\n",
    "cb8d = []\n",
    "for i in l_XXX:\n",
    "    #print(i)\n",
    "    cb8d.append(int(i.split()[3])) \n",
    "cb8d_us = []\n",
    "for i in cb8d:\n",
    "    cb8d_us.append(i/1000)\n",
    "print(len(cb8d_us),max(cb8d_us),min(cb8d_us))\n",
    "\n",
    "fig, ax = plt.subplots(1, 1)\n",
    "ax.xaxis.set_major_formatter(plt.FuncFormatter(lambda x, loc: \"{:,}\".format(int(x))))\n",
    "plt.hist(cb8d_us, bins=100)\n",
    "plt.title(\"ndt_map_publisher_node\", fontsize=15)\n",
    "plt.xlabel(\"Latency [us]\", fontsize=15)\n",
    "plt.ylabel(\"Sample\", fontsize=15)\n",
    "# plt.xlim(0,3000)\n",
    "plt.savefig(\"ndt_map_publisher_node.pdf\")"
   ]
  },
  {
   "cell_type": "code",
   "execution_count": 17,
   "metadata": {},
   "outputs": [
    {
     "name": "stdout",
     "output_type": "stream",
     "text": [
      "0x5569FDFCC2A0\n",
      "167 5454.351 32.144\n"
     ]
    },
    {
     "data": {
      "image/png": "[encoded data removed]",
      "text/plain": [
       "<Figure size 432x288 with 1 Axes>"
      ]
     },
     "metadata": {
      "needs_background": "light"
     },
     "output_type": "display_data"
    }
   ],
   "source": [
    "#calculate the ndt_map_publisher_node com latency\n",
    "path = '/home/saitama1/AVP_e2e/rclcpp_subscribe.txt'\n",
    "f = open(path)\n",
    "#print(type(f))\n",
    "f.close()\n",
    "\n",
    "cb = str(hex(int(callback_object)))\n",
    "cb = cb.upper().replace('X', 'x')\n",
    "print(cb)\n",
    "\n",
    "com8_latency_ns = []\n",
    "with open(path) as f:\n",
    "    l = f.readlines()\n",
    "for i in l:\n",
    "    #print(i)\n",
    "    callback = i.split(\",\")[4].split(\"= \")[1]\n",
    "    #print(callback)\n",
    "    if (callback == cb):\n",
    "        source = i.split(\",\")[29].split(\" = \")[1]\n",
    "        #print(source)\n",
    "        receive = i.split(\",\")[30].split(\" = \")[1]\n",
    "        #print(receive)\n",
    "        com = int(receive) - int(source)\n",
    "        com8_latency_ns.append(com)\n",
    "\n",
    "com8_latency_us = []\n",
    "for i in com8_latency_ns:\n",
    "    com8_latency_us.append(i/1000)\n",
    "print(len(com8_latency_us),max(com8_latency_us),min(com8_latency_us))\n",
    "\n",
    "fig, ax = plt.subplots(1, 1)\n",
    "ax.xaxis.set_major_formatter(plt.FuncFormatter(lambda x, loc: \"{:,}\".format(int(x))))\n",
    "plt.hist(com8_latency_us, bins=100)\n",
    "plt.title('node communication latency', fontsize=15)\n",
    "plt.xlabel(\"Latency [us]\", fontsize=15)\n",
    "plt.ylabel(\"Sample\", fontsize=15)\n",
    "plt.savefig(\"ndt_map_publisher_node_com.pdf\")"
   ]
  },
  {
   "cell_type": "code",
   "execution_count": 18,
   "metadata": {},
   "outputs": [
    {
     "name": "stdout",
     "output_type": "stream",
     "text": [
      "ray_ground_classifier 93883933421840\n",
      "pub: ['rosout', 'parameter_events', 'perception/points_ground', 'perception/points_nonground']\n",
      "sub: ['parameter_events', 'lidars/points_fused']\n",
      "93883940735024       1628738367091779200   93883933421840   93883935530784                               /lidars/points_fused    10\n",
      "\n",
      "93883940735104\n",
      "93883940735328\n",
      "607 7431.587 996.137\n"
     ]
    },
    {
     "data": {
      "image/png": "[encoded data removed]",
      "text/plain": [
       "<Figure size 432x288 with 1 Axes>"
      ]
     },
     "metadata": {
      "needs_background": "light"
     },
     "output_type": "display_data"
    }
   ],
   "source": [
    "#parking_planner_node:cb duration\n",
    "path = '/home/saitama1/AVP_e2e/ros2_model.txt'\n",
    "f = open(path)\n",
    "#print(type(f))\n",
    "f.close()\n",
    "\n",
    "#node handle\n",
    "with open(path) as f:\n",
    "        l = f.readlines()\n",
    "S1 = l.index('Contexts:\\n')\n",
    "E1 = l.index('Publishers:\\n')\n",
    "node = [line for line in l[S1:E1] if n[9] in line]\n",
    "nodename= node[0].split()[4]\n",
    "#print(nodename)\n",
    "nodeh= node[0].split(' ')[0]\n",
    "print(n[9],nodeh)\n",
    "\n",
    "#pub topic\n",
    "S2 = l.index('Publishers:\\n')\n",
    "E2 = l.index('Subscriptions:\\n')\n",
    "pubt = [line for line in l[S2:E2] if nodeh in line]\n",
    "#print(pubt)\n",
    "ptopic=[]\n",
    "for i in pubt:\n",
    "    ptopic.append(i.split(' /')[1].split()[0])\n",
    "print('pub:',ptopic)\n",
    "# print('\\n')\n",
    "\n",
    "#sub topic\n",
    "S3 = l.index('Subscriptions:\\n')\n",
    "E3 = l.index('Subscription objects:\\n')\n",
    "subt = [line for line in l[S3:E3] if nodeh in line]\n",
    "#print(subt)\n",
    "stopic=[]\n",
    "for i in subt:\n",
    "    stopic.append(i.split(' /')[1].split()[0])\n",
    "print('sub:',stopic)\n",
    "\n",
    "#stopic -> callback handle\n",
    "#stopic -> subscription_handle\n",
    "subscription_handle= subt[1].split()[0]\n",
    "print(subt[1])\n",
    "\n",
    "#subscription_handle -> reference\n",
    "S1 = l.index('Subscription objects:\\n')\n",
    "E1 = l.index('Services:\\n')   \n",
    "refer=[]\n",
    "ref = [line for line in l[S1:E1] if subscription_handle in line]\n",
    "refer.append(''.join(ref))\n",
    "reference= refer[0].split()[0]\n",
    "print(reference)\n",
    "\n",
    "#reference -> callback_object\n",
    "S2 = l.index('Callback objects:\\n')\n",
    "E2 = l.index('Callback symbols:\\n')   \n",
    "cboj=[]\n",
    "cb= [line for line in l[S2:E2] if reference in line]\n",
    "cboj.append(''.join(cb))\n",
    "callback_object=cboj[0].split()[2]\n",
    "print(callback_object)\n",
    "\n",
    "t=[]\n",
    "with open(path) as f:\n",
    "    l = f.readlines()\n",
    "S3 = l.index('Callback instances:\\n')\n",
    "E3 = l.index('Lifecycle state machines:\\n')  \n",
    "#print(S,E)\n",
    "l_XXX = [line for line in l[S3:E3] if callback_object in line]\n",
    "\n",
    "cb9d = []\n",
    "for i in l_XXX:\n",
    "    #print(i)\n",
    "    cb9d.append(int(i.split()[3])) \n",
    "cb9d_us = []\n",
    "for i in cb9d:\n",
    "    cb9d_us.append(i/1000)\n",
    "print(len(cb9d_us),max(cb9d_us),min(cb9d_us))\n",
    "\n",
    "fig, ax = plt.subplots(1, 1)\n",
    "ax.xaxis.set_major_formatter(plt.FuncFormatter(lambda x, loc: \"{:,}\".format(int(x))))\n",
    "plt.hist(cb9d_us, bins=100)\n",
    "plt.title(\"ray_ground_classifier\", fontsize=15)\n",
    "plt.xlabel(\"Latency [us]\", fontsize=15)\n",
    "plt.ylabel(\"Sample\", fontsize=15)\n",
    "# plt.xlim(0,3000)\n",
    "plt.savefig(\"ray_ground_classifier.pdf\")"
   ]
  },
  {
   "cell_type": "code",
   "execution_count": 19,
   "metadata": {},
   "outputs": [
    {
     "name": "stdout",
     "output_type": "stream",
     "text": [
      "0x55630EF00960\n",
      "607 3846.991 117.723\n"
     ]
    },
    {
     "data": {
      "image/png": "[encoded data removed]",
      "text/plain": [
       "<Figure size 432x288 with 1 Axes>"
      ]
     },
     "metadata": {
      "needs_background": "light"
     },
     "output_type": "display_data"
    }
   ],
   "source": [
    "#calculate the ray_ground_classifier com latency\n",
    "path = '/home/saitama1/AVP_e2e/rclcpp_subscribe.txt'\n",
    "f = open(path)\n",
    "#print(type(f))\n",
    "f.close()\n",
    "\n",
    "cb = str(hex(int(callback_object)))\n",
    "cb = cb.upper().replace('X', 'x')\n",
    "print(cb)\n",
    "\n",
    "com9_latency_ns = []\n",
    "with open(path) as f:\n",
    "    l = f.readlines()\n",
    "for i in l:\n",
    "    #print(i)\n",
    "    callback = i.split(\",\")[4].split(\"= \")[1]\n",
    "    #print(callback)\n",
    "    if (callback == cb):\n",
    "        source = i.split(\",\")[29].split(\" = \")[1]\n",
    "        #print(source)\n",
    "        receive = i.split(\",\")[30].split(\" = \")[1]\n",
    "        #print(receive)\n",
    "        com = int(receive) - int(source)\n",
    "        com9_latency_ns.append(com)\n",
    "\n",
    "com9_latency_us = []\n",
    "for i in com9_latency_ns:\n",
    "    com9_latency_us.append(i/1000)\n",
    "print(len(com9_latency_us),max(com9_latency_us),min(com9_latency_us))\n",
    "\n",
    "fig, ax = plt.subplots(1, 1)\n",
    "ax.xaxis.set_major_formatter(plt.FuncFormatter(lambda x, loc: \"{:,}\".format(int(x))))\n",
    "plt.hist(com9_latency_us, bins=100)\n",
    "plt.title('node communication latency', fontsize=15)\n",
    "plt.xlabel(\"Latency [us]\", fontsize=15)\n",
    "plt.ylabel(\"Sample\", fontsize=15)\n",
    "plt.savefig(\"ray_ground_classifier_com.pdf\")"
   ]
  },
  {
   "cell_type": "code",
   "execution_count": 20,
   "metadata": {},
   "outputs": [
    {
     "name": "stdout",
     "output_type": "stream",
     "text": [
      "lgsvl_interface_node 94849078808720\n",
      "pub: ['rosout', 'parameter_events', 'vehicle/state_report', 'vehicle/odometry', 'lgsvl/vehicle_control_cmd', 'lgsvl/vehicle_state_cmd', 'vehicle/vehicle_kinematic_state', 'gnss/pose', 'tf']\n",
      "sub: ['parameter_events', 'vehicle/state_command', 'vehicle/vehicle_command', 'lgsvl/gnss_odom', 'lgsvl/state_report', 'lgsvl/vehicle_odom']\n",
      "94849081234864       1628738367016443241   94849078808720   94849081302592                                   /lgsvl/gnss_odom    10\n",
      "\n",
      "94849081081456\n",
      "94849081081680\n",
      "1645 4544.475 23.552\n"
     ]
    },
    {
     "data": {
      "image/png": "[encoded data removed]",
      "text/plain": [
       "<Figure size 432x288 with 1 Axes>"
      ]
     },
     "metadata": {
      "needs_background": "light"
     },
     "output_type": "display_data"
    }
   ],
   "source": [
    "#lgsvl_interface_node:cb duration\n",
    "path = '/home/saitama1/AVP_e2e/ros2_model.txt'\n",
    "f = open(path)\n",
    "#print(type(f))\n",
    "f.close()\n",
    "\n",
    "#node handle\n",
    "with open(path) as f:\n",
    "        l = f.readlines()\n",
    "S1 = l.index('Contexts:\\n')\n",
    "E1 = l.index('Publishers:\\n')\n",
    "node = [line for line in l[S1:E1] if n[10] in line]\n",
    "nodename= node[0].split()[4]\n",
    "#print(nodename)\n",
    "nodeh= node[0].split(' ')[0]\n",
    "print(n[10],nodeh)\n",
    "\n",
    "#pub topic\n",
    "S2 = l.index('Publishers:\\n')\n",
    "E2 = l.index('Subscriptions:\\n')\n",
    "pubt = [line for line in l[S2:E2] if nodeh in line]\n",
    "#print(pubt)\n",
    "ptopic=[]\n",
    "for i in pubt:\n",
    "    ptopic.append(i.split(' /')[1].split()[0])\n",
    "print('pub:',ptopic)\n",
    "# print('\\n')\n",
    "\n",
    "#sub topic\n",
    "S3 = l.index('Subscriptions:\\n')\n",
    "E3 = l.index('Subscription objects:\\n')\n",
    "subt = [line for line in l[S3:E3] if nodeh in line]\n",
    "#print(subt)\n",
    "stopic=[]\n",
    "for i in subt:\n",
    "    stopic.append(i.split(' /')[1].split()[0])\n",
    "print('sub:',stopic)\n",
    "\n",
    "#stopic -> callback handle\n",
    "#stopic -> subscription_handle\n",
    "subscription_handle= subt[3].split()[0]\n",
    "print(subt[3])\n",
    "\n",
    "#subscription_handle -> reference\n",
    "S1 = l.index('Subscription objects:\\n')\n",
    "E1 = l.index('Services:\\n')   \n",
    "refer=[]\n",
    "ref = [line for line in l[S1:E1] if subscription_handle in line]\n",
    "refer.append(''.join(ref))\n",
    "reference= refer[0].split()[0]\n",
    "print(reference)\n",
    "\n",
    "#reference -> callback_object\n",
    "S2 = l.index('Callback objects:\\n')\n",
    "E2 = l.index('Callback symbols:\\n')   \n",
    "cboj=[]\n",
    "cb= [line for line in l[S2:E2] if reference in line]\n",
    "cboj.append(''.join(cb))\n",
    "callback_object=cboj[0].split()[2]\n",
    "print(callback_object)\n",
    "\n",
    "t=[]\n",
    "with open(path) as f:\n",
    "    l = f.readlines()\n",
    "S3 = l.index('Callback instances:\\n')\n",
    "E3 = l.index('Lifecycle state machines:\\n')  \n",
    "#print(S,E)\n",
    "l_XXX = [line for line in l[S3:E3] if callback_object in line]\n",
    "\n",
    "cb10d = []\n",
    "for i in l_XXX:\n",
    "    #print(i)\n",
    "    cb10d.append(int(i.split()[3])) \n",
    "cb10d_us = []\n",
    "for i in cb10d:\n",
    "    cb10d_us.append(i/1000)\n",
    "print(len(cb10d_us),max(cb10d_us),min(cb10d_us))\n",
    "\n",
    "fig, ax = plt.subplots(1, 1)\n",
    "ax.xaxis.set_major_formatter(plt.FuncFormatter(lambda x, loc: \"{:,}\".format(int(x))))\n",
    "plt.hist(cb10d_us, bins=100)\n",
    "plt.title(\"lgsvl_interface_node\", fontsize=15)\n",
    "plt.xlabel(\"Latency [us]\", fontsize=15)\n",
    "plt.ylabel(\"Sample\", fontsize=15)\n",
    "# plt.xlim(0,3000)\n",
    "plt.savefig(\"lgsvl_interface_node.pdf\")"
   ]
  },
  {
   "cell_type": "code",
   "execution_count": 21,
   "metadata": {},
   "outputs": [
    {
     "name": "stdout",
     "output_type": "stream",
     "text": [
      "0x5643C5C8FF50\n",
      "1645 6592.787 54.059\n"
     ]
    },
    {
     "data": {
      "image/png": "[encoded data removed]",
      "text/plain": [
       "<Figure size 432x288 with 1 Axes>"
      ]
     },
     "metadata": {
      "needs_background": "light"
     },
     "output_type": "display_data"
    }
   ],
   "source": [
    "#calculate the ray_ground_classifier com latency\n",
    "path = '/home/saitama1/AVP_e2e/rclcpp_subscribe.txt'\n",
    "f = open(path)\n",
    "#print(type(f))\n",
    "f.close()\n",
    "\n",
    "cb = str(hex(int(callback_object)))\n",
    "cb = cb.upper().replace('X', 'x')\n",
    "print(cb)\n",
    "\n",
    "com10_latency_ns = []\n",
    "with open(path) as f:\n",
    "    l = f.readlines()\n",
    "for i in l:\n",
    "    #print(i)\n",
    "    callback = i.split(\",\")[4].split(\"= \")[1]\n",
    "    #print(callback)\n",
    "    if (callback == cb):\n",
    "        source = i.split(\",\")[29].split(\" = \")[1]\n",
    "        #print(source)\n",
    "        receive = i.split(\",\")[30].split(\" = \")[1]\n",
    "        #print(receive)\n",
    "        com = int(receive) - int(source)\n",
    "        com10_latency_ns.append(com)\n",
    "\n",
    "com10_latency_us = []\n",
    "for i in com10_latency_ns:\n",
    "    com10_latency_us.append(i/1000)\n",
    "print(len(com10_latency_us),max(com10_latency_us),min(com10_latency_us))\n",
    "\n",
    "fig, ax = plt.subplots(1, 1)\n",
    "ax.xaxis.set_major_formatter(plt.FuncFormatter(lambda x, loc: \"{:,}\".format(int(x))))\n",
    "plt.hist(com10_latency_us, bins=100)\n",
    "plt.title('node communication latency', fontsize=15)\n",
    "plt.xlabel(\"Latency [us]\", fontsize=15)\n",
    "plt.ylabel(\"Sample\", fontsize=15)\n",
    "plt.savefig(\"ray_ground_classifier_com.pdf\")"
   ]
  },
  {
   "cell_type": "markdown",
   "metadata": {},
   "source": [
    "#calculate the lgsvl_interface_node com latency\n",
    "path = '/home/saitama1/AVP_e2e/rclcpp_subscribe.txt'\n",
    "f = open(path)\n",
    "#print(type(f))\n",
    "f.close()\n",
    "\n",
    "cb = str(hex(int(callback_object)))\n",
    "cb = cb.upper().replace('X', 'x')\n",
    "print(cb)\n",
    "\n",
    "com10_latency_ns = []\n",
    "with open(path) as f:\n",
    "    l = f.readlines()\n",
    "for i in l:\n",
    "    #print(i)\n",
    "    callback = i.split(\",\")[4].split(\"= \")[1]\n",
    "    #print(callback)\n",
    "    if (callback == cb):\n",
    "        source = i.split(\",\")[29].split(\" = \")[1]\n",
    "        #print(source)\n",
    "        receive = i.split(\",\")[30].split(\" = \")[1]\n",
    "        #print(receive)\n",
    "        com = int(receive) - int(source)\n",
    "        com10_latency_ns.append(com)\n",
    "\n",
    "com10_latency_us = []\n",
    "for i in com10_latency_ns:\n",
    "    com10_latency_us.append(i/1000)\n",
    "print(len(com10_latency_us),max(com10_latency_us),min(com10_latency_us))\n",
    "\n",
    "fig, ax = plt.subplots(1, 1)\n",
    "ax.xaxis.set_major_formatter(plt.FuncFormatter(lambda x, loc: \"{:,}\".format(int(x))))\n",
    "plt.hist(com10_latency_us, bins=100)\n",
    "plt.title('lgsvl_interface_node com latency', fontsize=15)\n",
    "plt.xlabel(\"Latency [us]\", fontsize=15)\n",
    "plt.ylabel(\"Sample\", fontsize=15)\n",
    "plt.savefig(\"lgsvl_interface_node_com.pdf\")"
   ]
  },
  {
   "cell_type": "code",
   "execution_count": 22,
   "metadata": {},
   "outputs": [
    {
     "name": "stdout",
     "output_type": "stream",
     "text": [
      "607\n"
     ]
    },
    {
     "data": {
      "text/plain": [
       "Text(0, 0.5, 'Sample')"
      ]
     },
     "execution_count": 22,
     "metadata": {},
     "output_type": "execute_result"
    },
    {
     "data": {
      "image/png": "[encoded data removed]",
      "text/plain": [
       "<Figure size 432x288 with 1 Axes>"
      ]
     },
     "metadata": {
      "needs_background": "light"
     },
     "output_type": "display_data"
    }
   ],
   "source": [
    "#voxel_grid_cloud_node\n",
    "P1 = [cb1d_us[i]+com1_latency_us[i] for i in range(min(len(cb1d_us),len(com1_latency_us)))]\n",
    "print(len(P1))\n",
    "fig, ax = plt.subplots(1, 1)\n",
    "ax.xaxis.set_major_formatter(plt.FuncFormatter(lambda x, loc: \"{:,}\".format(int(x))))\n",
    "plt.hist(P1, bins=100)\n",
    "plt.title('node communication latency')\n",
    "plt.xlabel('Latency [ns]')\n",
    "plt.ylabel('Sample')\n",
    "# plt.xlim(0,1200000)"
   ]
  },
  {
   "cell_type": "code",
   "execution_count": 23,
   "metadata": {},
   "outputs": [
    {
     "name": "stdout",
     "output_type": "stream",
     "text": [
      "597\n"
     ]
    },
    {
     "data": {
      "text/plain": [
       "Text(0, 0.5, 'Sample')"
      ]
     },
     "execution_count": 23,
     "metadata": {},
     "output_type": "execute_result"
    },
    {
     "data": {
      "image/png": "[encoded data removed]",
      "text/plain": [
       "<Figure size 432x288 with 1 Axes>"
      ]
     },
     "metadata": {
      "needs_background": "light"
     },
     "output_type": "display_data"
    }
   ],
   "source": [
    "#p2d_ndt_localizer_node\n",
    "P2 = [cb2d_us[i]+com2_latency_us[i] for i in range(min(len(cb2d_us),len(com2_latency_us)))]\n",
    "print(len(P2))\n",
    "fig, ax = plt.subplots(1, 1)\n",
    "ax.xaxis.set_major_formatter(plt.FuncFormatter(lambda x, loc: \"{:,}\".format(int(x))))\n",
    "plt.hist(P2, bins=100)\n",
    "plt.title('p2d_ndt_localizer_node latency')\n",
    "plt.xlabel('Latency [ns]')\n",
    "plt.ylabel('Sample')\n",
    "# plt.xlim(0,1200000)"
   ]
  },
  {
   "cell_type": "code",
   "execution_count": 24,
   "metadata": {},
   "outputs": [
    {
     "name": "stdout",
     "output_type": "stream",
     "text": [
      "1645\n"
     ]
    },
    {
     "data": {
      "text/plain": [
       "Text(0, 0.5, 'Sample')"
      ]
     },
     "execution_count": 24,
     "metadata": {},
     "output_type": "execute_result"
    },
    {
     "data": {
      "image/png": "[encoded data removed]",
      "text/plain": [
       "<Figure size 432x288 with 1 Axes>"
      ]
     },
     "metadata": {
      "needs_background": "light"
     },
     "output_type": "display_data"
    }
   ],
   "source": [
    "#behavior_planner_node\n",
    "P3 = [cb3d_us[i]+com3_latency_us[i] for i in range(min(len(cb3d_us),len(com3_latency_us)))]\n",
    "print(len(P3))\n",
    "fig, ax = plt.subplots(1, 1)\n",
    "ax.xaxis.set_major_formatter(plt.FuncFormatter(lambda x, loc: \"{:,}\".format(int(x))))\n",
    "plt.hist(P3, bins=100)\n",
    "plt.title('behavior_planner_node latency')\n",
    "plt.xlabel('Latency [ns]')\n",
    "plt.ylabel('Sample')\n",
    "# plt.xlim(0,1200000)"
   ]
  },
  {
   "cell_type": "code",
   "execution_count": 25,
   "metadata": {},
   "outputs": [
    {
     "name": "stdout",
     "output_type": "stream",
     "text": [
      "1634\n"
     ]
    },
    {
     "data": {
      "text/plain": [
       "Text(0, 0.5, 'Sample')"
      ]
     },
     "execution_count": 25,
     "metadata": {},
     "output_type": "execute_result"
    },
    {
     "data": {
      "image/png": "[encoded data removed]",
      "text/plain": [
       "<Figure size 432x288 with 1 Axes>"
      ]
     },
     "metadata": {
      "needs_background": "light"
     },
     "output_type": "display_data"
    }
   ],
   "source": [
    "#mpc_controller_node\n",
    "P4 = [cb4d_us[i]+com4_latency_us[i] for i in range(min(len(cb4d_us),len(com4_latency_us)))]\n",
    "print(len(P4))\n",
    "fig, ax = plt.subplots(1, 1)\n",
    "ax.xaxis.set_major_formatter(plt.FuncFormatter(lambda x, loc: \"{:,}\".format(int(x))))\n",
    "plt.hist(P4, bins=100)\n",
    "plt.title('mpc_controller_node latency')\n",
    "plt.xlabel('Latency [ns]')\n",
    "plt.ylabel('Sample')\n",
    "# plt.xlim(0,1200000)"
   ]
  },
  {
   "cell_type": "code",
   "execution_count": 26,
   "metadata": {},
   "outputs": [
    {
     "name": "stdout",
     "output_type": "stream",
     "text": [
      "1622\n"
     ]
    },
    {
     "data": {
      "text/plain": [
       "Text(0, 0.5, 'Sample')"
      ]
     },
     "execution_count": 26,
     "metadata": {},
     "output_type": "execute_result"
    },
    {
     "data": {
      "image/png": "[encoded data removed]",
      "text/plain": [
       "<Figure size 432x288 with 1 Axes>"
      ]
     },
     "metadata": {
      "needs_background": "light"
     },
     "output_type": "display_data"
    }
   ],
   "source": [
    "#lanelet2_global_planner_node\n",
    "P5 = [cb5d_us[i]+com5_latency_us[i] for i in range(min(len(cb5d_us),len(com5_latency_us)))]\n",
    "print(len(P5))\n",
    "fig, ax = plt.subplots(1, 1)\n",
    "ax.xaxis.set_major_formatter(plt.FuncFormatter(lambda x, loc: \"{:,}\".format(int(x))))\n",
    "plt.hist(P5, bins=100)\n",
    "plt.title('lanelet2_global_planner_node latency')\n",
    "plt.xlabel('Latency [ns]')\n",
    "plt.ylabel('Sample')\n",
    "# plt.xlim(0,1200000)"
   ]
  },
  {
   "cell_type": "code",
   "execution_count": 27,
   "metadata": {},
   "outputs": [
    {
     "name": "stdout",
     "output_type": "stream",
     "text": [
      "258\n"
     ]
    },
    {
     "data": {
      "text/plain": [
       "Text(0, 0.5, 'Sample')"
      ]
     },
     "execution_count": 27,
     "metadata": {},
     "output_type": "execute_result"
    },
    {
     "data": {
      "image/png": "[encoded data removed]",
      "text/plain": [
       "<Figure size 432x288 with 1 Axes>"
      ]
     },
     "metadata": {
      "needs_background": "light"
     },
     "output_type": "display_data"
    }
   ],
   "source": [
    "#robot_state_publisher\n",
    "P6 = [cb6d_us[i]+com6_latency_us[i] for i in range(min(len(cb6d_us),len(com6_latency_us)))]\n",
    "print(len(P6))\n",
    "fig, ax = plt.subplots(1, 1)\n",
    "ax.xaxis.set_major_formatter(plt.FuncFormatter(lambda x, loc: \"{:,}\".format(int(x))))\n",
    "plt.hist(P6, bins=100)\n",
    "plt.title('robot_state_publisher latency')\n",
    "plt.xlabel('Latency [ns]')\n",
    "plt.ylabel('Sample')\n",
    "# plt.xlim(0,1200000)"
   ]
  },
  {
   "cell_type": "code",
   "execution_count": 28,
   "metadata": {},
   "outputs": [
    {
     "name": "stdout",
     "output_type": "stream",
     "text": [
      "104\n"
     ]
    },
    {
     "data": {
      "text/plain": [
       "Text(0, 0.5, 'Sample')"
      ]
     },
     "execution_count": 28,
     "metadata": {},
     "output_type": "execute_result"
    },
    {
     "data": {
      "image/png": "[encoded data removed]",
      "text/plain": [
       "<Figure size 432x288 with 1 Axes>"
      ]
     },
     "metadata": {
      "needs_background": "light"
     },
     "output_type": "display_data"
    }
   ],
   "source": [
    "#parking_planner_node\n",
    "P7 = [cb7d_us[i]+com7_latency_us[i] for i in range(min(len(cb7d_us),len(com7_latency_us)))]\n",
    "print(len(P7))\n",
    "fig, ax = plt.subplots(1, 1)\n",
    "ax.xaxis.set_major_formatter(plt.FuncFormatter(lambda x, loc: \"{:,}\".format(int(x))))\n",
    "plt.hist(P7, bins=100)\n",
    "plt.title('parking_planner_node latency')\n",
    "plt.xlabel('Latency [ns]')\n",
    "plt.ylabel('Sample')\n",
    "# plt.xlim(0,1200000)"
   ]
  },
  {
   "cell_type": "code",
   "execution_count": 29,
   "metadata": {},
   "outputs": [
    {
     "name": "stdout",
     "output_type": "stream",
     "text": [
      "167\n"
     ]
    },
    {
     "data": {
      "text/plain": [
       "Text(0, 0.5, 'Sample')"
      ]
     },
     "execution_count": 29,
     "metadata": {},
     "output_type": "execute_result"
    },
    {
     "data": {
      "image/png": "[encoded data removed]",
      "text/plain": [
       "<Figure size 432x288 with 1 Axes>"
      ]
     },
     "metadata": {
      "needs_background": "light"
     },
     "output_type": "display_data"
    }
   ],
   "source": [
    "#ndt_map_publisher_node\n",
    "P8 = [cb8d_us[i]+com8_latency_us[i] for i in range(min(len(cb8d_us),len(com8_latency_us)))]\n",
    "print(len(P8))\n",
    "fig, ax = plt.subplots(1, 1)\n",
    "ax.xaxis.set_major_formatter(plt.FuncFormatter(lambda x, loc: \"{:,}\".format(int(x))))\n",
    "plt.hist(P8, bins=100)\n",
    "plt.title('ndt_map_publisher_node latency')\n",
    "plt.xlabel('Latency [ns]')\n",
    "plt.ylabel('Sample')\n",
    "# plt.xlim(0,1200000)"
   ]
  },
  {
   "cell_type": "code",
   "execution_count": 30,
   "metadata": {},
   "outputs": [
    {
     "name": "stdout",
     "output_type": "stream",
     "text": [
      "607\n"
     ]
    },
    {
     "data": {
      "text/plain": [
       "Text(0, 0.5, 'Sample')"
      ]
     },
     "execution_count": 30,
     "metadata": {},
     "output_type": "execute_result"
    },
    {
     "data": {
      "image/png": "[encoded data removed]",
      "text/plain": [
       "<Figure size 432x288 with 1 Axes>"
      ]
     },
     "metadata": {
      "needs_background": "light"
     },
     "output_type": "display_data"
    }
   ],
   "source": [
    "#ray_ground_classifier\n",
    "P9 = [cb9d_us[i]+com9_latency_us[i] for i in range(min(len(cb9d_us),len(com9_latency_us)))]\n",
    "print(len(P9))\n",
    "fig, ax = plt.subplots(1, 1)\n",
    "ax.xaxis.set_major_formatter(plt.FuncFormatter(lambda x, loc: \"{:,}\".format(int(x))))\n",
    "plt.hist(P9, bins=100)\n",
    "plt.title('ray_ground_classifier latency')\n",
    "plt.xlabel('Latency [ns]')\n",
    "plt.ylabel('Sample')\n",
    "# plt.xlim(0,1200000)"
   ]
  },
  {
   "cell_type": "code",
   "execution_count": 31,
   "metadata": {},
   "outputs": [
    {
     "name": "stdout",
     "output_type": "stream",
     "text": [
      "1645\n"
     ]
    },
    {
     "data": {
      "text/plain": [
       "Text(0, 0.5, 'Sample')"
      ]
     },
     "execution_count": 31,
     "metadata": {},
     "output_type": "execute_result"
    },
    {
     "data": {
      "image/png": "[encoded data removed]",
      "text/plain": [
       "<Figure size 432x288 with 1 Axes>"
      ]
     },
     "metadata": {
      "needs_background": "light"
     },
     "output_type": "display_data"
    }
   ],
   "source": [
    "#lgsvl_interface_node\n",
    "P10 = [cb10d_us[i]+com10_latency_us[i] for i in range(min(len(cb10d_us),len(com10_latency_us)))]\n",
    "print(len(P10))\n",
    "fig, ax = plt.subplots(1, 1)\n",
    "ax.xaxis.set_major_formatter(plt.FuncFormatter(lambda x, loc: \"{:,}\".format(int(x))))\n",
    "plt.hist(P10, bins=100)\n",
    "plt.title('lgsvl_interface_node latency')\n",
    "plt.xlabel('Latency [ns]')\n",
    "plt.ylabel('Sample')\n",
    "# plt.xlim(0,1200000)"
   ]
  },
  {
   "cell_type": "code",
   "execution_count": 32,
   "metadata": {},
   "outputs": [
    {
     "name": "stdout",
     "output_type": "stream",
     "text": [
      "597\n",
      "607 597\n"
     ]
    },
    {
     "data": {
      "text/plain": [
       "Text(0, 0.5, 'Sample')"
      ]
     },
     "execution_count": 32,
     "metadata": {},
     "output_type": "execute_result"
    },
    {
     "data": {
      "image/png": "[encoded data removed]",
      "text/plain": [
       "<Figure size 432x288 with 1 Axes>"
      ]
     },
     "metadata": {
      "needs_background": "light"
     },
     "output_type": "display_data"
    }
   ],
   "source": [
    "#P12=P1+P2\n",
    "P12 = [P1[i]+P2[i] for i in range(min(len(P1),len(P2)))]\n",
    "print(len(P12))\n",
    "print(len(P1),len(P2))\n",
    "fig, ax = plt.subplots(1, 1)\n",
    "ax.xaxis.set_major_formatter(plt.FuncFormatter(lambda x, loc: \"{:,}\".format(int(x))))\n",
    "plt.hist(P12, bins=100)\n",
    "plt.title('P1+P2 latency')\n",
    "plt.xlabel('Latency [ns]')\n",
    "plt.ylabel('Sample')\n",
    "# plt.xlim(0,1200000)"
   ]
  },
  {
   "cell_type": "code",
   "execution_count": 33,
   "metadata": {},
   "outputs": [
    {
     "name": "stdout",
     "output_type": "stream",
     "text": [
      "1622\n",
      "1645 1634 1622 1645\n"
     ]
    },
    {
     "data": {
      "text/plain": [
       "Text(0, 0.5, 'Sample')"
      ]
     },
     "execution_count": 33,
     "metadata": {},
     "output_type": "execute_result"
    },
    {
     "data": {
      "image/png": "[encoded data removed]",
      "text/plain": [
       "<Figure size 432x288 with 1 Axes>"
      ]
     },
     "metadata": {
      "needs_background": "light"
     },
     "output_type": "display_data"
    }
   ],
   "source": [
    "#P34510=P3+P4+P5+P10\n",
    "P34510 = [P3[i]+P4[i]+P5[i]+P10[i] for i in range(min(len(P3),len(P4),len(P5),len(P10)))]\n",
    "print(len(P34510))\n",
    "print(len(P3),len(P4),len(P5),len(P10))\n",
    "fig, ax = plt.subplots(1, 1)\n",
    "ax.xaxis.set_major_formatter(plt.FuncFormatter(lambda x, loc: \"{:,}\".format(int(x))))\n",
    "plt.hist(P12, bins=100)\n",
    "plt.title('P3+P4+P5+P10 latency')\n",
    "plt.xlabel('Latency [ns]')\n",
    "plt.ylabel('Sample')\n",
    "# plt.xlim(0,1200000)"
   ]
  },
  {
   "cell_type": "code",
   "execution_count": 34,
   "metadata": {},
   "outputs": [],
   "source": []
  },
  {
   "cell_type": "code",
   "execution_count": 34,
   "metadata": {},
   "outputs": [],
   "source": []
  },
  {
   "cell_type": "code",
   "execution_count": 97,
   "metadata": {},
   "outputs": [
    {
     "name": "stdout",
     "output_type": "stream",
     "text": [
      "\n",
      "\n"
     ]
    },
    {
     "data": {
      "image/png": "[encoded data removed]",
      "text/plain": [
       "<Figure size 432x288 with 1 Axes>"
      ]
     },
     "metadata": {
      "needs_background": "light"
     },
     "output_type": "display_data"
    }
   ],
   "source": [
    "#確率分布の重ね合わせ\n",
    "import numpy as np\n",
    "import matplotlib.pyplot as plt\n",
    "bin=50\n",
    "x1= np.arange(bin,max(P12)+bin,bin)\n",
    "#print(x1,len(x1))\n",
    "x2= np.arange(bin,max(P34510)+bin,bin)\n",
    "#print(x2,len(x2))\n",
    "if len(x1) > len(x2):\n",
    "    x=x1\n",
    "else:\n",
    "    x=x2\n",
    "print('\\n')\n",
    "#P1\n",
    "p1=[]\n",
    "for i in x:\n",
    "    l=0\n",
    "    for j in P12:\n",
    "        if (j < i)&(j > i-bin):\n",
    "            l+=1\n",
    "    l/= len(P12)\n",
    "    p1.append(l)\n",
    "\n",
    "#P2\n",
    "p2=[]\n",
    "for i in x:\n",
    "    l=0\n",
    "    for j in P34510:\n",
    "        if (j < i)&(j > i-bin):\n",
    "            l+=1\n",
    "    l/= len(P34510)\n",
    "    p2.append(l)\n",
    "\n",
    "P = [] \n",
    "for i in range(len(x)):\n",
    "    p12 = 0\n",
    "    for t in range(i):\n",
    "        p12+= p1[t]*(p2[i-t] + p2[i-t-1])/2.0        \n",
    "    P.append(p12)\n",
    "    \n",
    "P = np.array(P)\n",
    "fig, ax = plt.subplots(1, 1)\n",
    "ax.xaxis.set_major_formatter(plt.FuncFormatter(lambda x, loc: \"{:,}\".format(int(x))))\n",
    "plt.title('End-to-end latency')\n",
    "plt.xlabel('Latency [us]')\n",
    "plt.ylabel('Distribution')\n",
    "# plt.plot(x,P,linewidth=1)\n",
    "# plt.savefig(\"e2elatency.pdf\")\n",
    "\n",
    "plt.bar(x,P)\n",
    "plt.savefig(\"e2ehist.pdf\")\n",
    "#plt.ylim(0,0.002)"
   ]
  },
  {
   "cell_type": "code",
   "execution_count": 64,
   "metadata": {},
   "outputs": [
    {
     "name": "stdout",
     "output_type": "stream",
     "text": [
      "\n",
      "\n",
      "6338\n",
      "6338\n",
      "6338\n"
     ]
    },
    {
     "data": {
      "image/png": "[encoded data removed]",
      "text/plain": [
       "<Figure size 432x288 with 1 Axes>"
      ]
     },
     "metadata": {
      "needs_background": "light"
     },
     "output_type": "display_data"
    }
   ],
   "source": [
    "#確率分布の重ね合わせ\n",
    "import numpy as np\n",
    "import matplotlib.pyplot as plt\n",
    "bin=50\n",
    "x1= np.arange(bin,max(P12)+bin,bin)\n",
    "#print(x1,len(x1))\n",
    "x2= np.arange(bin,max(P34510)+bin,bin)\n",
    "#print(x2,len(x2))\n",
    "if len(x1) > len(x2):\n",
    "    x=x1\n",
    "else:\n",
    "    x=x2\n",
    "print('\\n')\n",
    "#P1\n",
    "p1=[]\n",
    "for i in x:\n",
    "    l=0\n",
    "    for j in P12:\n",
    "        if (j < i)&(j > i-bin):\n",
    "            l+=1\n",
    "    l/= len(P12)\n",
    "    p1.append(l)\n",
    "\n",
    "#P2\n",
    "p2=[]\n",
    "for i in x:\n",
    "    l=0\n",
    "    for j in P34510:\n",
    "        if (j < i)&(j > i-bin):\n",
    "            l+=1\n",
    "    l/= len(P34510)\n",
    "    p2.append(l)\n",
    "\n",
    "P = [] \n",
    "for i in range(len(x)):\n",
    "    p12 = 0\n",
    "    for t in range(i):\n",
    "        p12+= p1[t]*(p2[i-t] + p2[i-t-1])/2.0        \n",
    "    P.append(p12)\n",
    "\n",
    "print(len(x))\n",
    "print(len(P))\n",
    "# fig, ax = plt.subplots(1, 1)\n",
    "# ax.xaxis.set_major_formatter(plt.FuncFormatter(lambda x, loc: \"{:,}\".format(int(x))))\n",
    "# plt.title('End-to-end latency')\n",
    "# plt.xlabel('Latency [us]')\n",
    "# plt.ylabel('Distribution')\n",
    "# #plt.xlim(0,200000)\n",
    "# plt.bar(x,P)\n",
    "# plt.show()\n",
    "#print(x,len(x),len(P))\n",
    "s = [P[i]*len(P) for i in range(len(P))]\n",
    "#print(len(s),max(s),s)\n",
    "#print(s)\n",
    "Px=[]\n",
    "k=0\n",
    "for i in s:\n",
    "    m=(x[k]-bin/2)\n",
    "    if (i>0)&(i<1):\n",
    "        Px.append(m)\n",
    "    else:\n",
    "        for j in range(int(i)):\n",
    "            Px.append(m)\n",
    "    k+=1\n",
    "print(len(s))\n",
    "fig, ax = plt.subplots(1, 1)\n",
    "ax.xaxis.set_major_formatter(plt.FuncFormatter(lambda x, loc: \"{:,}\".format(int(x))))\n",
    "plt.hist(Px, bins=100)\n",
    "plt.title('end-to-end latency')\n",
    "plt.xlabel('Latency [ns]')\n",
    "plt.ylabel('Sample')\n",
    "plt.savefig(\"e2ehist.pdf\")"
   ]
  },
  {
   "cell_type": "code",
   "execution_count": 81,
   "metadata": {},
   "outputs": [
    {
     "name": "stdout",
     "output_type": "stream",
     "text": [
      "<class 'numpy.ndarray'>\n",
      "6338\n",
      "3775\n",
      "0.9983249581239496\n",
      "6338\n"
     ]
    }
   ],
   "source": [
    "w=0\n",
    "print(type(x))\n",
    "print(len(P))\n",
    "for i in P:\n",
    "    if i > 0.00001:\n",
    "        w+=1\n",
    "print(w)\n",
    "\n",
    "h=0\n",
    "for i in P:\n",
    "    h+=i\n",
    "print(h)\n",
    "print(len(P))"
   ]
  },
  {
   "cell_type": "code",
   "execution_count": 55,
   "metadata": {},
   "outputs": [
    {
     "name": "stdout",
     "output_type": "stream",
     "text": [
      "[5.0000e+01 1.0000e+02 1.5000e+02 ... 3.1680e+05 3.1685e+05 3.1690e+05]\n",
      "[ 50. 100. 150.]\n",
      "2000\n"
     ]
    }
   ],
   "source": [
    "print(x)\n",
    "print(x[0:3])\n",
    "n=0\n",
    "for j in x:\n",
    "    if j<=100000:\n",
    "      n+=1\n",
    "print(n)"
   ]
  },
  {
   "cell_type": "code",
   "execution_count": 56,
   "metadata": {},
   "outputs": [
    {
     "name": "stdout",
     "output_type": "stream",
     "text": [
      "0.9301635592677747\n"
     ]
    }
   ],
   "source": [
    "sum=0\n",
    "for k in P[0:n]:\n",
    "    sum+=k\n",
    "print(sum)"
   ]
  },
  {
   "cell_type": "code",
   "execution_count": null,
   "metadata": {},
   "outputs": [],
   "source": []
  }
 ],
 "metadata": {
  "kernelspec": {
   "display_name": "Python 3 (ipykernel)",
   "language": "python",
   "name": "python3"
  },
  "language_info": {
   "codemirror_mode": {
    "name": "ipython",
    "version": 3
   },
   "file_extension": ".py",
   "mimetype": "text/x-python",
   "name": "python",
   "nbconvert_exporter": "python",
   "pygments_lexer": "ipython3",
   "version": "3.8.10"
  }
 },
 "nbformat": 4,
 "nbformat_minor": 4
}
