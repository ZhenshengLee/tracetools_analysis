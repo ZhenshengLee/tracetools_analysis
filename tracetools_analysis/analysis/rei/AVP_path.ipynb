{
 "cells": [
  {
   "cell_type": "code",
   "execution_count": 1,
   "metadata": {},
   "outputs": [
    {
     "name": "stdout",
     "output_type": "stream",
     "text": [
      "['lgsvl_interface_node', 'filter_transform_vlp16_front', 'transform_listener_impl_55d7a8f70050', 'robot_state_publisher', 'mpc_controller_node', 'p2d_ndt_localizer_node', 'off_map_obstacles_filter_node', 'object_collision_estimator_node', 'euclidean_cluster_cloud_node', 'lanelet2_map_visualizer_node', 'lane_planner_node', 'point_cloud_fusion_nodes', 'voxel_grid_cloud_node', 'state_estimation_node', 'parking_planner_node', 'lanelet2_global_planner_node', 'behavior_planner_node', 'filter_transform_vlp16_rear', 'ndt_map_publisher_node', 'lanelet2_map_provider_node', 'covariance_insertion_node', 'transform_listener_impl_55f98a3821a0', 'ray_ground_classifier', 'transform_listener_impl_560545540c50', 'rviz2', 'rosbridge_server_node', 'transform_listener_impl_55eb60b5b630', 'transform_listener_impl_55eb60c11700']\n"
     ]
    }
   ],
   "source": [
    "import numpy as np\n",
    "import matplotlib.pyplot as plt\n",
    "path = '/home/saitama1/AVP_e2e/ros2_model.txt'\n",
    "f = open(path)\n",
    "#print(type(f))\n",
    "f.close()\n",
    "with open(path) as f:\n",
    "    l = f.readlines()\n",
    "S = l.index('Nodes:\\n')\n",
    "E = l.index('Publishers:\\n')\n",
    "no=[]\n",
    "for i in l[S+3:E-1]:\n",
    "    no.append(i.split()[4])\n",
    "print(no)"
   ]
  },
  {
   "cell_type": "code",
   "execution_count": 2,
   "metadata": {},
   "outputs": [],
   "source": [
    "for x in no:\n",
    "    path = '/home/saitama1/AVP_e2e/ros2_model.txt'\n",
    "    f = open(path)\n",
    "    #print(type(f))\n",
    "    f.close()\n",
    "\n",
    "    #node handle\n",
    "    with open(path) as f:\n",
    "        l = f.readlines()\n",
    "    S1 = l.index('Contexts:\\n')\n",
    "    E1 = l.index('Publishers:\\n')\n",
    "    node = [line for line in l[S1:E1] if x in line]\n",
    "    nodename= node[0].split()[4]\n",
    "    #print(nodename)\n",
    "    nodeh= node[0].split(' ')[0]\n",
    "    #print(nodeh)\n",
    "    #print('\\n')\n",
    "\n",
    "    #pub topic\n",
    "    S2 = l.index('Publishers:\\n')\n",
    "    E2 = l.index('Subscriptions:\\n')\n",
    "    pubt = [line for line in l[S2:E2] if nodeh in line]\n",
    "    #print(pubt)\n",
    "    ptopic=[]\n",
    "    for i in pubt:\n",
    "        ptopic.append(i.split(' /')[1].split()[0])\n",
    "    #print('pub:',ptopic)\n",
    "    # print('\\n')\n",
    "\n",
    "    #sub topic\n",
    "    S3 = l.index('Subscriptions:\\n')\n",
    "    E3 = l.index('Subscription objects:\\n')\n",
    "    subt = [line for line in l[S3:E3] if nodeh in line]\n",
    "    #print(subt)\n",
    "    stopic=[]\n",
    "    for i in subt:\n",
    "        stopic.append(i.split(' /')[1].split()[0])\n",
    "    #print('sub:',stopic)\n",
    "\n",
    "    path_w = '/home/saitama1/AVP_e2e/path.txt'\n",
    "\n",
    "    pt = str(ptopic)\n",
    "    st = str(stopic)\n",
    "    with open(path_w, mode='a') as f:\n",
    "        f.write(nodename)\n",
    "        f.write('\\n')\n",
    "        f.write('p')\n",
    "        f.write(pt)\n",
    "        f.write('\\n')\n",
    "        f.write('s')\n",
    "        f.write(st)\n",
    "        f.write('\\n')\n",
    "        f.write('\\n')"
   ]
  },
  {
   "cell_type": "code",
   "execution_count": null,
   "metadata": {},
   "outputs": [],
   "source": []
  }
 ],
 "metadata": {
  "kernelspec": {
   "display_name": "Python 3",
   "language": "python",
   "name": "python3"
  },
  "language_info": {
   "codemirror_mode": {
    "name": "ipython",
    "version": 3
   },
   "file_extension": ".py",
   "mimetype": "text/x-python",
   "name": "python",
   "nbconvert_exporter": "python",
   "pygments_lexer": "ipython3",
   "version": "3.8.10"
  }
 },
 "nbformat": 4,
 "nbformat_minor": 4
}
