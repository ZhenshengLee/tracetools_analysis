{
 "cells": [
  {
   "cell_type": "code",
   "execution_count": 1,
   "id": "814eb6b3-a0f7-43ae-a5bd-b3b6038ac6fe",
   "metadata": {},
   "outputs": [],
   "source": [
    "import numpy as np\n",
    "import matplotlib.pyplot as plt\n",
    "import collections"
   ]
  },
  {
   "cell_type": "code",
   "execution_count": 2,
   "id": "eb38a3d4-ce53-45b2-aeb3-1128c0ba7a4d",
   "metadata": {},
   "outputs": [
    {
     "name": "stdout",
     "output_type": "stream",
     "text": [
      "94270755960304:/planning/estimate_collision--570\n",
      "94279700027568:/had_maps/HAD_Map_Service--5\n",
      "94406263204912:/planning/plan_lane_trajectory/_action/send_goal--1\n",
      "94406263204928:/planning/plan_lane_trajectory/_action/get_result--1\n"
     ]
    }
   ],
   "source": [
    "#service handle\n",
    "path = '/home/rei/reigit/service_request.txt'\n",
    "f = open(path)\n",
    "f.close()\n",
    "with open(path) as f:\n",
    "    l = f.readlines()\n",
    "sh=[]\n",
    "for i in l:\n",
    "    sh.append(i.split('0x')[1].split(',')[0])\n",
    "sh2=[]\n",
    "for i in sh:\n",
    "    sh2.append(str(int(i,16)))\n",
    "s_counter=collections.Counter(sh2)  #how many time did they run?\n",
    "service_counter=dict(s_counter)\n",
    "\n",
    "#connect handle to service name\n",
    "path = '/home/rei/reigit/avpdemo.txt'\n",
    "f = open(path)\n",
    "f.close()\n",
    "with open(path) as f:\n",
    "    l = f.readlines()\n",
    "#client handle\n",
    "S = l.index('Services:\\n')\n",
    "E = l.index('Clients:\\n')\n",
    "service_sn=[]\n",
    "for i in l[S+3:E-1]:\n",
    "    for j in service_counter.keys():\n",
    "         if j == i.split()[0]:\n",
    "             service_sn.append(j+':'+i.split()[4]+'--'+str(service_counter.get(str(j))))\n",
    "for i in service_sn:\n",
    "    print(i)"
   ]
  },
  {
   "cell_type": "code",
   "execution_count": 3,
   "id": "f353ccc0-93f1-4b39-81a9-f8338019938e",
   "metadata": {},
   "outputs": [
    {
     "name": "stdout",
     "output_type": "stream",
     "text": [
      "94406262911392:/had_maps/HAD_Map_Service--1\n",
      "94236321446816:/had_maps/HAD_Map_Service--1\n",
      "94578261187136:/had_maps/HAD_Map_Service--1\n",
      "93865044403600:/had_maps/HAD_Map_Service--1\n",
      "94094547596592:/planning/plan_lane_trajectory/_action/send_goal--1\n",
      "94094547596608:/planning/plan_lane_trajectory/_action/get_result--1\n",
      "94094547974016:/had_maps/HAD_Map_Service--1\n",
      "94094547439536:/planning/estimate_collision--570\n"
     ]
    }
   ],
   "source": [
    "#client handle\n",
    "path = '/home/rei/reigit/client_response.txt'\n",
    "f = open(path)\n",
    "f.close()\n",
    "with open(path) as f:\n",
    "    l = f.readlines()\n",
    "ch=[]\n",
    "for i in l:\n",
    "    ch.append(i.split('0x')[1].split(',')[0])\n",
    "ch2=[]\n",
    "for i in ch:\n",
    "    ch2.append(str(int(i,16)))\n",
    "c_counter=collections.Counter(ch2)  #how many time did they run?\n",
    "client_counter=dict(c_counter)\n",
    "\n",
    "#connect handle to service name\n",
    "path = '/home/rei/reigit/avpdemo.txt'\n",
    "f = open(path)\n",
    "f.close()\n",
    "with open(path) as f:\n",
    "    l = f.readlines()\n",
    "#client handle\n",
    "S = l.index('Clients:\\n')\n",
    "E = l.index('Timers:\\n')\n",
    "client_sn=[]\n",
    "for i in l[S+3:E-1]:\n",
    "    for j in client_counter.keys():\n",
    "         if j == i.split()[0]:\n",
    "             client_sn.append(j+':'+i.split()[4]+'--'+str(client_counter.get(str(j))))\n",
    "for i in client_sn:\n",
    "    print(i)"
   ]
  },
  {
   "cell_type": "code",
   "execution_count": 4,
   "id": "50dcde5a-4a47-455d-a7ee-8a1662c79b3d",
   "metadata": {},
   "outputs": [
    {
     "name": "stdout",
     "output_type": "stream",
     "text": [
      "service:\n",
      "['94270755960304:/planning/estimate_collision']\n",
      "client:\n",
      "['94094547439536:/planning/estimate_collision']\n"
     ]
    }
   ],
   "source": [
    "#only calculate the latency of service which execution time exceed 10\n",
    "service_c=[]\n",
    "for i in service_counter.keys():\n",
    "    if service_counter.get(i) > 10:\n",
    "        service_c.append(i)\n",
    "service_p=[]\n",
    "for i in service_c:\n",
    "    for j in service_sn:\n",
    "        if i == j.split(':')[0]:\n",
    "            service_p.append(j.split('--')[0])\n",
    "print('service:')\n",
    "print(service_p)\n",
    "\n",
    "client_c=[]\n",
    "for i in client_counter.keys():\n",
    "    if client_counter.get(i) > 10:\n",
    "        client_c.append(i)\n",
    "client_p=[]\n",
    "for i in client_c:\n",
    "    for j in client_sn:\n",
    "        if i == j.split(':')[0]:\n",
    "            client_p.append(j.split('--')[0])\n",
    "print('client:')\n",
    "print(client_p)"
   ]
  },
  {
   "cell_type": "code",
   "execution_count": 5,
   "id": "1b5d4c77-8225-449c-aaaa-61137b69d8aa",
   "metadata": {},
   "outputs": [
    {
     "name": "stdout",
     "output_type": "stream",
     "text": [
      "service:client:service name\n",
      "['0x55bd1eebf5f0:0x559418134fb0:/planning/estimate_collision']\n"
     ]
    }
   ],
   "source": [
    "#find service pairs\n",
    "pairs=[]\n",
    "for i in service_p:\n",
    "    for j in client_p:\n",
    "        if i.split(':')[1]==j.split(':')[1]:\n",
    "            ser=hex(int(i.split(':')[0]))\n",
    "            cli=hex(int(j.split(':')[0]))\n",
    "            pairs.append(ser+':'+cli+':'+j.split(':')[1])\n",
    "print('service:client:service name')\n",
    "print(pairs)"
   ]
  },
  {
   "cell_type": "code",
   "execution_count": 6,
   "id": "f5c83ba7-7f71-4d1a-a520-625c4886a310",
   "metadata": {},
   "outputs": [],
   "source": [
    "#request latency\n",
    "def req(service_handle):\n",
    "    path = '/home/rei/reigit/service_request.txt'\n",
    "    f = open(path)\n",
    "    f.close()\n",
    "    with open(path) as f:\n",
    "        l = f.readlines()\n",
    "    request=[]\n",
    "    for i in l:\n",
    "        service = i.split(\",\")[4].split(\" = \")[1]\n",
    "        if (service == service_handle):\n",
    "            source = i.split(\",\")[5].split(\" = \")[1]\n",
    "            receive = i.split(\",\")[6].split(\" = \")[1].split()[0]\n",
    "            req = int(receive) - int(source)\n",
    "            request.append(req)\n",
    "\n",
    "    request_us = []\n",
    "    for i in request:\n",
    "        request_us.append(i/1000)\n",
    "    print(len(request_us),max(request_us),min(request_us))\n",
    "    return request_us"
   ]
  },
  {
   "cell_type": "code",
   "execution_count": 7,
   "id": "30a558bb-d2ac-44be-ad21-a698ec358fe2",
   "metadata": {},
   "outputs": [],
   "source": [
    "#response latency\n",
    "def res(client_handle):\n",
    "    path = '/home/rei/reigit/client_response.txt'\n",
    "    f = open(path)\n",
    "    f.close()\n",
    "    with open(path) as f:\n",
    "        l = f.readlines()\n",
    "    response=[]\n",
    "    for i in l:\n",
    "        client = i.split(\",\")[4].split(\" = \")[1]\n",
    "        if (client == client_handle):\n",
    "            source = i.split(\",\")[5].split(\" = \")[1]\n",
    "            receive = i.split(\",\")[6].split(\" = \")[1].split()[0]\n",
    "            res = int(receive) - int(source)\n",
    "            response.append(res)\n",
    "\n",
    "    response_us = []\n",
    "    for i in response:\n",
    "        response_us.append(i/1000)\n",
    "    print(len(response_us),max(response_us),min(response_us))\n",
    "    return response_us"
   ]
  },
  {
   "cell_type": "code",
   "execution_count": 8,
   "id": "73b075df-e507-4e61-a3f5-a68831eaadba",
   "metadata": {},
   "outputs": [],
   "source": [
    "#service callback duration\n",
    "def ser_cb(service_handle):\n",
    "    path = '/home/rei/reigit/avpdemo.txt'\n",
    "    f = open(path)\n",
    "    f.close()\n",
    "    with open(path) as f:\n",
    "        l = f.readlines()\n",
    "    \n",
    "    #service_handle -> callback_object\n",
    "    S = l.index('Callback objects:\\n')\n",
    "    E = l.index('Callback symbols:\\n')   \n",
    "    cb= [line for line in l[S:E] if service_handle in line]\n",
    "    callback_object=[]\n",
    "    for i in cb:\n",
    "        callback_object.append(i.split()[2])\n",
    "    #print(callback_object)\n",
    "    \n",
    "    #callback_object -> duration\n",
    "    S = l.index('Callback instances:\\n')\n",
    "    E = l.index('Lifecycle state machines:\\n')\n",
    "    for i in callback_object:\n",
    "        d= [line for line in l[S:E] if i in line]\n",
    "    duration=[]\n",
    "    for i in d:\n",
    "        duration.append(i.split()[3])\n",
    "    #print(duration)\n",
    "    \n",
    "    cbd_us = []\n",
    "    for i in duration:\n",
    "        cbd_us.append(int(i)/1000)\n",
    "    print(len(cbd_us),max(cbd_us),min(cbd_us))\n",
    "    return cbd_us"
   ]
  },
  {
   "cell_type": "code",
   "execution_count": 9,
   "id": "172a4308-b157-4144-bb95-1f6f9916fade",
   "metadata": {},
   "outputs": [],
   "source": [
    "#plot a graph\n",
    "def graph(latency, title):\n",
    "    fig, ax = plt.subplots(1, 1)\n",
    "    ax.xaxis.set_major_formatter(plt.FuncFormatter(lambda x, loc: \"{:,}\".format(int(x))))\n",
    "    plt.hist(latency, bins=100)\n",
    "    plt.title(\"%s\"%title, fontsize=15)\n",
    "    plt.xlabel(\"Latency [us]\", fontsize=15)\n",
    "    plt.ylabel(\"Sample\", fontsize=15)\n",
    "    plt.savefig(\"%s\"%title+\".pdf\")"
   ]
  },
  {
   "cell_type": "code",
   "execution_count": 11,
   "id": "de60df00-6588-4b03-84b7-ab25db8124e2",
   "metadata": {},
   "outputs": [
    {
     "name": "stdout",
     "output_type": "stream",
     "text": [
      "service:client:service name\n",
      "['0x55bd1eebf5f0:0x559418134fb0:/planning/estimate_collision']\n",
      "570 3688.957 54.501\n",
      "570 3138.582 27.967\n",
      "570 1504.301 102.579\n",
      "570 4029.357 212.252\n"
     ]
    },
    {
     "data": {
      "image/png": "[encoded data removed]",
      "text/plain": [
       "<Figure size 432x288 with 1 Axes>"
      ]
     },
     "metadata": {
      "needs_background": "light"
     },
     "output_type": "display_data"
    },
    {
     "data": {
      "image/png": "[encoded data removed]",
      "text/plain": [
       "<Figure size 432x288 with 1 Axes>"
      ]
     },
     "metadata": {
      "needs_background": "light"
     },
     "output_type": "display_data"
    },
    {
     "data": {
      "image/png": "[encoded data removed]",
      "text/plain": [
       "<Figure size 432x288 with 1 Axes>"
      ]
     },
     "metadata": {
      "needs_background": "light"
     },
     "output_type": "display_data"
    },
    {
     "data": {
      "image/png": "[encoded data removed]",
      "text/plain": [
       "<Figure size 432x288 with 1 Axes>"
      ]
     },
     "metadata": {
      "needs_background": "light"
     },
     "output_type": "display_data"
    }
   ],
   "source": [
    "print('service:client:service name')\n",
    "print(pairs)\n",
    "for i in pairs:\n",
    "    request=req(i.split(':')[0].upper().replace('X', 'x'))\n",
    "    graph(request, \"request latency\")\n",
    "    response=res(i.split(':')[1].upper().replace('X', 'x'))\n",
    "    graph(response, \"response latency\")\n",
    "    cbd=ser_cb(str(int(i.split(':')[0],16)))\n",
    "    graph(cbd, \"callback duration\")\n",
    "    service_latency = [request[i]+response[i]+cbd[i] for i in range(min(len(request),len(response),len(cbd)))]\n",
    "    print(len(service_latency),max(service_latency),min(service_latency))\n",
    "    graph(service_latency, \"service latency\")"
   ]
  },
  {
   "cell_type": "code",
   "execution_count": null,
   "id": "d477bf98-f7d1-4702-9f68-c56ac65bca7d",
   "metadata": {},
   "outputs": [],
   "source": []
  }
 ],
 "metadata": {
  "kernelspec": {
   "display_name": "Python 3 (ipykernel)",
   "language": "python",
   "name": "python3"
  },
  "language_info": {
   "codemirror_mode": {
    "name": "ipython",
    "version": 3
   },
   "file_extension": ".py",
   "mimetype": "text/x-python",
   "name": "python",
   "nbconvert_exporter": "python",
   "pygments_lexer": "ipython3",
   "version": "3.8.10"
  }
 },
 "nbformat": 4,
 "nbformat_minor": 5
}
