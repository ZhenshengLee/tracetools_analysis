{
 "cells": [
  {
   "cell_type": "code",
   "execution_count": null,
   "metadata": {},
   "outputs": [],
   "source": [
    "# Callback duration\n",
    "#\n",
    "# Get trace data using the provided launch file:\n",
    "#    $ ros2 launch tracetools_analysis pingpong.launch.py\n",
    "#    (wait a few seconds, then kill with Ctrl+C)\n",
    "#\n",
    "# (optional) convert trace data:\n",
    "#    $ ros2 run tracetools_analysis convert ~/.ros/tracing/pingpong/ust\n",
    "#\n",
    "# OR\n",
    "#\n",
    "# Use the provided sample converted trace file, changing the path below to:\n",
    "#    'sample_data/converted_pingpong'"
   ]
  },
  {
   "cell_type": "code",
   "execution_count": 1,
   "metadata": {},
   "outputs": [],
   "source": [
    "#path = '~/.ros/tracing/pingpong/ust'\n",
    "path = 'sample_data/converted_pingpong'"
   ]
  },
  {
   "cell_type": "code",
   "execution_count": 2,
   "metadata": {},
   "outputs": [],
   "source": [
    "import sys\n",
    "# Assuming a workspace with:\n",
    "#   src/tracetools_analysis/\n",
    "#   src/ros-tracing/ros2_tracing/tracetools_read/\n",
    "sys.path.insert(0, '../')\n",
    "sys.path.insert(0, '../../../ros-tracing/ros2_tracing/tracetools_read/')\n",
    "import datetime as dt\n",
    "\n",
    "from bokeh.plotting import figure\n",
    "from bokeh.plotting import output_notebook\n",
    "from bokeh.io import show\n",
    "from bokeh.layouts import row\n",
    "from bokeh.models import ColumnDataSource\n",
    "from bokeh.models import DatetimeTickFormatter\n",
    "from bokeh.models import PrintfTickFormatter\n",
    "import numpy as np\n",
    "import pandas as pd\n",
    "\n",
    "from tracetools_analysis.loading import load_file\n",
    "from tracetools_analysis.processor.ros2 import Ros2Handler\n",
    "from tracetools_analysis.utils.ros2 import Ros2DataModelUtil"
   ]
  },
  {
   "cell_type": "code",
   "execution_count": 3,
   "metadata": {},
   "outputs": [
    {
     "name": "stdout",
     "output_type": "stream",
     "text": [
      " [100%] [Ros2Handler]\n"
     ]
    }
   ],
   "source": [
    "# Process\n",
    "events = load_file(path)\n",
    "handler = Ros2Handler.process(events)\n",
    "#handler.data.print_data()"
   ]
  },
  {
   "cell_type": "code",
   "execution_count": 4,
   "metadata": {},
   "outputs": [
    {
     "data": {
      "text/html": [
       "\n",
       "    <div class=\"bk-root\">\n",
       "        <a href=\"https://bokeh.org\" target=\"_blank\" class=\"bk-logo bk-logo-small bk-logo-notebook\"></a>\n",
       "        <span id=\"1002\">Loading BokehJS ...</span>\n",
       "    </div>"
      ]
     },
     "metadata": {},
     "output_type": "display_data"
    },
    {
     "data": {
      "application/javascript": "\n(function(root) {\n  function now() {\n    return new Date();\n  }\n\n  var force = true;\n\n  if (typeof root._bokeh_onload_callbacks === \"undefined\" || force === true) {\n    root._bokeh_onload_callbacks = [];\n    root._bokeh_is_loading = undefined;\n  }\n\n  var JS_MIME_TYPE = 'application/javascript';\n  var HTML_MIME_TYPE = 'text/html';\n  var EXEC_MIME_TYPE = 'application/vnd.bokehjs_exec.v0+json';\n  var CLASS_NAME = 'output_bokeh rendered_html';\n\n  /**\n   * Render data to the DOM node\n   */\n  function render(props, node) {\n    var script = document.createElement(\"script\");\n    node.appendChild(script);\n  }\n\n  /**\n   * Handle when an output is cleared or removed\n   */\n  function handleClearOutput(event, handle) {\n    var cell = handle.cell;\n\n    var id = cell.output_area._bokeh_element_id;\n    var server_id = cell.output_area._bokeh_server_id;\n    // Clean up Bokeh references\n    if (id != null && id in Bokeh.index) {\n      Bokeh.index[id].model.document.clear();\n      delete Bokeh.index[id];\n    }\n\n    if (server_id !== undefined) {\n      // Clean up Bokeh references\n      var cmd = \"from bokeh.io.state import curstate; print(curstate().uuid_to_server['\" + server_id + \"'].get_sessions()[0].document.roots[0]._id)\";\n      cell.notebook.kernel.execute(cmd, {\n        iopub: {\n          output: function(msg) {\n            var id = msg.content.text.trim();\n            if (id in Bokeh.index) {\n              Bokeh.index[id].model.document.clear();\n              delete Bokeh.index[id];\n            }\n          }\n        }\n      });\n      // Destroy server and session\n      var cmd = \"import bokeh.io.notebook as ion; ion.destroy_server('\" + server_id + \"')\";\n      cell.notebook.kernel.execute(cmd);\n    }\n  }\n\n  /**\n   * Handle when a new output is added\n   */\n  function handleAddOutput(event, handle) {\n    var output_area = handle.output_area;\n    var output = handle.output;\n\n    // limit handleAddOutput to display_data with EXEC_MIME_TYPE content only\n    if ((output.output_type != \"display_data\") || (!Object.prototype.hasOwnProperty.call(output.data, EXEC_MIME_TYPE))) {\n      return\n    }\n\n    var toinsert = output_area.element.find(\".\" + CLASS_NAME.split(' ')[0]);\n\n    if (output.metadata[EXEC_MIME_TYPE][\"id\"] !== undefined) {\n      toinsert[toinsert.length - 1].firstChild.textContent = output.data[JS_MIME_TYPE];\n      // store reference to embed id on output_area\n      output_area._bokeh_element_id = output.metadata[EXEC_MIME_TYPE][\"id\"];\n    }\n    if (output.metadata[EXEC_MIME_TYPE][\"server_id\"] !== undefined) {\n      var bk_div = document.createElement(\"div\");\n      bk_div.innerHTML = output.data[HTML_MIME_TYPE];\n      var script_attrs = bk_div.children[0].attributes;\n      for (var i = 0; i < script_attrs.length; i++) {\n        toinsert[toinsert.length - 1].firstChild.setAttribute(script_attrs[i].name, script_attrs[i].value);\n        toinsert[toinsert.length - 1].firstChild.textContent = bk_div.children[0].textContent\n      }\n      // store reference to server id on output_area\n      output_area._bokeh_server_id = output.metadata[EXEC_MIME_TYPE][\"server_id\"];\n    }\n  }\n\n  function register_renderer(events, OutputArea) {\n\n    function append_mime(data, metadata, element) {\n      // create a DOM node to render to\n      var toinsert = this.create_output_subarea(\n        metadata,\n        CLASS_NAME,\n        EXEC_MIME_TYPE\n      );\n      this.keyboard_manager.register_events(toinsert);\n      // Render to node\n      var props = {data: data, metadata: metadata[EXEC_MIME_TYPE]};\n      render(props, toinsert[toinsert.length - 1]);\n      element.append(toinsert);\n      return toinsert\n    }\n\n    /* Handle when an output is cleared or removed */\n    events.on('clear_output.CodeCell', handleClearOutput);\n    events.on('delete.Cell', handleClearOutput);\n\n    /* Handle when a new output is added */\n    events.on('output_added.OutputArea', handleAddOutput);\n\n    /**\n     * Register the mime type and append_mime function with output_area\n     */\n    OutputArea.prototype.register_mime_type(EXEC_MIME_TYPE, append_mime, {\n      /* Is output safe? */\n      safe: true,\n      /* Index of renderer in `output_area.display_order` */\n      index: 0\n    });\n  }\n\n  // register the mime type if in Jupyter Notebook environment and previously unregistered\n  if (root.Jupyter !== undefined) {\n    var events = require('base/js/events');\n    var OutputArea = require('notebook/js/outputarea').OutputArea;\n\n    if (OutputArea.prototype.mime_types().indexOf(EXEC_MIME_TYPE) == -1) {\n      register_renderer(events, OutputArea);\n    }\n  }\n\n  \n  if (typeof (root._bokeh_timeout) === \"undefined\" || force === true) {\n    root._bokeh_timeout = Date.now() + 5000;\n    root._bokeh_failed_load = false;\n  }\n\n  var NB_LOAD_WARNING = {'data': {'text/html':\n     \"<div style='background-color: #fdd'>\\n\"+\n     \"<p>\\n\"+\n     \"BokehJS does not appear to have successfully loaded. If loading BokehJS from CDN, this \\n\"+\n     \"may be due to a slow or bad network connection. Possible fixes:\\n\"+\n     \"</p>\\n\"+\n     \"<ul>\\n\"+\n     \"<li>re-rerun `output_notebook()` to attempt to load from CDN again, or</li>\\n\"+\n     \"<li>use INLINE resources instead, as so:</li>\\n\"+\n     \"</ul>\\n\"+\n     \"<code>\\n\"+\n     \"from bokeh.resources import INLINE\\n\"+\n     \"output_notebook(resources=INLINE)\\n\"+\n     \"</code>\\n\"+\n     \"</div>\"}};\n\n  function display_loaded() {\n    var el = document.getElementById(\"1002\");\n    if (el != null) {\n      el.textContent = \"BokehJS is loading...\";\n    }\n    if (root.Bokeh !== undefined) {\n      if (el != null) {\n        el.textContent = \"BokehJS \" + root.Bokeh.version + \" successfully loaded.\";\n      }\n    } else if (Date.now() < root._bokeh_timeout) {\n      setTimeout(display_loaded, 100)\n    }\n  }\n\n\n  function run_callbacks() {\n    try {\n      root._bokeh_onload_callbacks.forEach(function(callback) {\n        if (callback != null)\n          callback();\n      });\n    } finally {\n      delete root._bokeh_onload_callbacks\n    }\n    console.debug(\"Bokeh: all callbacks have finished\");\n  }\n\n  function load_libs(css_urls, js_urls, callback) {\n    if (css_urls == null) css_urls = [];\n    if (js_urls == null) js_urls = [];\n\n    root._bokeh_onload_callbacks.push(callback);\n    if (root._bokeh_is_loading > 0) {\n      console.debug(\"Bokeh: BokehJS is being loaded, scheduling callback at\", now());\n      return null;\n    }\n    if (js_urls == null || js_urls.length === 0) {\n      run_callbacks();\n      return null;\n    }\n    console.debug(\"Bokeh: BokehJS not loaded, scheduling load and callback at\", now());\n    root._bokeh_is_loading = css_urls.length + js_urls.length;\n\n    function on_load() {\n      root._bokeh_is_loading--;\n      if (root._bokeh_is_loading === 0) {\n        console.debug(\"Bokeh: all BokehJS libraries/stylesheets loaded\");\n        run_callbacks()\n      }\n    }\n\n    function on_error(url) {\n      console.error(\"failed to load \" + url);\n    }\n\n    for (let i = 0; i < css_urls.length; i++) {\n      const url = css_urls[i];\n      const element = document.createElement(\"link\");\n      element.onload = on_load;\n      element.onerror = on_error.bind(null, url);\n      element.rel = \"stylesheet\";\n      element.type = \"text/css\";\n      element.href = url;\n      console.debug(\"Bokeh: injecting link tag for BokehJS stylesheet: \", url);\n      document.body.appendChild(element);\n    }\n\n    const hashes = {\"https://cdn.bokeh.org/bokeh/release/bokeh-2.3.3.min.js\": \"dM3QQsP+wXdHg42wTqW85BjZQdLNNIXqlPw/BgKoExPmTG7ZLML4EGqLMfqHT6ON\", \"https://cdn.bokeh.org/bokeh/release/bokeh-tables-2.3.3.min.js\": \"8x57I4YuIfu8XyZfFo0XVr2WAT8EK4rh/uDe3wF7YuW2FNUSNEpJbsPaB1nJ2fz2\", \"https://cdn.bokeh.org/bokeh/release/bokeh-widgets-2.3.3.min.js\": \"3QTqdz9LyAm2i0sG5XTePsHec3UHWwVsrOL68SYRoAXsafvfAyqtQ+h440+qIBhS\"};\n\n    for (let i = 0; i < js_urls.length; i++) {\n      const url = js_urls[i];\n      const element = document.createElement('script');\n      element.onload = on_load;\n      element.onerror = on_error.bind(null, url);\n      element.async = false;\n      element.src = url;\n      if (url in hashes) {\n        element.crossOrigin = \"anonymous\";\n        element.integrity = \"sha384-\" + hashes[url];\n      }\n      console.debug(\"Bokeh: injecting script tag for BokehJS library: \", url);\n      document.head.appendChild(element);\n    }\n  };\n\n  function inject_raw_css(css) {\n    const element = document.createElement(\"style\");\n    element.appendChild(document.createTextNode(css));\n    document.body.appendChild(element);\n  }\n\n  \n  var js_urls = [\"https://cdn.bokeh.org/bokeh/release/bokeh-2.3.3.min.js\", \"https://cdn.bokeh.org/bokeh/release/bokeh-widgets-2.3.3.min.js\", \"https://cdn.bokeh.org/bokeh/release/bokeh-tables-2.3.3.min.js\"];\n  var css_urls = [];\n  \n\n  var inline_js = [\n    function(Bokeh) {\n      Bokeh.set_log_level(\"info\");\n    },\n    function(Bokeh) {\n    \n    \n    }\n  ];\n\n  function run_inline_js() {\n    \n    if (root.Bokeh !== undefined || force === true) {\n      \n    for (var i = 0; i < inline_js.length; i++) {\n      inline_js[i].call(root, root.Bokeh);\n    }\n    if (force === true) {\n        display_loaded();\n      }} else if (Date.now() < root._bokeh_timeout) {\n      setTimeout(run_inline_js, 100);\n    } else if (!root._bokeh_failed_load) {\n      console.log(\"Bokeh: BokehJS failed to load within specified timeout.\");\n      root._bokeh_failed_load = true;\n    } else if (force !== true) {\n      var cell = $(document.getElementById(\"1002\")).parents('.cell').data().cell;\n      cell.output_area.append_execute_result(NB_LOAD_WARNING)\n    }\n\n  }\n\n  if (root._bokeh_is_loading === 0) {\n    console.debug(\"Bokeh: BokehJS loaded, going straight to plotting\");\n    run_inline_js();\n  } else {\n    load_libs(css_urls, js_urls, function() {\n      console.debug(\"Bokeh: BokehJS plotting callback run at\", now());\n      run_inline_js();\n    });\n  }\n}(window));",
      "application/vnd.bokehjs_load.v0+json": ""
     },
     "metadata": {},
     "output_type": "display_data"
    }
   ],
   "source": [
    "data_util = Ros2DataModelUtil(handler.data)\n",
    "\n",
    "callback_symbols = data_util.get_callback_symbols()\n",
    "\n",
    "output_notebook()\n",
    "psize = 450\n",
    "colours = ['#29788E', '#DD4968', '#410967']"
   ]
  },
  {
   "cell_type": "code",
   "execution_count": 5,
   "metadata": {},
   "outputs": [
    {
     "name": "stderr",
     "output_type": "stream",
     "text": [
      "BokehDeprecationWarning: 'legend' keyword is deprecated, use explicit 'legend_label', 'legend_field', or 'legend_group' keywords instead\n"
     ]
    },
    {
     "data": {
      "text/html": [
       "\n",
       "\n",
       "\n",
       "\n",
       "\n",
       "\n",
       "  <div class=\"bk-root\" id=\"3ee753c8-54b1-4339-bfd0-175cccd62d77\" data-root-id=\"1094\"></div>\n"
      ]
     },
     "metadata": {},
     "output_type": "display_data"
    },
    {
     "data": {
      "application/javascript": "(function(root) {\n  function embed_document(root) {\n    \n  var docs_json = {\"0fdb71fe-633f-4b70-a39b-399d8909f85c\":{\"defs\":[],\"roots\":{\"references\":[{\"attributes\":{\"children\":[{\"id\":\"1004\"},{\"id\":\"1056\"}]},\"id\":\"1094\",\"type\":\"Row\"},{\"attributes\":{},\"id\":\"1059\",\"type\":\"DataRange1d\"},{\"attributes\":{\"align\":\"center\",\"text\":\"Timer\"},\"id\":\"1005\",\"type\":\"Title\"},{\"attributes\":{},\"id\":\"1061\",\"type\":\"DataRange1d\"},{\"attributes\":{},\"id\":\"1065\",\"type\":\"LinearScale\"},{\"attributes\":{},\"id\":\"1063\",\"type\":\"LinearScale\"},{\"attributes\":{\"axis_label\":\"duration (ms)\",\"formatter\":{\"id\":\"1103\"},\"major_label_policy\":{\"id\":\"1102\"},\"ticker\":{\"id\":\"1068\"}},\"id\":\"1067\",\"type\":\"LinearAxis\"},{\"attributes\":{},\"id\":\"1068\",\"type\":\"BasicTicker\"},{\"attributes\":{\"bottom_units\":\"screen\",\"fill_alpha\":0.5,\"fill_color\":\"lightgrey\",\"left_units\":\"screen\",\"level\":\"overlay\",\"line_alpha\":1.0,\"line_color\":\"black\",\"line_dash\":[4,4],\"line_width\":2,\"right_units\":\"screen\",\"syncable\":false,\"top_units\":\"screen\"},\"id\":\"1029\",\"type\":\"BoxAnnotation\"},{\"attributes\":{\"axis\":{\"id\":\"1067\"},\"ticker\":null},\"id\":\"1070\",\"type\":\"Grid\"},{\"attributes\":{},\"id\":\"1016\",\"type\":\"BasicTicker\"},{\"attributes\":{},\"id\":\"1076\",\"type\":\"WheelZoomTool\"},{\"attributes\":{},\"id\":\"1007\",\"type\":\"DataRange1d\"},{\"attributes\":{},\"id\":\"1043\",\"type\":\"AllLabels\"},{\"attributes\":{\"axis_label\":\"frequency\",\"formatter\":{\"id\":\"1106\"},\"major_label_policy\":{\"id\":\"1105\"},\"ticker\":{\"id\":\"1072\"}},\"id\":\"1071\",\"type\":\"LinearAxis\"},{\"attributes\":{},\"id\":\"1111\",\"type\":\"UnionRenderers\"},{\"attributes\":{\"axis\":{\"id\":\"1071\"},\"dimension\":1,\"ticker\":null},\"id\":\"1074\",\"type\":\"Grid\"},{\"attributes\":{\"line_color\":\"#29788E\",\"line_width\":2,\"x\":{\"field\":\"timestamp\"},\"y\":{\"field\":\"duration\"}},\"id\":\"1038\",\"type\":\"Line\"},{\"attributes\":{},\"id\":\"1112\",\"type\":\"Selection\"},{\"attributes\":{},\"id\":\"1072\",\"type\":\"BasicTicker\"},{\"attributes\":{\"source\":{\"id\":\"1003\"}},\"id\":\"1041\",\"type\":\"CDSView\"},{\"attributes\":{\"active_multi\":null,\"tools\":[{\"id\":\"1075\"},{\"id\":\"1076\"},{\"id\":\"1077\"},{\"id\":\"1078\"},{\"id\":\"1079\"},{\"id\":\"1080\"}]},\"id\":\"1082\",\"type\":\"Toolbar\"},{\"attributes\":{},\"id\":\"1024\",\"type\":\"WheelZoomTool\"},{\"attributes\":{},\"id\":\"1013\",\"type\":\"LinearScale\"},{\"attributes\":{},\"id\":\"1080\",\"type\":\"HelpTool\"},{\"attributes\":{\"below\":[{\"id\":\"1015\"}],\"center\":[{\"id\":\"1018\"},{\"id\":\"1022\"},{\"id\":\"1052\"}],\"height\":450,\"left\":[{\"id\":\"1019\"}],\"renderers\":[{\"id\":\"1040\"}],\"title\":{\"id\":\"1005\"},\"toolbar\":{\"id\":\"1030\"},\"width\":450,\"x_range\":{\"id\":\"1007\"},\"x_scale\":{\"id\":\"1011\"},\"y_range\":{\"id\":\"1009\"},\"y_scale\":{\"id\":\"1013\"}},\"id\":\"1004\",\"subtype\":\"Figure\",\"type\":\"Plot\"},{\"attributes\":{\"axis_label\":\"start (2019-11-17 19:15)\",\"formatter\":{\"id\":\"1054\"},\"major_label_policy\":{\"id\":\"1043\"},\"ticker\":{\"id\":\"1016\"}},\"id\":\"1015\",\"type\":\"LinearAxis\"},{\"attributes\":{},\"id\":\"1046\",\"type\":\"AllLabels\"},{\"attributes\":{},\"id\":\"1075\",\"type\":\"PanTool\"},{\"attributes\":{},\"id\":\"1011\",\"type\":\"LinearScale\"},{\"attributes\":{\"overlay\":{\"id\":\"1081\"}},\"id\":\"1077\",\"type\":\"BoxZoomTool\"},{\"attributes\":{\"bottom\":{\"value\":0},\"fill_color\":{\"value\":\"#29788E\"},\"left\":{\"field\":\"left\"},\"line_color\":{\"value\":\"#29788E\"},\"right\":{\"field\":\"right\"},\"top\":{\"field\":\"top\"}},\"id\":\"1090\",\"type\":\"Quad\"},{\"attributes\":{},\"id\":\"1078\",\"type\":\"SaveTool\"},{\"attributes\":{\"data\":{\"left\":{\"__ndarray__\":\"kE5d+SzPoz9ClqpZDMOsP/ru+9x127I/0pIijWVVtz+rNkk9Vc+7P0Ltt3aiJMA/Lj/LTpphwj8akd4mkp7EPwfj8f6J28Y/8zQF14EYyT8=\",\"dtype\":\"float64\",\"order\":\"little\",\"shape\":[10]},\"right\":{\"__ndarray__\":\"QpaqWQzDrD/67vvcdduyP9KSIo1lVbc/qzZJPVXPuz9C7bd2oiTAPy4/y06aYcI/GpHeJpKexD8H4/H+idvGP/M0BdeBGMk/4IYYr3lVyz8=\",\"dtype\":\"float64\",\"order\":\"little\",\"shape\":[10]},\"top\":[5,0,2,13,9,3,0,0,1,2]},\"selected\":{\"id\":\"1112\"},\"selection_policy\":{\"id\":\"1111\"}},\"id\":\"1089\",\"type\":\"ColumnDataSource\"},{\"attributes\":{\"axis_label\":\"duration (ms)\",\"formatter\":{\"id\":\"1047\"},\"major_label_policy\":{\"id\":\"1046\"},\"ticker\":{\"id\":\"1020\"}},\"id\":\"1019\",\"type\":\"LinearAxis\"},{\"attributes\":{},\"id\":\"1079\",\"type\":\"ResetTool\"},{\"attributes\":{\"axis\":{\"id\":\"1019\"},\"dimension\":1,\"ticker\":null},\"id\":\"1022\",\"type\":\"Grid\"},{\"attributes\":{},\"id\":\"1047\",\"type\":\"BasicTickFormatter\"},{\"attributes\":{\"bottom\":{\"value\":0},\"fill_alpha\":{\"value\":0.1},\"fill_color\":{\"value\":\"#29788E\"},\"left\":{\"field\":\"left\"},\"line_alpha\":{\"value\":0.1},\"line_color\":{\"value\":\"#29788E\"},\"right\":{\"field\":\"right\"},\"top\":{\"field\":\"top\"}},\"id\":\"1091\",\"type\":\"Quad\"},{\"attributes\":{},\"id\":\"1020\",\"type\":\"BasicTicker\"},{\"attributes\":{},\"id\":\"1009\",\"type\":\"DataRange1d\"},{\"attributes\":{\"active_multi\":null,\"tools\":[{\"id\":\"1023\"},{\"id\":\"1024\"},{\"id\":\"1025\"},{\"id\":\"1026\"},{\"id\":\"1027\"},{\"id\":\"1028\"}]},\"id\":\"1030\",\"type\":\"Toolbar\"},{\"attributes\":{\"label\":{\"value\":\"void (PingNode::?)()\"},\"renderers\":[{\"id\":\"1040\"}]},\"id\":\"1053\",\"type\":\"LegendItem\"},{\"attributes\":{\"items\":[{\"id\":\"1053\"}],\"label_text_font_size\":\"11px\"},\"id\":\"1052\",\"type\":\"Legend\"},{\"attributes\":{\"source\":{\"id\":\"1089\"}},\"id\":\"1093\",\"type\":\"CDSView\"},{\"attributes\":{\"bottom_units\":\"screen\",\"fill_alpha\":0.5,\"fill_color\":\"lightgrey\",\"left_units\":\"screen\",\"level\":\"overlay\",\"line_alpha\":1.0,\"line_color\":\"black\",\"line_dash\":[4,4],\"line_width\":2,\"right_units\":\"screen\",\"syncable\":false,\"top_units\":\"screen\"},\"id\":\"1081\",\"type\":\"BoxAnnotation\"},{\"attributes\":{\"data_source\":{\"id\":\"1089\"},\"glyph\":{\"id\":\"1090\"},\"hover_glyph\":null,\"muted_glyph\":null,\"nonselection_glyph\":{\"id\":\"1091\"},\"view\":{\"id\":\"1093\"}},\"id\":\"1092\",\"type\":\"GlyphRenderer\"},{\"attributes\":{},\"id\":\"1028\",\"type\":\"HelpTool\"},{\"attributes\":{},\"id\":\"1102\",\"type\":\"AllLabels\"},{\"attributes\":{\"axis\":{\"id\":\"1015\"},\"ticker\":null},\"id\":\"1018\",\"type\":\"Grid\"},{\"attributes\":{},\"id\":\"1023\",\"type\":\"PanTool\"},{\"attributes\":{\"overlay\":{\"id\":\"1029\"}},\"id\":\"1025\",\"type\":\"BoxZoomTool\"},{\"attributes\":{},\"id\":\"1103\",\"type\":\"BasicTickFormatter\"},{\"attributes\":{},\"id\":\"1026\",\"type\":\"SaveTool\"},{\"attributes\":{},\"id\":\"1027\",\"type\":\"ResetTool\"},{\"attributes\":{},\"id\":\"1049\",\"type\":\"UnionRenderers\"},{\"attributes\":{},\"id\":\"1054\",\"type\":\"DatetimeTickFormatter\"},{\"attributes\":{},\"id\":\"1105\",\"type\":\"AllLabels\"},{\"attributes\":{},\"id\":\"1050\",\"type\":\"Selection\"},{\"attributes\":{\"line_alpha\":0.1,\"line_color\":\"#29788E\",\"line_width\":2,\"x\":{\"field\":\"timestamp\"},\"y\":{\"field\":\"duration\"}},\"id\":\"1039\",\"type\":\"Line\"},{\"attributes\":{},\"id\":\"1106\",\"type\":\"BasicTickFormatter\"},{\"attributes\":{\"below\":[{\"id\":\"1067\"}],\"center\":[{\"id\":\"1070\"},{\"id\":\"1074\"}],\"height\":450,\"left\":[{\"id\":\"1071\"}],\"renderers\":[{\"id\":\"1092\"}],\"title\":{\"id\":\"1057\"},\"toolbar\":{\"id\":\"1082\"},\"width\":450,\"x_range\":{\"id\":\"1059\"},\"x_scale\":{\"id\":\"1063\"},\"y_range\":{\"id\":\"1061\"},\"y_scale\":{\"id\":\"1065\"}},\"id\":\"1056\",\"subtype\":\"Figure\",\"type\":\"Plot\"},{\"attributes\":{\"data_source\":{\"id\":\"1003\"},\"glyph\":{\"id\":\"1038\"},\"hover_glyph\":null,\"muted_glyph\":null,\"nonselection_glyph\":{\"id\":\"1039\"},\"view\":{\"id\":\"1041\"}},\"id\":\"1040\",\"type\":\"GlyphRenderer\"},{\"attributes\":{\"data\":{\"duration\":{\"__ndarray__\":\"zR39L9eiyT/E0sCPati7Py0FpP0PsLo/HXIz3IDPtz/Y17rUCP2kP9GuQspPqrk/dSFWf4RhuD/6YYTwaOOoP9WT+UffpLU/XTelvFZCxz95AmGnWDXAP3R63o0Fhbk/58OzBBkBuT9WYTPABdm+P8PX17rUCLk/W5TZIJOMvD/mzkwwnGu4P+Z5cHfWbr8/pIl3gCctuD8dA7LXuz+6P/KZ7J+nAcE/CW05l+Kqvj/AWUqWk1C2P56VtOIbCrs/4IYYr3lVyz+OeR1xyAbCP5MehlYnZ7w/sOjWa3pQvD/5Tsx6MZS/P0Kwql5+p6k/9IjRcwtduT9wXpz4ake9P5rqyfyjb6o/kE5d+SzPoz/gTbfsEP+4Pw==\",\"dtype\":\"float64\",\"order\":\"little\",\"shape\":[35]},\"index\":[0,3,6,9,12,15,18,21,24,27,30,33,36,39,42,45,48,51,54,57,60,63,66,69,72,75,78,81,84,87,90,93,96,99,102],\"timestamp\":{\"__ndarray__\":\"pptrsKzndkIC24qwrOd2QskaqrCs53ZCFFrJsKzndkK6l+iwrOd2QuXaB7Gs53ZCIxsnsazndkK0WEaxrOd2QumaZbGs53ZCdd2EsazndkJtHaSxrOd2Qh1cw7Gs53ZCAJzisazndkIC3QGyrOd2QiEcIbKs53ZCnl1AsqzndkLFnF+yrOd2QtncfrKs53ZCZh6esqzndkLsXb2yrOd2Qg6f3LKs53ZC8N37sqzndkJIHRuzrOd2QjleOrOs53ZCG6FZs6zndkIS33izrOd2QrYfmLOs53ZCMWC3s6zndkLhotazrOd2Qhne9bOs53ZCzx8VtKzndkIAYDS0rOd2QpadU7Ss53ZC9txytKzndkJ9H5K0rOd2Qg==\",\"dtype\":\"float64\",\"order\":\"little\",\"shape\":[35]}},\"selected\":{\"id\":\"1050\"},\"selection_policy\":{\"id\":\"1049\"}},\"id\":\"1003\",\"type\":\"ColumnDataSource\"},{\"attributes\":{\"align\":\"center\",\"text\":\"Duration histogram\"},\"id\":\"1057\",\"type\":\"Title\"}],\"root_ids\":[\"1094\"]},\"title\":\"Bokeh Application\",\"version\":\"2.3.3\"}};\n  var render_items = [{\"docid\":\"0fdb71fe-633f-4b70-a39b-399d8909f85c\",\"root_ids\":[\"1094\"],\"roots\":{\"1094\":\"3ee753c8-54b1-4339-bfd0-175cccd62d77\"}}];\n  root.Bokeh.embed.embed_items_notebook(docs_json, render_items);\n\n  }\n  if (root.Bokeh !== undefined) {\n    embed_document(root);\n  } else {\n    var attempts = 0;\n    var timer = setInterval(function(root) {\n      if (root.Bokeh !== undefined) {\n        clearInterval(timer);\n        embed_document(root);\n      } else {\n        attempts++;\n        if (attempts > 100) {\n          clearInterval(timer);\n          console.log(\"Bokeh: ERROR: Unable to run BokehJS code because BokehJS library is missing\");\n        }\n      }\n    }, 10, root)\n  }\n})(window);",
      "application/vnd.bokehjs_exec.v0+json": ""
     },
     "metadata": {
      "application/vnd.bokehjs_exec.v0+json": {
       "id": "1094"
      }
     },
     "output_type": "display_data"
    },
    {
     "name": "stderr",
     "output_type": "stream",
     "text": [
      "BokehDeprecationWarning: 'legend' keyword is deprecated, use explicit 'legend_label', 'legend_field', or 'legend_group' keywords instead\n"
     ]
    },
    {
     "data": {
      "text/html": [
       "\n",
       "\n",
       "\n",
       "\n",
       "\n",
       "\n",
       "  <div class=\"bk-root\" id=\"0a68eba2-99b7-4268-9fff-fedf35a8a717\" data-root-id=\"1300\"></div>\n"
      ]
     },
     "metadata": {},
     "output_type": "display_data"
    },
    {
     "data": {
      "application/javascript": "(function(root) {\n  function embed_document(root) {\n    \n  var docs_json = {\"24f6801e-366a-437e-b759-f2e5ef9739c9\":{\"defs\":[],\"roots\":{\"references\":[{\"attributes\":{\"children\":[{\"id\":\"1210\"},{\"id\":\"1262\"}]},\"id\":\"1300\",\"type\":\"Row\"},{\"attributes\":{},\"id\":\"1256\",\"type\":\"Selection\"},{\"attributes\":{\"label\":{\"value\":\"void (PongNode::?)(std::shared_ptr<std_msgs::msg::String>)\"},\"renderers\":[{\"id\":\"1246\"}]},\"id\":\"1259\",\"type\":\"LegendItem\"},{\"attributes\":{},\"id\":\"1330\",\"type\":\"AllLabels\"},{\"attributes\":{\"items\":[{\"id\":\"1259\"}],\"label_text_font_size\":\"11px\"},\"id\":\"1258\",\"type\":\"Legend\"},{\"attributes\":{},\"id\":\"1252\",\"type\":\"AllLabels\"},{\"attributes\":{},\"id\":\"1265\",\"type\":\"DataRange1d\"},{\"attributes\":{\"bottom_units\":\"screen\",\"fill_alpha\":0.5,\"fill_color\":\"lightgrey\",\"left_units\":\"screen\",\"level\":\"overlay\",\"line_alpha\":1.0,\"line_color\":\"black\",\"line_dash\":[4,4],\"line_width\":2,\"right_units\":\"screen\",\"syncable\":false,\"top_units\":\"screen\"},\"id\":\"1287\",\"type\":\"BoxAnnotation\"},{\"attributes\":{},\"id\":\"1232\",\"type\":\"SaveTool\"},{\"attributes\":{\"axis_label\":\"duration (ms)\",\"formatter\":{\"id\":\"1253\"},\"major_label_policy\":{\"id\":\"1252\"},\"ticker\":{\"id\":\"1226\"}},\"id\":\"1225\",\"type\":\"LinearAxis\"},{\"attributes\":{\"axis\":{\"id\":\"1225\"},\"dimension\":1,\"ticker\":null},\"id\":\"1228\",\"type\":\"Grid\"},{\"attributes\":{\"below\":[{\"id\":\"1221\"}],\"center\":[{\"id\":\"1224\"},{\"id\":\"1228\"},{\"id\":\"1258\"}],\"height\":450,\"left\":[{\"id\":\"1225\"}],\"renderers\":[{\"id\":\"1246\"}],\"title\":{\"id\":\"1211\"},\"toolbar\":{\"id\":\"1236\"},\"width\":450,\"x_range\":{\"id\":\"1213\"},\"x_scale\":{\"id\":\"1217\"},\"y_range\":{\"id\":\"1215\"},\"y_scale\":{\"id\":\"1219\"}},\"id\":\"1210\",\"subtype\":\"Figure\",\"type\":\"Plot\"},{\"attributes\":{\"data\":{\"left\":{\"__ndarray__\":\"H9rHCn4bsj/lgcgiTbzTP6GGb2HdeOE/UMx6MZQT6T//CMOAJVfwP9aryOiAJPQ/rk7OUNzx9z+F8dO4N7/7P1yU2SCTjP8/mptvRPesAUA=\",\"dtype\":\"float64\",\"order\":\"little\",\"shape\":[10]},\"right\":{\"__ndarray__\":\"5YHIIk280z+hhm9h3XjhP1DMejGUE+k//wjDgCVX8D/Wq8jogCT0P65OzlDc8fc/hfHTuDe/+z9clNkgk4z/P5qbb0T3rAFABW1y+KSTA0A=\",\"dtype\":\"float64\",\"order\":\"little\",\"shape\":[10]},\"top\":[27,6,0,1,0,0,0,0,0,1]},\"selected\":{\"id\":\"1337\"},\"selection_policy\":{\"id\":\"1336\"}},\"id\":\"1295\",\"type\":\"ColumnDataSource\"},{\"attributes\":{},\"id\":\"1336\",\"type\":\"UnionRenderers\"},{\"attributes\":{},\"id\":\"1267\",\"type\":\"DataRange1d\"},{\"attributes\":{},\"id\":\"1337\",\"type\":\"Selection\"},{\"attributes\":{},\"id\":\"1271\",\"type\":\"LinearScale\"},{\"attributes\":{\"overlay\":{\"id\":\"1235\"}},\"id\":\"1231\",\"type\":\"BoxZoomTool\"},{\"attributes\":{},\"id\":\"1269\",\"type\":\"LinearScale\"},{\"attributes\":{},\"id\":\"1234\",\"type\":\"HelpTool\"},{\"attributes\":{},\"id\":\"1331\",\"type\":\"BasicTickFormatter\"},{\"attributes\":{\"axis_label\":\"duration (ms)\",\"formatter\":{\"id\":\"1328\"},\"major_label_policy\":{\"id\":\"1327\"},\"ticker\":{\"id\":\"1274\"}},\"id\":\"1273\",\"type\":\"LinearAxis\"},{\"attributes\":{\"source\":{\"id\":\"1209\"}},\"id\":\"1247\",\"type\":\"CDSView\"},{\"attributes\":{},\"id\":\"1274\",\"type\":\"BasicTicker\"},{\"attributes\":{},\"id\":\"1213\",\"type\":\"DataRange1d\"},{\"attributes\":{\"axis\":{\"id\":\"1273\"},\"ticker\":null},\"id\":\"1276\",\"type\":\"Grid\"},{\"attributes\":{},\"id\":\"1233\",\"type\":\"ResetTool\"},{\"attributes\":{\"line_alpha\":0.1,\"line_color\":\"#DD4968\",\"line_width\":2,\"x\":{\"field\":\"timestamp\"},\"y\":{\"field\":\"duration\"}},\"id\":\"1245\",\"type\":\"Line\"},{\"attributes\":{},\"id\":\"1282\",\"type\":\"WheelZoomTool\"},{\"attributes\":{},\"id\":\"1215\",\"type\":\"DataRange1d\"},{\"attributes\":{\"axis_label\":\"frequency\",\"formatter\":{\"id\":\"1331\"},\"major_label_policy\":{\"id\":\"1330\"},\"ticker\":{\"id\":\"1278\"}},\"id\":\"1277\",\"type\":\"LinearAxis\"},{\"attributes\":{\"axis\":{\"id\":\"1277\"},\"dimension\":1,\"ticker\":null},\"id\":\"1280\",\"type\":\"Grid\"},{\"attributes\":{},\"id\":\"1219\",\"type\":\"LinearScale\"},{\"attributes\":{\"bottom_units\":\"screen\",\"fill_alpha\":0.5,\"fill_color\":\"lightgrey\",\"left_units\":\"screen\",\"level\":\"overlay\",\"line_alpha\":1.0,\"line_color\":\"black\",\"line_dash\":[4,4],\"line_width\":2,\"right_units\":\"screen\",\"syncable\":false,\"top_units\":\"screen\"},\"id\":\"1235\",\"type\":\"BoxAnnotation\"},{\"attributes\":{\"line_color\":\"#DD4968\",\"line_width\":2,\"x\":{\"field\":\"timestamp\"},\"y\":{\"field\":\"duration\"}},\"id\":\"1244\",\"type\":\"Line\"},{\"attributes\":{},\"id\":\"1278\",\"type\":\"BasicTicker\"},{\"attributes\":{},\"id\":\"1255\",\"type\":\"UnionRenderers\"},{\"attributes\":{},\"id\":\"1286\",\"type\":\"HelpTool\"},{\"attributes\":{\"active_multi\":null,\"tools\":[{\"id\":\"1281\"},{\"id\":\"1282\"},{\"id\":\"1283\"},{\"id\":\"1284\"},{\"id\":\"1285\"},{\"id\":\"1286\"}]},\"id\":\"1288\",\"type\":\"Toolbar\"},{\"attributes\":{},\"id\":\"1222\",\"type\":\"BasicTicker\"},{\"attributes\":{},\"id\":\"1281\",\"type\":\"PanTool\"},{\"attributes\":{\"align\":\"center\",\"text\":\"Subscription\"},\"id\":\"1211\",\"type\":\"Title\"},{\"attributes\":{},\"id\":\"1230\",\"type\":\"WheelZoomTool\"},{\"attributes\":{\"overlay\":{\"id\":\"1287\"}},\"id\":\"1283\",\"type\":\"BoxZoomTool\"},{\"attributes\":{},\"id\":\"1284\",\"type\":\"SaveTool\"},{\"attributes\":{\"below\":[{\"id\":\"1273\"}],\"center\":[{\"id\":\"1276\"},{\"id\":\"1280\"}],\"height\":450,\"left\":[{\"id\":\"1277\"}],\"renderers\":[{\"id\":\"1298\"}],\"title\":{\"id\":\"1263\"},\"toolbar\":{\"id\":\"1288\"},\"width\":450,\"x_range\":{\"id\":\"1265\"},\"x_scale\":{\"id\":\"1269\"},\"y_range\":{\"id\":\"1267\"},\"y_scale\":{\"id\":\"1271\"}},\"id\":\"1262\",\"subtype\":\"Figure\",\"type\":\"Plot\"},{\"attributes\":{},\"id\":\"1229\",\"type\":\"PanTool\"},{\"attributes\":{},\"id\":\"1253\",\"type\":\"BasicTickFormatter\"},{\"attributes\":{},\"id\":\"1285\",\"type\":\"ResetTool\"},{\"attributes\":{\"axis\":{\"id\":\"1221\"},\"ticker\":null},\"id\":\"1224\",\"type\":\"Grid\"},{\"attributes\":{},\"id\":\"1226\",\"type\":\"BasicTicker\"},{\"attributes\":{\"bottom\":{\"value\":0},\"fill_color\":{\"value\":\"#DD4968\"},\"left\":{\"field\":\"left\"},\"line_color\":{\"value\":\"#DD4968\"},\"right\":{\"field\":\"right\"},\"top\":{\"field\":\"top\"}},\"id\":\"1296\",\"type\":\"Quad\"},{\"attributes\":{\"axis_label\":\"start (2019-11-17 19:15)\",\"formatter\":{\"id\":\"1260\"},\"major_label_policy\":{\"id\":\"1249\"},\"ticker\":{\"id\":\"1222\"}},\"id\":\"1221\",\"type\":\"LinearAxis\"},{\"attributes\":{\"bottom\":{\"value\":0},\"fill_alpha\":{\"value\":0.1},\"fill_color\":{\"value\":\"#DD4968\"},\"left\":{\"field\":\"left\"},\"line_alpha\":{\"value\":0.1},\"line_color\":{\"value\":\"#DD4968\"},\"right\":{\"field\":\"right\"},\"top\":{\"field\":\"top\"}},\"id\":\"1297\",\"type\":\"Quad\"},{\"attributes\":{},\"id\":\"1217\",\"type\":\"LinearScale\"},{\"attributes\":{\"source\":{\"id\":\"1295\"}},\"id\":\"1299\",\"type\":\"CDSView\"},{\"attributes\":{\"data\":{\"duration\":{\"__ndarray__\":\"44xhTtCm7D+5NlSM8zfRPx6M2CeAYtA/sBu2Lcpszj+SO2wiMxe4P380nDI3384/0V0SZ0XUyj8f2scKfhuyP3cv98lRgMg/g4jUtItp2j/+17lpM07NPwCpTZzc78o/PbX66qpA0j+FCDiEKjXNPwGG5c+3Bc8/IXU7+8qD2j8hrMYS1sbMPwVtcvikkwNAbAa4IFuWzT/lnNhD+1jXPyTQYFPnUdk/zAhvD0JA3z/uef60UZ3MP0rs2t5uScw/hVs+kpIezj8QXOUJhJ3SP4rkK4GU2M8/RL5LqUvG2T/8OJojK7/RP+ZbH9Ybtb4/MPKyJhb4yj9AUdmwprLRPzFgyVUsfrc/mj474Lpisj+4zr9d9uvSPw==\",\"dtype\":\"float64\",\"order\":\"little\",\"shape\":[35]},\"index\":[1,4,7,10,13,16,19,22,25,28,31,34,37,40,43,46,49,52,55,58,61,64,67,70,73,76,79,82,85,88,91,94,97,100,103],\"timestamp\":{\"__ndarray__\":\"3axrsKzndkKD5oqwrOd2QlYmqrCs53ZChWfJsKzndkK+m+iwrOd2QgTmB7Gs53ZCECYnsazndkJgXUaxrOd2Qj+lZbGs53ZCRO2EsazndkJGKKSxrOd2Qqxow7Gs53ZCZqbisazndkKy5wGyrOd2Qo0nIbKs53ZCHWpAsqzndkKcpl+yrOd2Qi3qfrKs53ZCYiiesqzndkK2a72yrOd2Qims3LKs53ZCL+v7sqzndkJKJhuzrOd2QqxoOrOs53ZCDrlZs6zndkJ163izrOd2QtsxmLOs53ZCrm23s6zndkKPtNazrOd2Qr7j9bOs53ZCrCoVtKzndkJ9bzS0rOd2Qq6hU7Ss53ZCXuBytKzndkI7K5K0rOd2Qg==\",\"dtype\":\"float64\",\"order\":\"little\",\"shape\":[35]}},\"selected\":{\"id\":\"1256\"},\"selection_policy\":{\"id\":\"1255\"}},\"id\":\"1209\",\"type\":\"ColumnDataSource\"},{\"attributes\":{\"data_source\":{\"id\":\"1209\"},\"glyph\":{\"id\":\"1244\"},\"hover_glyph\":null,\"muted_glyph\":null,\"nonselection_glyph\":{\"id\":\"1245\"},\"view\":{\"id\":\"1247\"}},\"id\":\"1246\",\"type\":\"GlyphRenderer\"},{\"attributes\":{\"align\":\"center\",\"text\":\"Duration histogram\"},\"id\":\"1263\",\"type\":\"Title\"},{\"attributes\":{\"data_source\":{\"id\":\"1295\"},\"glyph\":{\"id\":\"1296\"},\"hover_glyph\":null,\"muted_glyph\":null,\"nonselection_glyph\":{\"id\":\"1297\"},\"view\":{\"id\":\"1299\"}},\"id\":\"1298\",\"type\":\"GlyphRenderer\"},{\"attributes\":{},\"id\":\"1249\",\"type\":\"AllLabels\"},{\"attributes\":{\"active_multi\":null,\"tools\":[{\"id\":\"1229\"},{\"id\":\"1230\"},{\"id\":\"1231\"},{\"id\":\"1232\"},{\"id\":\"1233\"},{\"id\":\"1234\"}]},\"id\":\"1236\",\"type\":\"Toolbar\"},{\"attributes\":{},\"id\":\"1327\",\"type\":\"AllLabels\"},{\"attributes\":{},\"id\":\"1260\",\"type\":\"DatetimeTickFormatter\"},{\"attributes\":{},\"id\":\"1328\",\"type\":\"BasicTickFormatter\"}],\"root_ids\":[\"1300\"]},\"title\":\"Bokeh Application\",\"version\":\"2.3.3\"}};\n  var render_items = [{\"docid\":\"24f6801e-366a-437e-b759-f2e5ef9739c9\",\"root_ids\":[\"1300\"],\"roots\":{\"1300\":\"0a68eba2-99b7-4268-9fff-fedf35a8a717\"}}];\n  root.Bokeh.embed.embed_items_notebook(docs_json, render_items);\n\n  }\n  if (root.Bokeh !== undefined) {\n    embed_document(root);\n  } else {\n    var attempts = 0;\n    var timer = setInterval(function(root) {\n      if (root.Bokeh !== undefined) {\n        clearInterval(timer);\n        embed_document(root);\n      } else {\n        attempts++;\n        if (attempts > 100) {\n          clearInterval(timer);\n          console.log(\"Bokeh: ERROR: Unable to run BokehJS code because BokehJS library is missing\");\n        }\n      }\n    }, 10, root)\n  }\n})(window);",
      "application/vnd.bokehjs_exec.v0+json": ""
     },
     "metadata": {
      "application/vnd.bokehjs_exec.v0+json": {
       "id": "1300"
      }
     },
     "output_type": "display_data"
    },
    {
     "name": "stderr",
     "output_type": "stream",
     "text": [
      "BokehDeprecationWarning: 'legend' keyword is deprecated, use explicit 'legend_label', 'legend_field', or 'legend_group' keywords instead\n"
     ]
    },
    {
     "data": {
      "text/html": [
       "\n",
       "\n",
       "\n",
       "\n",
       "\n",
       "\n",
       "  <div class=\"bk-root\" id=\"a7217bec-f042-4d2a-a912-84d25381a22e\" data-root-id=\"1525\"></div>\n"
      ]
     },
     "metadata": {},
     "output_type": "display_data"
    },
    {
     "data": {
      "application/javascript": "(function(root) {\n  function embed_document(root) {\n    \n  var docs_json = {\"132fbe18-2f4d-4fe2-b491-e3636aa95b36\":{\"defs\":[],\"roots\":{\"references\":[{\"attributes\":{\"children\":[{\"id\":\"1435\"},{\"id\":\"1487\"}]},\"id\":\"1525\",\"type\":\"Row\"},{\"attributes\":{},\"id\":\"1580\",\"type\":\"UnionRenderers\"},{\"attributes\":{},\"id\":\"1581\",\"type\":\"Selection\"},{\"attributes\":{\"below\":[{\"id\":\"1498\"}],\"center\":[{\"id\":\"1501\"},{\"id\":\"1505\"}],\"height\":450,\"left\":[{\"id\":\"1502\"}],\"renderers\":[{\"id\":\"1523\"}],\"title\":{\"id\":\"1488\"},\"toolbar\":{\"id\":\"1513\"},\"width\":450,\"x_range\":{\"id\":\"1490\"},\"x_scale\":{\"id\":\"1494\"},\"y_range\":{\"id\":\"1492\"},\"y_scale\":{\"id\":\"1496\"}},\"id\":\"1487\",\"subtype\":\"Figure\",\"type\":\"Plot\"},{\"attributes\":{},\"id\":\"1451\",\"type\":\"BasicTicker\"},{\"attributes\":{\"data\":{\"left\":{\"__ndarray__\":\"Bn+/mC1ZpT+SViGKbmK3P9B28SMjDMI/WELSAg9nyD/gDbPh+sHOP7TsSWBzjtI/d1K6T+m71T87uCo/X+nYP/8dmy7VFtw/w4MLHktE3z8=\",\"dtype\":\"float64\",\"order\":\"little\",\"shape\":[10]},\"right\":{\"__ndarray__\":\"klYhim5itz/QdvEjIwzCP1hC0gIPZ8g/4A2z4frBzj+07Elgc47SP3dSuk/pu9U/O7gqP1/p2D//HZsu1RbcP8ODCx5LRN8/w/S9huA44T8=\",\"dtype\":\"float64\",\"order\":\"little\",\"shape\":[10]},\"top\":[5,5,15,9,0,0,0,0,0,1]},\"selected\":{\"id\":\"1581\"},\"selection_policy\":{\"id\":\"1580\"}},\"id\":\"1520\",\"type\":\"ColumnDataSource\"},{\"attributes\":{},\"id\":\"1492\",\"type\":\"DataRange1d\"},{\"attributes\":{},\"id\":\"1481\",\"type\":\"Selection\"},{\"attributes\":{\"bottom_units\":\"screen\",\"fill_alpha\":0.5,\"fill_color\":\"lightgrey\",\"left_units\":\"screen\",\"level\":\"overlay\",\"line_alpha\":1.0,\"line_color\":\"black\",\"line_dash\":[4,4],\"line_width\":2,\"right_units\":\"screen\",\"syncable\":false,\"top_units\":\"screen\"},\"id\":\"1512\",\"type\":\"BoxAnnotation\"},{\"attributes\":{},\"id\":\"1496\",\"type\":\"LinearScale\"},{\"attributes\":{},\"id\":\"1494\",\"type\":\"LinearScale\"},{\"attributes\":{\"align\":\"center\",\"text\":\"Duration histogram\"},\"id\":\"1488\",\"type\":\"Title\"},{\"attributes\":{\"axis_label\":\"duration (ms)\",\"formatter\":{\"id\":\"1572\"},\"major_label_policy\":{\"id\":\"1571\"},\"ticker\":{\"id\":\"1499\"}},\"id\":\"1498\",\"type\":\"LinearAxis\"},{\"attributes\":{\"axis_label\":\"start (2019-11-17 19:15)\",\"formatter\":{\"id\":\"1485\"},\"major_label_policy\":{\"id\":\"1474\"},\"ticker\":{\"id\":\"1447\"}},\"id\":\"1446\",\"type\":\"LinearAxis\"},{\"attributes\":{},\"id\":\"1499\",\"type\":\"BasicTicker\"},{\"attributes\":{\"axis\":{\"id\":\"1498\"},\"ticker\":null},\"id\":\"1501\",\"type\":\"Grid\"},{\"attributes\":{},\"id\":\"1507\",\"type\":\"WheelZoomTool\"},{\"attributes\":{\"below\":[{\"id\":\"1446\"}],\"center\":[{\"id\":\"1449\"},{\"id\":\"1453\"},{\"id\":\"1483\"}],\"height\":450,\"left\":[{\"id\":\"1450\"}],\"renderers\":[{\"id\":\"1471\"}],\"title\":{\"id\":\"1436\"},\"toolbar\":{\"id\":\"1461\"},\"width\":450,\"x_range\":{\"id\":\"1438\"},\"x_scale\":{\"id\":\"1442\"},\"y_range\":{\"id\":\"1440\"},\"y_scale\":{\"id\":\"1444\"}},\"id\":\"1435\",\"subtype\":\"Figure\",\"type\":\"Plot\"},{\"attributes\":{\"axis_label\":\"frequency\",\"formatter\":{\"id\":\"1575\"},\"major_label_policy\":{\"id\":\"1574\"},\"ticker\":{\"id\":\"1503\"}},\"id\":\"1502\",\"type\":\"LinearAxis\"},{\"attributes\":{\"align\":\"center\",\"text\":\"Subscription\"},\"id\":\"1436\",\"type\":\"Title\"},{\"attributes\":{\"axis\":{\"id\":\"1502\"},\"dimension\":1,\"ticker\":null},\"id\":\"1505\",\"type\":\"Grid\"},{\"attributes\":{\"overlay\":{\"id\":\"1460\"}},\"id\":\"1456\",\"type\":\"BoxZoomTool\"},{\"attributes\":{},\"id\":\"1503\",\"type\":\"BasicTicker\"},{\"attributes\":{\"bottom_units\":\"screen\",\"fill_alpha\":0.5,\"fill_color\":\"lightgrey\",\"left_units\":\"screen\",\"level\":\"overlay\",\"line_alpha\":1.0,\"line_color\":\"black\",\"line_dash\":[4,4],\"line_width\":2,\"right_units\":\"screen\",\"syncable\":false,\"top_units\":\"screen\"},\"id\":\"1460\",\"type\":\"BoxAnnotation\"},{\"attributes\":{\"axis_label\":\"duration (ms)\",\"formatter\":{\"id\":\"1478\"},\"major_label_policy\":{\"id\":\"1477\"},\"ticker\":{\"id\":\"1451\"}},\"id\":\"1450\",\"type\":\"LinearAxis\"},{\"attributes\":{},\"id\":\"1440\",\"type\":\"DataRange1d\"},{\"attributes\":{},\"id\":\"1511\",\"type\":\"HelpTool\"},{\"attributes\":{},\"id\":\"1442\",\"type\":\"LinearScale\"},{\"attributes\":{\"active_multi\":null,\"tools\":[{\"id\":\"1506\"},{\"id\":\"1507\"},{\"id\":\"1508\"},{\"id\":\"1509\"},{\"id\":\"1510\"},{\"id\":\"1511\"}]},\"id\":\"1513\",\"type\":\"Toolbar\"},{\"attributes\":{},\"id\":\"1506\",\"type\":\"PanTool\"},{\"attributes\":{},\"id\":\"1447\",\"type\":\"BasicTicker\"},{\"attributes\":{\"overlay\":{\"id\":\"1512\"}},\"id\":\"1508\",\"type\":\"BoxZoomTool\"},{\"attributes\":{\"axis\":{\"id\":\"1450\"},\"dimension\":1,\"ticker\":null},\"id\":\"1453\",\"type\":\"Grid\"},{\"attributes\":{},\"id\":\"1459\",\"type\":\"HelpTool\"},{\"attributes\":{\"axis\":{\"id\":\"1446\"},\"ticker\":null},\"id\":\"1449\",\"type\":\"Grid\"},{\"attributes\":{},\"id\":\"1509\",\"type\":\"SaveTool\"},{\"attributes\":{},\"id\":\"1455\",\"type\":\"WheelZoomTool\"},{\"attributes\":{},\"id\":\"1510\",\"type\":\"ResetTool\"},{\"attributes\":{\"data_source\":{\"id\":\"1434\"},\"glyph\":{\"id\":\"1469\"},\"hover_glyph\":null,\"muted_glyph\":null,\"nonselection_glyph\":{\"id\":\"1470\"},\"view\":{\"id\":\"1472\"}},\"id\":\"1471\",\"type\":\"GlyphRenderer\"},{\"attributes\":{\"bottom\":{\"value\":0},\"fill_color\":{\"value\":\"#410967\"},\"left\":{\"field\":\"left\"},\"line_color\":{\"value\":\"#410967\"},\"right\":{\"field\":\"right\"},\"top\":{\"field\":\"top\"}},\"id\":\"1521\",\"type\":\"Quad\"},{\"attributes\":{},\"id\":\"1454\",\"type\":\"PanTool\"},{\"attributes\":{},\"id\":\"1480\",\"type\":\"UnionRenderers\"},{\"attributes\":{\"label\":{\"value\":\"void (PingNode::?)(std::shared_ptr<std_msgs::msg::String>)\"},\"renderers\":[{\"id\":\"1471\"}]},\"id\":\"1484\",\"type\":\"LegendItem\"},{\"attributes\":{\"bottom\":{\"value\":0},\"fill_alpha\":{\"value\":0.1},\"fill_color\":{\"value\":\"#410967\"},\"left\":{\"field\":\"left\"},\"line_alpha\":{\"value\":0.1},\"line_color\":{\"value\":\"#410967\"},\"right\":{\"field\":\"right\"},\"top\":{\"field\":\"top\"}},\"id\":\"1522\",\"type\":\"Quad\"},{\"attributes\":{},\"id\":\"1457\",\"type\":\"SaveTool\"},{\"attributes\":{\"source\":{\"id\":\"1520\"}},\"id\":\"1524\",\"type\":\"CDSView\"},{\"attributes\":{\"data_source\":{\"id\":\"1520\"},\"glyph\":{\"id\":\"1521\"},\"hover_glyph\":null,\"muted_glyph\":null,\"nonselection_glyph\":{\"id\":\"1522\"},\"view\":{\"id\":\"1524\"}},\"id\":\"1523\",\"type\":\"GlyphRenderer\"},{\"attributes\":{},\"id\":\"1571\",\"type\":\"AllLabels\"},{\"attributes\":{},\"id\":\"1572\",\"type\":\"BasicTickFormatter\"},{\"attributes\":{},\"id\":\"1485\",\"type\":\"DatetimeTickFormatter\"},{\"attributes\":{},\"id\":\"1474\",\"type\":\"AllLabels\"},{\"attributes\":{},\"id\":\"1444\",\"type\":\"LinearScale\"},{\"attributes\":{\"active_multi\":null,\"tools\":[{\"id\":\"1454\"},{\"id\":\"1455\"},{\"id\":\"1456\"},{\"id\":\"1457\"},{\"id\":\"1458\"},{\"id\":\"1459\"}]},\"id\":\"1461\",\"type\":\"Toolbar\"},{\"attributes\":{},\"id\":\"1574\",\"type\":\"AllLabels\"},{\"attributes\":{},\"id\":\"1438\",\"type\":\"DataRange1d\"},{\"attributes\":{},\"id\":\"1458\",\"type\":\"ResetTool\"},{\"attributes\":{},\"id\":\"1490\",\"type\":\"DataRange1d\"},{\"attributes\":{\"source\":{\"id\":\"1434\"}},\"id\":\"1472\",\"type\":\"CDSView\"},{\"attributes\":{\"data\":{\"duration\":{\"__ndarray__\":\"w/S9huA44T+GHFvPEI7LPxReglMfSMI/Zttpa0QwwD+OA6+WOzOpP/lJtU/HY8Q/d9oaEYyDxT/NI38w8NyrP7SPFfw2xMA/rMq+K4L/yT/ymIHK+PfLPzmZuFUQA8M/Gw5LAz+qyz+2SrA4nPnFPyjWqfI9I8M/M8LbgxCQwz/OjekJSzzEP3RFKSFYVcU/fh04Z0RpxT+3tvC8VGzEP/M8uDtrt8U/ICV2bW+3yj/D76ZbdojBPzVB1H0AUsE/SOAPP/89wj+aBdodUgzGP8XFUbmJWso/idAINq5/xT8Rc0nVdhPKP6m9iLZj6rI/0911NuSfyT+N8WH2su3IP3TPukbLgaY/Bn+/mC1ZpT+zXaEPlrHBPw==\",\"dtype\":\"float64\",\"order\":\"little\",\"shape\":[35]},\"index\":[2,5,8,11,14,17,20,23,26,29,32,35,38,41,44,47,50,53,56,59,62,65,68,71,74,77,80,83,86,89,92,95,98,101,104],\"timestamp\":{\"__ndarray__\":\"mMhrsKzndkI/94qwrOd2QlAzqrCs53ZCb3jJsKzndkL0n+iwrOd2QlbyB7Gs53ZC1zEnsazndkKkYEaxrOd2QoWvZbGs53ZCXv6EsazndkI5OKSxrOd2Qj14w7Gs53ZCe7bisazndkJ58wGyrOd2QmI0IbKs53ZCiXlAsqzndkLpsl+yrOd2Qosef7Ks53ZCLTaesqzndkLBfL2yrOd2Qom73LKs53ZCxQL8sqzndkJIOxuzrOd2QsV2OrOs53ZCVMVZs6zndkIE+nizrOd2Qh9BmLOs53ZCoIa3s6zndkL8y9azrOd2Qrbp9bOs53ZCH0EVtKzndkIvfzS0rOd2QnGlU7Ss53ZC2+NytKzndkJIN5K0rOd2Qg==\",\"dtype\":\"float64\",\"order\":\"little\",\"shape\":[35]}},\"selected\":{\"id\":\"1481\"},\"selection_policy\":{\"id\":\"1480\"}},\"id\":\"1434\",\"type\":\"ColumnDataSource\"},{\"attributes\":{},\"id\":\"1478\",\"type\":\"BasicTickFormatter\"},{\"attributes\":{\"line_color\":\"#410967\",\"line_width\":2,\"x\":{\"field\":\"timestamp\"},\"y\":{\"field\":\"duration\"}},\"id\":\"1469\",\"type\":\"Line\"},{\"attributes\":{},\"id\":\"1575\",\"type\":\"BasicTickFormatter\"},{\"attributes\":{},\"id\":\"1477\",\"type\":\"AllLabels\"},{\"attributes\":{\"line_alpha\":0.1,\"line_color\":\"#410967\",\"line_width\":2,\"x\":{\"field\":\"timestamp\"},\"y\":{\"field\":\"duration\"}},\"id\":\"1470\",\"type\":\"Line\"},{\"attributes\":{\"items\":[{\"id\":\"1484\"}],\"label_text_font_size\":\"11px\"},\"id\":\"1483\",\"type\":\"Legend\"}],\"root_ids\":[\"1525\"]},\"title\":\"Bokeh Application\",\"version\":\"2.3.3\"}};\n  var render_items = [{\"docid\":\"132fbe18-2f4d-4fe2-b491-e3636aa95b36\",\"root_ids\":[\"1525\"],\"roots\":{\"1525\":\"a7217bec-f042-4d2a-a912-84d25381a22e\"}}];\n  root.Bokeh.embed.embed_items_notebook(docs_json, render_items);\n\n  }\n  if (root.Bokeh !== undefined) {\n    embed_document(root);\n  } else {\n    var attempts = 0;\n    var timer = setInterval(function(root) {\n      if (root.Bokeh !== undefined) {\n        clearInterval(timer);\n        embed_document(root);\n      } else {\n        attempts++;\n        if (attempts > 100) {\n          clearInterval(timer);\n          console.log(\"Bokeh: ERROR: Unable to run BokehJS code because BokehJS library is missing\");\n        }\n      }\n    }, 10, root)\n  }\n})(window);",
      "application/vnd.bokehjs_exec.v0+json": ""
     },
     "metadata": {
      "application/vnd.bokehjs_exec.v0+json": {
       "id": "1525"
      }
     },
     "output_type": "display_data"
    }
   ],
   "source": [
    "# Plot durations separately\n",
    "colour_i = 0\n",
    "for obj, symbol in callback_symbols.items():\n",
    "    owner_info, temp_info = data_util.get_callback_owner_info(obj)\n",
    "    if owner_info is None:\n",
    "        owner_info = '[unknown]'\n",
    "\n",
    "    # Duration\n",
    "    duration_df = data_util.get_callback_durations(obj)\n",
    "    starttime = duration_df.loc[:, 'timestamp'].iloc[0].strftime('%Y-%m-%d %H:%M')\n",
    "    source = ColumnDataSource(duration_df)\n",
    "    duration = figure(\n",
    "        title=owner_info,\n",
    "        x_axis_label=f'start ({starttime})',\n",
    "        y_axis_label='duration (ms)',\n",
    "        plot_width=psize, plot_height=psize,\n",
    "    )\n",
    "    duration.title.align = 'center'\n",
    "    duration.line(\n",
    "        x='timestamp',\n",
    "        y='duration',\n",
    "        legend=str(symbol),\n",
    "        line_width=2,\n",
    "        source=source,\n",
    "        line_color=colours[colour_i],\n",
    "    )\n",
    "    duration.legend.label_text_font_size = '11px'\n",
    "    duration.xaxis[0].formatter = DatetimeTickFormatter(seconds=['%Ss'])\n",
    "\n",
    "    # Histogram\n",
    "    dur_hist, edges = np.histogram(duration_df['duration'])\n",
    "    duration_hist = pd.DataFrame({\n",
    "        'duration': dur_hist, \n",
    "        'left': edges[:-1], \n",
    "        'right': edges[1:],\n",
    "    })\n",
    "    hist = figure(\n",
    "        title='Duration histogram',\n",
    "        x_axis_label='duration (ms)',\n",
    "        y_axis_label='frequency',\n",
    "        plot_width=psize, plot_height=psize,\n",
    "    )\n",
    "    hist.title.align = 'center'\n",
    "    hist.quad(\n",
    "        bottom=0,\n",
    "        top=duration_hist['duration'], \n",
    "        left=duration_hist['left'],\n",
    "        right=duration_hist['right'],\n",
    "        fill_color=colours[colour_i],\n",
    "        line_color=colours[colour_i],\n",
    "    )\n",
    "\n",
    "    colour_i += 1\n",
    "    show(row(duration, hist))"
   ]
  },
  {
   "cell_type": "code",
   "execution_count": 6,
   "metadata": {},
   "outputs": [
    {
     "name": "stderr",
     "output_type": "stream",
     "text": [
      "BokehDeprecationWarning: 'legend' keyword is deprecated, use explicit 'legend_label', 'legend_field', or 'legend_group' keywords instead\n",
      "BokehDeprecationWarning: 'legend' keyword is deprecated, use explicit 'legend_label', 'legend_field', or 'legend_group' keywords instead\n",
      "BokehDeprecationWarning: 'legend' keyword is deprecated, use explicit 'legend_label', 'legend_field', or 'legend_group' keywords instead\n"
     ]
    },
    {
     "data": {
      "text/html": [
       "\n",
       "\n",
       "\n",
       "\n",
       "\n",
       "\n",
       "  <div class=\"bk-root\" id=\"c9668f21-f89a-46b7-b0a4-3b9adff6148e\" data-root-id=\"1678\"></div>\n"
      ]
     },
     "metadata": {},
     "output_type": "display_data"
    },
    {
     "data": {
      "application/javascript": "(function(root) {\n  function embed_document(root) {\n    \n  var docs_json = {\"6f17fdc7-e3e7-4820-8609-0258c4bd7d7e\":{\"defs\":[],\"roots\":{\"references\":[{\"attributes\":{\"below\":[{\"id\":\"1689\"}],\"center\":[{\"id\":\"1692\"},{\"id\":\"1696\"},{\"id\":\"1727\"}],\"height\":450,\"left\":[{\"id\":\"1693\"}],\"renderers\":[{\"id\":\"1715\"},{\"id\":\"1735\"},{\"id\":\"1754\"}],\"title\":{\"id\":\"1679\"},\"toolbar\":{\"id\":\"1704\"},\"width\":450,\"x_range\":{\"id\":\"1681\"},\"x_scale\":{\"id\":\"1685\"},\"y_range\":{\"id\":\"1683\"},\"y_scale\":{\"id\":\"1687\"}},\"id\":\"1678\",\"subtype\":\"Figure\",\"type\":\"Plot\"},{\"attributes\":{},\"id\":\"1685\",\"type\":\"LinearScale\"},{\"attributes\":{\"overlay\":{\"id\":\"1703\"}},\"id\":\"1699\",\"type\":\"BoxZoomTool\"},{\"attributes\":{\"data_source\":{\"id\":\"1750\"},\"glyph\":{\"id\":\"1752\"},\"hover_glyph\":null,\"muted_glyph\":null,\"nonselection_glyph\":{\"id\":\"1753\"},\"view\":{\"id\":\"1755\"}},\"id\":\"1754\",\"type\":\"GlyphRenderer\"},{\"attributes\":{},\"id\":\"1702\",\"type\":\"HelpTool\"},{\"attributes\":{\"align\":\"center\",\"text\":\"Callback durations\"},\"id\":\"1679\",\"type\":\"Title\"},{\"attributes\":{},\"id\":\"1687\",\"type\":\"LinearScale\"},{\"attributes\":{\"line_alpha\":0.1,\"line_color\":\"#29788E\",\"line_width\":2,\"x\":{\"field\":\"timestamp\"},\"y\":{\"field\":\"duration\"}},\"id\":\"1714\",\"type\":\"Line\"},{\"attributes\":{},\"id\":\"1681\",\"type\":\"DataRange1d\"},{\"attributes\":{\"line_color\":\"#DD4968\",\"line_width\":2,\"x\":{\"field\":\"timestamp\"},\"y\":{\"field\":\"duration\"}},\"id\":\"1733\",\"type\":\"Line\"},{\"attributes\":{},\"id\":\"1698\",\"type\":\"WheelZoomTool\"},{\"attributes\":{},\"id\":\"1745\",\"type\":\"UnionRenderers\"},{\"attributes\":{},\"id\":\"1683\",\"type\":\"DataRange1d\"},{\"attributes\":{},\"id\":\"1697\",\"type\":\"PanTool\"},{\"attributes\":{\"data_source\":{\"id\":\"1731\"},\"glyph\":{\"id\":\"1733\"},\"hover_glyph\":null,\"muted_glyph\":null,\"nonselection_glyph\":{\"id\":\"1734\"},\"view\":{\"id\":\"1736\"}},\"id\":\"1735\",\"type\":\"GlyphRenderer\"},{\"attributes\":{},\"id\":\"1718\",\"type\":\"AllLabels\"},{\"attributes\":{\"data_source\":{\"id\":\"1711\"},\"glyph\":{\"id\":\"1713\"},\"hover_glyph\":null,\"muted_glyph\":null,\"nonselection_glyph\":{\"id\":\"1714\"},\"view\":{\"id\":\"1716\"}},\"id\":\"1715\",\"type\":\"GlyphRenderer\"},{\"attributes\":{},\"id\":\"1701\",\"type\":\"ResetTool\"},{\"attributes\":{\"line_alpha\":0.1,\"line_color\":\"#DD4968\",\"line_width\":2,\"x\":{\"field\":\"timestamp\"},\"y\":{\"field\":\"duration\"}},\"id\":\"1734\",\"type\":\"Line\"},{\"attributes\":{\"line_color\":\"#410967\",\"line_width\":2,\"x\":{\"field\":\"timestamp\"},\"y\":{\"field\":\"duration\"}},\"id\":\"1752\",\"type\":\"Line\"},{\"attributes\":{},\"id\":\"1746\",\"type\":\"Selection\"},{\"attributes\":{\"axis_label\":\"start (2019-11-17 19:15)\",\"formatter\":{\"id\":\"1770\"},\"major_label_policy\":{\"id\":\"1718\"},\"ticker\":{\"id\":\"1690\"}},\"id\":\"1689\",\"type\":\"LinearAxis\"},{\"attributes\":{\"line_alpha\":0.1,\"line_color\":\"#410967\",\"line_width\":2,\"x\":{\"field\":\"timestamp\"},\"y\":{\"field\":\"duration\"}},\"id\":\"1753\",\"type\":\"Line\"},{\"attributes\":{},\"id\":\"1721\",\"type\":\"AllLabels\"},{\"attributes\":{\"active_multi\":null,\"tools\":[{\"id\":\"1697\"},{\"id\":\"1698\"},{\"id\":\"1699\"},{\"id\":\"1700\"},{\"id\":\"1701\"},{\"id\":\"1702\"}]},\"id\":\"1704\",\"type\":\"Toolbar\"},{\"attributes\":{},\"id\":\"1722\",\"type\":\"BasicTickFormatter\"},{\"attributes\":{},\"id\":\"1770\",\"type\":\"DatetimeTickFormatter\"},{\"attributes\":{},\"id\":\"1767\",\"type\":\"Selection\"},{\"attributes\":{},\"id\":\"1724\",\"type\":\"UnionRenderers\"},{\"attributes\":{\"items\":[{\"id\":\"1728\"},{\"id\":\"1748\"},{\"id\":\"1769\"}],\"label_text_font_size\":\"11px\"},\"id\":\"1727\",\"type\":\"Legend\"},{\"attributes\":{\"data\":{\"duration\":{\"__ndarray__\":\"zR39L9eiyT/E0sCPati7Py0FpP0PsLo/HXIz3IDPtz/Y17rUCP2kP9GuQspPqrk/dSFWf4RhuD/6YYTwaOOoP9WT+UffpLU/XTelvFZCxz95AmGnWDXAP3R63o0Fhbk/58OzBBkBuT9WYTPABdm+P8PX17rUCLk/W5TZIJOMvD/mzkwwnGu4P+Z5cHfWbr8/pIl3gCctuD8dA7LXuz+6P/KZ7J+nAcE/CW05l+Kqvj/AWUqWk1C2P56VtOIbCrs/4IYYr3lVyz+OeR1xyAbCP5MehlYnZ7w/sOjWa3pQvD/5Tsx6MZS/P0Kwql5+p6k/9IjRcwtduT9wXpz4ake9P5rqyfyjb6o/kE5d+SzPoz/gTbfsEP+4Pw==\",\"dtype\":\"float64\",\"order\":\"little\",\"shape\":[35]},\"index\":[0,3,6,9,12,15,18,21,24,27,30,33,36,39,42,45,48,51,54,57,60,63,66,69,72,75,78,81,84,87,90,93,96,99,102],\"timestamp\":{\"__ndarray__\":\"pptrsKzndkIC24qwrOd2QskaqrCs53ZCFFrJsKzndkK6l+iwrOd2QuXaB7Gs53ZCIxsnsazndkK0WEaxrOd2QumaZbGs53ZCdd2EsazndkJtHaSxrOd2Qh1cw7Gs53ZCAJzisazndkIC3QGyrOd2QiEcIbKs53ZCnl1AsqzndkLFnF+yrOd2QtncfrKs53ZCZh6esqzndkLsXb2yrOd2Qg6f3LKs53ZC8N37sqzndkJIHRuzrOd2QjleOrOs53ZCG6FZs6zndkIS33izrOd2QrYfmLOs53ZCMWC3s6zndkLhotazrOd2Qhne9bOs53ZCzx8VtKzndkIAYDS0rOd2QpadU7Ss53ZC9txytKzndkJ9H5K0rOd2Qg==\",\"dtype\":\"float64\",\"order\":\"little\",\"shape\":[35]}},\"selected\":{\"id\":\"1725\"},\"selection_policy\":{\"id\":\"1724\"}},\"id\":\"1711\",\"type\":\"ColumnDataSource\"},{\"attributes\":{\"bottom_units\":\"screen\",\"fill_alpha\":0.5,\"fill_color\":\"lightgrey\",\"left_units\":\"screen\",\"level\":\"overlay\",\"line_alpha\":1.0,\"line_color\":\"black\",\"line_dash\":[4,4],\"line_width\":2,\"right_units\":\"screen\",\"syncable\":false,\"top_units\":\"screen\"},\"id\":\"1703\",\"type\":\"BoxAnnotation\"},{\"attributes\":{},\"id\":\"1725\",\"type\":\"Selection\"},{\"attributes\":{\"label\":{\"value\":\"void (PingNode::?)()\"},\"renderers\":[{\"id\":\"1715\"}]},\"id\":\"1728\",\"type\":\"LegendItem\"},{\"attributes\":{\"source\":{\"id\":\"1750\"}},\"id\":\"1755\",\"type\":\"CDSView\"},{\"attributes\":{},\"id\":\"1766\",\"type\":\"UnionRenderers\"},{\"attributes\":{\"source\":{\"id\":\"1711\"}},\"id\":\"1716\",\"type\":\"CDSView\"},{\"attributes\":{\"line_color\":\"#29788E\",\"line_width\":2,\"x\":{\"field\":\"timestamp\"},\"y\":{\"field\":\"duration\"}},\"id\":\"1713\",\"type\":\"Line\"},{\"attributes\":{\"source\":{\"id\":\"1731\"}},\"id\":\"1736\",\"type\":\"CDSView\"},{\"attributes\":{\"data\":{\"duration\":{\"__ndarray__\":\"w/S9huA44T+GHFvPEI7LPxReglMfSMI/Zttpa0QwwD+OA6+WOzOpP/lJtU/HY8Q/d9oaEYyDxT/NI38w8NyrP7SPFfw2xMA/rMq+K4L/yT/ymIHK+PfLPzmZuFUQA8M/Gw5LAz+qyz+2SrA4nPnFPyjWqfI9I8M/M8LbgxCQwz/OjekJSzzEP3RFKSFYVcU/fh04Z0RpxT+3tvC8VGzEP/M8uDtrt8U/ICV2bW+3yj/D76ZbdojBPzVB1H0AUsE/SOAPP/89wj+aBdodUgzGP8XFUbmJWso/idAINq5/xT8Rc0nVdhPKP6m9iLZj6rI/0911NuSfyT+N8WH2su3IP3TPukbLgaY/Bn+/mC1ZpT+zXaEPlrHBPw==\",\"dtype\":\"float64\",\"order\":\"little\",\"shape\":[35]},\"index\":[2,5,8,11,14,17,20,23,26,29,32,35,38,41,44,47,50,53,56,59,62,65,68,71,74,77,80,83,86,89,92,95,98,101,104],\"timestamp\":{\"__ndarray__\":\"mMhrsKzndkI/94qwrOd2QlAzqrCs53ZCb3jJsKzndkL0n+iwrOd2QlbyB7Gs53ZC1zEnsazndkKkYEaxrOd2QoWvZbGs53ZCXv6EsazndkI5OKSxrOd2Qj14w7Gs53ZCe7bisazndkJ58wGyrOd2QmI0IbKs53ZCiXlAsqzndkLpsl+yrOd2Qosef7Ks53ZCLTaesqzndkLBfL2yrOd2Qom73LKs53ZCxQL8sqzndkJIOxuzrOd2QsV2OrOs53ZCVMVZs6zndkIE+nizrOd2Qh9BmLOs53ZCoIa3s6zndkL8y9azrOd2Qrbp9bOs53ZCH0EVtKzndkIvfzS0rOd2QnGlU7Ss53ZC2+NytKzndkJIN5K0rOd2Qg==\",\"dtype\":\"float64\",\"order\":\"little\",\"shape\":[35]}},\"selected\":{\"id\":\"1767\"},\"selection_policy\":{\"id\":\"1766\"}},\"id\":\"1750\",\"type\":\"ColumnDataSource\"},{\"attributes\":{\"label\":{\"value\":\"void (PingNode::?)(std::shared_ptr<std_msgs::msg::String>)\"},\"renderers\":[{\"id\":\"1754\"}]},\"id\":\"1769\",\"type\":\"LegendItem\"},{\"attributes\":{},\"id\":\"1694\",\"type\":\"BasicTicker\"},{\"attributes\":{\"axis_label\":\"duration (ms)\",\"formatter\":{\"id\":\"1722\"},\"major_label_policy\":{\"id\":\"1721\"},\"ticker\":{\"id\":\"1694\"}},\"id\":\"1693\",\"type\":\"LinearAxis\"},{\"attributes\":{},\"id\":\"1690\",\"type\":\"BasicTicker\"},{\"attributes\":{\"label\":{\"value\":\"void (PongNode::?)(std::shared_ptr<std_msgs::msg::String>)\"},\"renderers\":[{\"id\":\"1735\"}]},\"id\":\"1748\",\"type\":\"LegendItem\"},{\"attributes\":{\"axis\":{\"id\":\"1689\"},\"ticker\":null},\"id\":\"1692\",\"type\":\"Grid\"},{\"attributes\":{},\"id\":\"1700\",\"type\":\"SaveTool\"},{\"attributes\":{\"axis\":{\"id\":\"1693\"},\"dimension\":1,\"ticker\":null},\"id\":\"1696\",\"type\":\"Grid\"},{\"attributes\":{\"data\":{\"duration\":{\"__ndarray__\":\"44xhTtCm7D+5NlSM8zfRPx6M2CeAYtA/sBu2Lcpszj+SO2wiMxe4P380nDI3384/0V0SZ0XUyj8f2scKfhuyP3cv98lRgMg/g4jUtItp2j/+17lpM07NPwCpTZzc78o/PbX66qpA0j+FCDiEKjXNPwGG5c+3Bc8/IXU7+8qD2j8hrMYS1sbMPwVtcvikkwNAbAa4IFuWzT/lnNhD+1jXPyTQYFPnUdk/zAhvD0JA3z/uef60UZ3MP0rs2t5uScw/hVs+kpIezj8QXOUJhJ3SP4rkK4GU2M8/RL5LqUvG2T/8OJojK7/RP+ZbH9Ybtb4/MPKyJhb4yj9AUdmwprLRPzFgyVUsfrc/mj474Lpisj+4zr9d9uvSPw==\",\"dtype\":\"float64\",\"order\":\"little\",\"shape\":[35]},\"index\":[1,4,7,10,13,16,19,22,25,28,31,34,37,40,43,46,49,52,55,58,61,64,67,70,73,76,79,82,85,88,91,94,97,100,103],\"timestamp\":{\"__ndarray__\":\"3axrsKzndkKD5oqwrOd2QlYmqrCs53ZChWfJsKzndkK+m+iwrOd2QgTmB7Gs53ZCECYnsazndkJgXUaxrOd2Qj+lZbGs53ZCRO2EsazndkJGKKSxrOd2Qqxow7Gs53ZCZqbisazndkKy5wGyrOd2Qo0nIbKs53ZCHWpAsqzndkKcpl+yrOd2Qi3qfrKs53ZCYiiesqzndkK2a72yrOd2Qims3LKs53ZCL+v7sqzndkJKJhuzrOd2QqxoOrOs53ZCDrlZs6zndkJ163izrOd2QtsxmLOs53ZCrm23s6zndkKPtNazrOd2Qr7j9bOs53ZCrCoVtKzndkJ9bzS0rOd2Qq6hU7Ss53ZCXuBytKzndkI7K5K0rOd2Qg==\",\"dtype\":\"float64\",\"order\":\"little\",\"shape\":[35]}},\"selected\":{\"id\":\"1746\"},\"selection_policy\":{\"id\":\"1745\"}},\"id\":\"1731\",\"type\":\"ColumnDataSource\"}],\"root_ids\":[\"1678\"]},\"title\":\"Bokeh Application\",\"version\":\"2.3.3\"}};\n  var render_items = [{\"docid\":\"6f17fdc7-e3e7-4820-8609-0258c4bd7d7e\",\"root_ids\":[\"1678\"],\"roots\":{\"1678\":\"c9668f21-f89a-46b7-b0a4-3b9adff6148e\"}}];\n  root.Bokeh.embed.embed_items_notebook(docs_json, render_items);\n\n  }\n  if (root.Bokeh !== undefined) {\n    embed_document(root);\n  } else {\n    var attempts = 0;\n    var timer = setInterval(function(root) {\n      if (root.Bokeh !== undefined) {\n        clearInterval(timer);\n        embed_document(root);\n      } else {\n        attempts++;\n        if (attempts > 100) {\n          clearInterval(timer);\n          console.log(\"Bokeh: ERROR: Unable to run BokehJS code because BokehJS library is missing\");\n        }\n      }\n    }, 10, root)\n  }\n})(window);",
      "application/vnd.bokehjs_exec.v0+json": ""
     },
     "metadata": {
      "application/vnd.bokehjs_exec.v0+json": {
       "id": "1678"
      }
     },
     "output_type": "display_data"
    }
   ],
   "source": [
    "# Plot durations in one plot\n",
    "earliest_date = None\n",
    "for obj, symbol in callback_symbols.items():\n",
    "    duration_df = data_util.get_callback_durations(obj)\n",
    "    thedate = duration_df.loc[:, 'timestamp'].iloc[0]\n",
    "    if earliest_date is None or thedate <= earliest_date:\n",
    "        earliest_date = thedate\n",
    "\n",
    "starttime = earliest_date.strftime('%Y-%m-%d %H:%M')\n",
    "duration = figure(\n",
    "    title='Callback durations',\n",
    "    x_axis_label=f'start ({starttime})',\n",
    "    y_axis_label='duration (ms)',\n",
    "    plot_width=psize, plot_height=psize,\n",
    ")\n",
    "\n",
    "colour_i = 0\n",
    "for obj, symbol in callback_symbols.items():\n",
    "    duration_df = data_util.get_callback_durations(obj)\n",
    "    source = ColumnDataSource(duration_df)\n",
    "    duration.title.align = 'center'\n",
    "    duration.line(\n",
    "        x='timestamp',\n",
    "        y='duration',\n",
    "        legend=str(symbol),\n",
    "        line_width=2,\n",
    "        source=source,\n",
    "        line_color=colours[colour_i],\n",
    "    )\n",
    "    colour_i += 1\n",
    "    duration.legend.label_text_font_size = '11px'\n",
    "    duration.xaxis[0].formatter = DatetimeTickFormatter(seconds=['%Ss'])\n",
    "\n",
    "show(duration)"
   ]
  },
  {
   "cell_type": "code",
   "execution_count": null,
   "metadata": {},
   "outputs": [],
   "source": []
  }
 ],
 "metadata": {
  "kernelspec": {
   "display_name": "Python 3 (ipykernel)",
   "language": "python",
   "name": "python3"
  },
  "language_info": {
   "codemirror_mode": {
    "name": "ipython",
    "version": 3
   },
   "file_extension": ".py",
   "mimetype": "text/x-python",
   "name": "python",
   "nbconvert_exporter": "python",
   "pygments_lexer": "ipython3",
   "version": "3.8.10"
  }
 },
 "nbformat": 4,
 "nbformat_minor": 2
}
