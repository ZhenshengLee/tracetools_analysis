{
 "cells": [
  {
   "cell_type": "code",
   "execution_count": 1,
   "id": "8f71a553-1fad-4828-9e72-8351829236a9",
   "metadata": {},
   "outputs": [],
   "source": [
    "import numpy as np\n",
    "import matplotlib.pyplot as plt\n",
    "import collections"
   ]
  },
  {
   "cell_type": "code",
   "execution_count": 2,
   "id": "12468e6b-a162-4a3e-b796-5ef3ab46bbf9",
   "metadata": {},
   "outputs": [
    {
     "name": "stdout",
     "output_type": "stream",
     "text": [
      "94683481026128:/planning/estimate_collision--600\n",
      "94864481839632:/had_maps/HAD_Map_Service--6\n",
      "94832173285216:/planning/plan_lane_trajectory/_action/send_goal--1\n",
      "94832173285232:/planning/plan_lane_trajectory/_action/get_result--1\n",
      "94322865568000:/planning/plan_parking_trajectory/_action/send_goal--1\n",
      "94322865568016:/planning/plan_parking_trajectory/_action/get_result--1\n"
     ]
    }
   ],
   "source": [
    "# service handle\n",
    "path = '/home/rei/reigit/service_request.txt'\n",
    "f = open(path)\n",
    "f.close()\n",
    "with open(path) as f:\n",
    "    l = f.readlines()\n",
    "sh=[]\n",
    "for i in l:\n",
    "    sh.append(i.split('0x')[1].split(',')[0])\n",
    "sh2=[]\n",
    "for i in sh:\n",
    "    sh2.append(str(int(i,16)))\n",
    "s_counter=collections.Counter(sh2)  #how many time did they run?\n",
    "service_counter=dict(s_counter)\n",
    "\n",
    "#connect handle to service name\n",
    "path = '/home/rei/reigit/avpdemo.txt'\n",
    "f = open(path)\n",
    "f.close()\n",
    "with open(path) as f:\n",
    "    l = f.readlines()\n",
    "#client handle\n",
    "S = l.index('Services:\\n')\n",
    "E = l.index('Clients:\\n')\n",
    "service_sn=[]\n",
    "for i in l[S+3:E-1]:\n",
    "    for j in service_counter.keys():\n",
    "         if j == i.split()[0]:\n",
    "             service_sn.append(j+':'+i.split()[4]+'--'+str(service_counter.get(str(j))))\n",
    "for i in service_sn:\n",
    "    print(i)"
   ]
  },
  {
   "cell_type": "code",
   "execution_count": 3,
   "id": "39444dd8-3dea-4e61-9a5f-6c4e8595c04f",
   "metadata": {},
   "outputs": [
    {
     "name": "stdout",
     "output_type": "stream",
     "text": [
      "94729055262288:/had_maps/HAD_Map_Service--1\n",
      "94387741707344:/had_maps/HAD_Map_Service--1\n",
      "94322865305360:/had_maps/HAD_Map_Service--1\n",
      "94832173006016:/had_maps/HAD_Map_Service--1\n",
      "139961240727904:/had_maps/HAD_Map_Service--1\n",
      "94656882958896:/planning/plan_lane_trajectory/_action/send_goal--1\n",
      "94656882958912:/planning/plan_lane_trajectory/_action/get_result--1\n",
      "94656883378480:/planning/plan_parking_trajectory/_action/send_goal--1\n",
      "94656882796928:/had_maps/HAD_Map_Service--1\n",
      "94656882801504:/planning/estimate_collision--600\n"
     ]
    }
   ],
   "source": [
    "# client handle\n",
    "path = '/home/rei/reigit/client_response.txt'\n",
    "f = open(path)\n",
    "f.close()\n",
    "with open(path) as f:\n",
    "    l = f.readlines()\n",
    "ch=[]\n",
    "for i in l:\n",
    "    ch.append(i.split('0x')[1].split(',')[0])\n",
    "ch2=[]\n",
    "for i in ch:\n",
    "    ch2.append(str(int(i,16)))\n",
    "c_counter=collections.Counter(ch2)  #how many time did they run?\n",
    "client_counter=dict(c_counter)\n",
    "\n",
    "#connect handle to service name\n",
    "path = '/home/rei/reigit/avpdemo.txt'\n",
    "f = open(path)\n",
    "f.close()\n",
    "with open(path) as f:\n",
    "    l = f.readlines()\n",
    "#client handle\n",
    "S = l.index('Clients:\\n')\n",
    "E = l.index('Timers:\\n')\n",
    "client_sn=[]\n",
    "for i in l[S+3:E-1]:\n",
    "    for j in client_counter.keys():\n",
    "         if j == i.split()[0]:\n",
    "             client_sn.append(j+':'+i.split()[4]+'--'+str(client_counter.get(str(j))))\n",
    "for i in client_sn:\n",
    "    print(i)"
   ]
  },
  {
   "cell_type": "code",
   "execution_count": 9,
   "id": "b074dfac-6138-4d99-828d-7ccc233e42c3",
   "metadata": {},
   "outputs": [
    {
     "name": "stdout",
     "output_type": "stream",
     "text": [
      "service:client:service name\n",
      "['0x561d3740ae50:0x561705dffb60:/planning/estimate_collision--600', '0x563fd6007f60:0x561705e26230:/planning/plan_lane_trajectory/_action/send_goal--1', '0x563fd6007f70:0x561705e26240:/planning/plan_lane_trajectory/_action/get_result--1', '0x55c940e57900:0x561705e8c930:/planning/plan_parking_trajectory/_action/send_goal--1']\n",
      "['0x563fd6007f60:0x561705e26230:/planning/plan_lane_trajectory/_action/send_goal--1', '0x55c940e57900:0x561705e8c930:/planning/plan_parking_trajectory/_action/send_goal--1'] ['0x563FD6007F60']\n",
      "['0x563fd6007f70:0x561705e26240:/planning/plan_lane_trajectory/_action/get_result--1'] ['0x561705E26240']\n"
     ]
    }
   ],
   "source": [
    "# find service pairs\n",
    "pairs=[]\n",
    "for i in service_sn:\n",
    "    for j in client_sn:\n",
    "        if i.split(':')[1]==j.split(':')[1]:\n",
    "            ser=hex(int(i.split(':')[0]))\n",
    "            cli=hex(int(j.split(':')[0]))\n",
    "            pairs.append(ser+':'+cli+':'+j.split(':')[1])\n",
    "print('service:client:service name')\n",
    "print(pairs)\n",
    "\n",
    "# send goal\n",
    "sendh = [line for line in pairs if 'send_goal' in line]\n",
    "send_handle=[]\n",
    "\n",
    "# get result\n",
    "geth = [line for line in pairs if 'get_result' in line]\n",
    "get_handle=[]\n",
    "\n",
    "# does they has the same service name?\n",
    "for i in sendh:\n",
    "    for j in geth:\n",
    "        if i.split(':')[2].split('send_goal')[0] == j.split(':')[2].split('get_result')[0]:\n",
    "            send_handle.append(i.split(':')[0].upper().replace('X', 'x'))\n",
    "            get_handle.append(j.split(':')[1].upper().replace('X', 'x'))\n",
    "\n",
    "print(sendh,send_handle)\n",
    "print(geth,get_handle)"
   ]
  },
  {
   "cell_type": "code",
   "execution_count": 10,
   "id": "9eec6fcf-d7e1-4279-b597-5d89a6191725",
   "metadata": {},
   "outputs": [],
   "source": [
    "# timestamp of send goal\n",
    "def send_goal(send_handle):\n",
    "    path = '/home/rei/reigit/service_request.txt'\n",
    "    f = open(path)\n",
    "    f.close()\n",
    "    with open(path) as f:\n",
    "        l = f.readlines()\n",
    "    send_time=[]\n",
    "    for i in l:\n",
    "        service = i.split(\",\")[4].split(\" = \")[1]\n",
    "        if (service == send_handle):\n",
    "            send_time.append(i.split(\",\")[5].split(\" = \")[1])\n",
    "    return send_time\n",
    "\n",
    "for i in send_handle:\n",
    "    send_timestamp=send_goal(i)"
   ]
  },
  {
   "cell_type": "code",
   "execution_count": 11,
   "id": "a3f26720-d9f6-42c1-b53d-ac5de63b4eb4",
   "metadata": {},
   "outputs": [],
   "source": [
    "# timestamp of get result\n",
    "def get_result(get_handle):\n",
    "    path = '/home/rei/reigit/client_response.txt'\n",
    "    f = open(path)\n",
    "    f.close()\n",
    "    with open(path) as f:\n",
    "        l = f.readlines()\n",
    "    get_time=[]\n",
    "    for i in l:\n",
    "        client = i.split(\",\")[4].split(\" = \")[1]\n",
    "        if (client == get_handle):\n",
    "            get_time.append(i.split(\",\")[6].split(\" = \")[1].split()[0])\n",
    "    return get_time\n",
    "\n",
    "for i in get_handle:\n",
    "    get_timestamp=get_result(i)"
   ]
  },
  {
   "cell_type": "code",
   "execution_count": 12,
   "id": "830c711e-a349-4848-912e-a18c2d998284",
   "metadata": {},
   "outputs": [
    {
     "name": "stdout",
     "output_type": "stream",
     "text": [
      "230645.562 us\n",
      "['1639903511284341853'] ['1639903511514987415']\n"
     ]
    }
   ],
   "source": [
    "# action latency\n",
    "action_latency = [int(get_timestamp[i])-int(send_timestamp[i]) for i in range(min(len(get_timestamp),len(send_timestamp)))]\n",
    "for i in action_latency:\n",
    "    i=i/1000\n",
    "    print(str(i)+' us')\n",
    "print(send_timestamp,get_timestamp)"
   ]
  },
  {
   "cell_type": "code",
   "execution_count": null,
   "id": "efb4fa62-5d7d-406d-ba9c-5c3c810f7492",
   "metadata": {},
   "outputs": [],
   "source": []
  }
 ],
 "metadata": {
  "kernelspec": {
   "display_name": "Python 3 (ipykernel)",
   "language": "python",
   "name": "python3"
  },
  "language_info": {
   "codemirror_mode": {
    "name": "ipython",
    "version": 3
   },
   "file_extension": ".py",
   "mimetype": "text/x-python",
   "name": "python",
   "nbconvert_exporter": "python",
   "pygments_lexer": "ipython3",
   "version": "3.8.10"
  }
 },
 "nbformat": 4,
 "nbformat_minor": 5
}
