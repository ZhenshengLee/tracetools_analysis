{
 "cells": [
  {
   "cell_type": "code",
   "execution_count": 10,
   "metadata": {},
   "outputs": [],
   "source": [
    "import numpy as np\n",
    "import matplotlib.pyplot as plt\n",
    "x = '\"point_cloud_fil\"'\n",
    "#x = '\"voxel_grid_node\"'\n",
    "#x = '\"p2d_ndt_localiz\"'\n",
    "#x = '\"rviz2\"'\n",
    "#x = '\"lanelet2_global\"'\n",
    "#x = '\"behavior_planne\"'\n",
    "#x = '\"mpc_controller_\"'\n",
    "#x = '\"lgsvl_interface\"'\n",
    "#x = '\"\"'\n",
    "#x = '\"\"'\n",
    "#x = '\"\"'\n",
    "#x = '\"\"'"
   ]
  },
  {
   "cell_type": "code",
   "execution_count": 11,
   "metadata": {},
   "outputs": [
    {
     "name": "stdout",
     "output_type": "stream",
     "text": [
      "callback: {'94317569809968', '94535285595648'}\n",
      "pub_handle: {'94535285532032', '94317569746272'}\n"
     ]
    }
   ],
   "source": [
    "path = '/home/saitama1/AVP_e2e/rclcpp_subscribe.txt'\n",
    "f = open(path)\n",
    "#print(type(f))\n",
    "f.close()\n",
    "#node callback\n",
    "callback = []\n",
    "with open(path) as f:\n",
    "    l = f.readlines()\n",
    "for i in l:\n",
    "    #print(i)\n",
    "    proname = i.split(\",\")[1].split(\"= \")[1].rstrip(' }')\n",
    "    if (proname == x):\n",
    "        #print(x)\n",
    "        cbo = i.split(\",\")[4].split(\"= \")[1]\n",
    "        cbo = cbo.lstrip('0x')\n",
    "        #print(cbo)\n",
    "        cbo = str(int(cbo, 16))\n",
    "        callback.append(cbo)\n",
    "callback = set(callback)\n",
    "print('callback:',callback)\n",
    "\n",
    "path = '/home/saitama1/AVP_e2e/rclcpp_publish.txt'\n",
    "f = open(path)\n",
    "#print(type(f))\n",
    "f.close()\n",
    "#node pub\n",
    "pub_handle = []\n",
    "with open(path) as f:\n",
    "    l = f.readlines()\n",
    "    for i in l:\n",
    "        #print(i)\n",
    "        proname = i.split(\",\")[1].split(\"= \")[1].rstrip(' }')\n",
    "        if (proname == x):\n",
    "            #print(i)\n",
    "            ph = i.split(\",\")[4].split(\"= \")[1]\n",
    "            #print(ph)\n",
    "            ph = ph.lstrip('0x')\n",
    "            ph = str(int(ph, 16))\n",
    "            pub_handle.append(ph)\n",
    "pub_handle = set(pub_handle)\n",
    "print('pub_handle:',pub_handle)"
   ]
  },
  {
   "cell_type": "code",
   "execution_count": 12,
   "metadata": {},
   "outputs": [
    {
     "name": "stdout",
     "output_type": "stream",
     "text": [
      "callback: {'94317569809968', '94535285595648'}\n",
      "topic: ['parameter_events', 'parameter_events'] \n",
      "\n",
      "pub_handle: {'94535285532032', '94317569746272'}\n",
      "topic: ['parameter_events', 'parameter_events']\n"
     ]
    }
   ],
   "source": [
    "path = '/home/saitama1/AVP_e2e/ros2_model.txt'\n",
    "f = open(path)\n",
    "#print(type(f))\n",
    "f.close()\n",
    "with open(path) as f:\n",
    "    l = f.readlines()\n",
    "#callback->topic\n",
    "\n",
    "#find reference\n",
    "refer = []\n",
    "XXX = []\n",
    "print('callback:',callback)\n",
    "\n",
    "S1 = l.index('Callback objects:\\n')\n",
    "E1 = l.index('Callback symbols:\\n')    \n",
    "#print(S1,E1)\n",
    "# for i in l[S1:E1]:\n",
    "#     print(i)\n",
    "for i in callback:\n",
    "    l_XXX = [line for line in l[S1:E1] if i in line]\n",
    "    XXX.append(''.join(l_XXX))\n",
    "#print(XXX)\n",
    "for i in XXX:\n",
    "    refer.append(i.split()[0])\n",
    "#print(refer)\n",
    "\n",
    "#find sub_handle\n",
    "S2 = l.index('Subscription objects:\\n')\n",
    "E2 = l.index('Services:\\n')    \n",
    "#print(S2,E2)\n",
    "# for i in l[S2:E2+1]:\n",
    "#     print(i)\n",
    "sub_handle = []\n",
    "YYY = []\n",
    "for i in refer:\n",
    "    l_YYY = [line for line in l[S2:E2] if i in line]\n",
    "    YYY.append(''.join(l_YYY))\n",
    "#print(YYY)\n",
    "for i in YYY:\n",
    "    #print(i)\n",
    "    sub_handle.append(i.split()[2])\n",
    "#print(sub_handle)\n",
    "\n",
    "#find topic\n",
    "S3 = l.index('Subscriptions:\\n')\n",
    "E3 = l.index('Subscription objects:\\n')    \n",
    "#print(S3,E3)\n",
    "# for i in l[S3:E3+1]:\n",
    "#     print(i)\n",
    "Stopic = []\n",
    "ZZZ = []\n",
    "for i in sub_handle:\n",
    "    l_ZZZ = [line for line in l[S3:E3] if i in line]\n",
    "    ZZZ.append(''.join(l_ZZZ))\n",
    "#print(ZZZ)\n",
    "for i in ZZZ:\n",
    "    Stopic.append(i.split(' /')[1].split(' ')[0])\n",
    "print('topic:',Stopic,'\\n')\n",
    "\n",
    "#pub_handle->topic\n",
    "Ptopic = []\n",
    "with open(path) as f:\n",
    "    l = f.readlines()\n",
    "#pub_handle->topic\n",
    "PPP = []\n",
    "for i in pub_handle:\n",
    "    l_PPP = [line for line in l if i in line]\n",
    "    PPP.append(''.join(l_PPP))\n",
    "#print(PPP)\n",
    "for i in PPP:\n",
    "    Ptopic.append(i.split(' /')[1].split(' ')[0])\n",
    "print('pub_handle:',pub_handle) \n",
    "print('topic:',Ptopic)"
   ]
  },
  {
   "cell_type": "code",
   "execution_count": 13,
   "metadata": {},
   "outputs": [
    {
     "name": "stdout",
     "output_type": "stream",
     "text": [
      "[]\n"
     ]
    }
   ],
   "source": [
    "path = '/home/saitama1/AVP_e2e/ros2_model.txt'\n",
    "f = open(path)\n",
    "#print(type(f))\n",
    "f.close()\n",
    "with open(path) as f:\n",
    "    l = f.readlines()\n",
    "\n",
    "#find cb2\n",
    "S6 = l.index('Callback symbols:\\n')\n",
    "E6 = l.index('Callback instances:\\n')    \n",
    "\n",
    "l_h = [line for line in l[S6:E6] if '94598356687920' in line]\n",
    "print(l_h)"
   ]
  },
  {
   "cell_type": "code",
   "execution_count": null,
   "metadata": {},
   "outputs": [],
   "source": []
  }
 ],
 "metadata": {
  "kernelspec": {
   "display_name": "Python 3",
   "language": "python",
   "name": "python3"
  },
  "language_info": {
   "codemirror_mode": {
    "name": "ipython",
    "version": 3
   },
   "file_extension": ".py",
   "mimetype": "text/x-python",
   "name": "python",
   "nbconvert_exporter": "python",
   "pygments_lexer": "ipython3",
   "version": "3.8.10"
  }
 },
 "nbformat": 4,
 "nbformat_minor": 4
}
